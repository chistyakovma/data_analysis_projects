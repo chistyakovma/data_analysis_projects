{
 "cells": [
  {
   "cell_type": "markdown",
   "metadata": {},
   "source": [
    "# Принятие решений в бизнесе\n",
    "Отдел маркетинга подготовил данные о 9 гипотезах для увеличения выручки. Необходимо приоритизировать гипотезы, запустить A/B тест одной из гипотез и проанализировать результаты."
   ]
  },
  {
   "cell_type": "markdown",
   "metadata": {},
   "source": [
    "## Цели исследования\n",
    "\n",
    "Часть 1. Приоритизация гипотез\n",
    "\n",
    "1. Применить фреймворк ICE для приоритизации гипотез. Отсортировать их по убыванию приоритета.\n",
    "2. Применить фреймворк RICE для приоритизации гипотез. Отсортировать их по убыванию приоритета.\n",
    "3. Указать, как изменилась приоритизация гипотез при применении RICE вместо ICE. Объяснить, почему так произошло.\n",
    "\n",
    "Часть 2. Анализ A/B-теста\n",
    "\n",
    "Проанализировать A/B-тест. Подготовить выводы по следующим пунктам:\n",
    "1. Построить график кумулятивной выручки по группам.\n",
    "2. Построить график кумулятивного среднего чека по группам.\n",
    "3. Построить график относительного изменения кумулятивного среднего чека группы B к группе A.\n",
    "4. Построить график кумулятивного среднего количества заказов на посетителя по группам.\n",
    "5. Построить график относительного изменения кумулятивного среднего количества заказов на посетителя группы B к группе A.\n",
    "6. Построить точечный график количества заказов по пользователям.\n",
    "7. Посчитать 95-й и 99-й перцентили количества заказов на пользователя. Выбрать границу для определения аномальных пользователей.\n",
    "8. Построить точечный график стоимостей заказов.\n",
    "9. Посчитать 95-й и 99-й перцентили стоимости заказов. Выбрать границу для определения аномальных заказов.\n",
    "10. Посчитать статистическую значимость различий в среднем количестве заказов на посетителя между группами по «сырым» данным.\n",
    "11. Посчитать статистическую значимость различий в среднем чеке заказа между группами по «сырым» данным.\n",
    "12. Посчитать статистическую значимость различий в среднем количестве заказов на посетителя между группами по «очищенным» данным.\n",
    "13. Посчитать статистическую значимость различий в среднем чеке заказа между группами по «очищенным» данным.\n",
    "14. Принять решение по результатам теста и объясните его. \n",
    "    Варианты решений: \n",
    "    1. Остановить тест, зафиксировать победу одной из групп. \n",
    "    2. Остановить тест, зафиксировать отсутствие различий между группами. \n",
    "    3. Продолжить тест."
   ]
  },
  {
   "cell_type": "markdown",
   "metadata": {},
   "source": [
    "## Загрузка и подготовка данных"
   ]
  },
  {
   "cell_type": "code",
   "execution_count": 1,
   "metadata": {},
   "outputs": [],
   "source": [
    "#импорт библиотек\n",
    "import pandas as pd\n",
    "import numpy as np\n",
    "import matplotlib.pyplot as plt\n",
    "from scipy import stats as st\n",
    "import datetime as dt\n",
    "import seaborn as sns\n",
    "from IPython.display import display_html\n",
    "pd.set_option('display.max_columns', 30)\n",
    "pd.set_option(\"display.float_format\", \"{:.2f}\".format)\n",
    "pd.set_option('display.max_colwidth', 300)\n",
    "import warnings\n",
    "warnings.simplefilter('ignore')\n",
    "plt.rcParams.update({'figure.figsize': (15,8)})\n",
    "sns.set()"
   ]
  },
  {
   "cell_type": "code",
   "execution_count": 2,
   "metadata": {},
   "outputs": [],
   "source": [
    "#сформируем датасеты\n",
    "data_link = 'https://code.s3.yandex.net/datasets/hypothesis.csv'\n",
    "hypothesis = pd.read_csv(data_link)\n",
    "data_link = 'https://code.s3.yandex.net/datasets/orders.csv'\n",
    "orders = pd.read_csv(data_link)\n",
    "data_link = 'https://code.s3.yandex.net/datasets/visitors.csv'\n",
    "visitors = pd.read_csv(data_link)"
   ]
  },
  {
   "cell_type": "code",
   "execution_count": 3,
   "metadata": {
    "scrolled": false
   },
   "outputs": [
    {
     "name": "stdout",
     "output_type": "stream",
     "text": [
      "----------------------------------------------------------------------------------------------------\n"
     ]
    },
    {
     "data": {
      "text/html": [
       "<div>\n",
       "<style scoped>\n",
       "    .dataframe tbody tr th:only-of-type {\n",
       "        vertical-align: middle;\n",
       "    }\n",
       "\n",
       "    .dataframe tbody tr th {\n",
       "        vertical-align: top;\n",
       "    }\n",
       "\n",
       "    .dataframe thead th {\n",
       "        text-align: right;\n",
       "    }\n",
       "</style>\n",
       "<table border=\"1\" class=\"dataframe\">\n",
       "  <thead>\n",
       "    <tr style=\"text-align: right;\">\n",
       "      <th></th>\n",
       "      <th>Hypothesis</th>\n",
       "      <th>Reach</th>\n",
       "      <th>Impact</th>\n",
       "      <th>Confidence</th>\n",
       "      <th>Efforts</th>\n",
       "    </tr>\n",
       "  </thead>\n",
       "  <tbody>\n",
       "    <tr>\n",
       "      <th>0</th>\n",
       "      <td>Добавить два новых канала привлечения трафика, что позволит привлекать на 30% больше пользователей</td>\n",
       "      <td>3</td>\n",
       "      <td>10</td>\n",
       "      <td>8</td>\n",
       "      <td>6</td>\n",
       "    </tr>\n",
       "    <tr>\n",
       "      <th>1</th>\n",
       "      <td>Запустить собственную службу доставки, что сократит срок доставки заказов</td>\n",
       "      <td>2</td>\n",
       "      <td>5</td>\n",
       "      <td>4</td>\n",
       "      <td>10</td>\n",
       "    </tr>\n",
       "    <tr>\n",
       "      <th>2</th>\n",
       "      <td>Добавить блоки рекомендаций товаров на сайт интернет магазина, чтобы повысить конверсию и средний чек заказа</td>\n",
       "      <td>8</td>\n",
       "      <td>3</td>\n",
       "      <td>7</td>\n",
       "      <td>3</td>\n",
       "    </tr>\n",
       "    <tr>\n",
       "      <th>3</th>\n",
       "      <td>Изменить структура категорий, что увеличит конверсию, т.к. пользователи быстрее найдут нужный товар</td>\n",
       "      <td>8</td>\n",
       "      <td>3</td>\n",
       "      <td>3</td>\n",
       "      <td>8</td>\n",
       "    </tr>\n",
       "    <tr>\n",
       "      <th>4</th>\n",
       "      <td>Изменить цвет фона главной страницы, чтобы увеличить вовлеченность пользователей</td>\n",
       "      <td>3</td>\n",
       "      <td>1</td>\n",
       "      <td>1</td>\n",
       "      <td>1</td>\n",
       "    </tr>\n",
       "  </tbody>\n",
       "</table>\n",
       "</div>"
      ],
      "text/plain": [
       "                                                                                                     Hypothesis  \\\n",
       "0            Добавить два новых канала привлечения трафика, что позволит привлекать на 30% больше пользователей   \n",
       "1                                     Запустить собственную службу доставки, что сократит срок доставки заказов   \n",
       "2  Добавить блоки рекомендаций товаров на сайт интернет магазина, чтобы повысить конверсию и средний чек заказа   \n",
       "3           Изменить структура категорий, что увеличит конверсию, т.к. пользователи быстрее найдут нужный товар   \n",
       "4                              Изменить цвет фона главной страницы, чтобы увеличить вовлеченность пользователей   \n",
       "\n",
       "   Reach  Impact  Confidence  Efforts  \n",
       "0      3      10           8        6  \n",
       "1      2       5           4       10  \n",
       "2      8       3           7        3  \n",
       "3      8       3           3        8  \n",
       "4      3       1           1        1  "
      ]
     },
     "metadata": {},
     "output_type": "display_data"
    },
    {
     "data": {
      "text/html": [
       "<div>\n",
       "<style scoped>\n",
       "    .dataframe tbody tr th:only-of-type {\n",
       "        vertical-align: middle;\n",
       "    }\n",
       "\n",
       "    .dataframe tbody tr th {\n",
       "        vertical-align: top;\n",
       "    }\n",
       "\n",
       "    .dataframe thead th {\n",
       "        text-align: right;\n",
       "    }\n",
       "</style>\n",
       "<table border=\"1\" class=\"dataframe\">\n",
       "  <thead>\n",
       "    <tr style=\"text-align: right;\">\n",
       "      <th></th>\n",
       "      <th>Hypothesis</th>\n",
       "      <th>Reach</th>\n",
       "      <th>Impact</th>\n",
       "      <th>Confidence</th>\n",
       "      <th>Efforts</th>\n",
       "    </tr>\n",
       "  </thead>\n",
       "  <tbody>\n",
       "    <tr>\n",
       "      <th>4</th>\n",
       "      <td>Изменить цвет фона главной страницы, чтобы увеличить вовлеченность пользователей</td>\n",
       "      <td>3</td>\n",
       "      <td>1</td>\n",
       "      <td>1</td>\n",
       "      <td>1</td>\n",
       "    </tr>\n",
       "    <tr>\n",
       "      <th>5</th>\n",
       "      <td>Добавить страницу отзывов клиентов о магазине, что позволит увеличить количество заказов</td>\n",
       "      <td>3</td>\n",
       "      <td>2</td>\n",
       "      <td>2</td>\n",
       "      <td>3</td>\n",
       "    </tr>\n",
       "    <tr>\n",
       "      <th>6</th>\n",
       "      <td>Показать на главной странице баннеры с актуальными акциями и распродажами, чтобы увеличить конверсию</td>\n",
       "      <td>5</td>\n",
       "      <td>3</td>\n",
       "      <td>8</td>\n",
       "      <td>3</td>\n",
       "    </tr>\n",
       "    <tr>\n",
       "      <th>7</th>\n",
       "      <td>Добавить форму подписки на все основные страницы, чтобы собрать базу клиентов для email-рассылок</td>\n",
       "      <td>10</td>\n",
       "      <td>7</td>\n",
       "      <td>8</td>\n",
       "      <td>5</td>\n",
       "    </tr>\n",
       "    <tr>\n",
       "      <th>8</th>\n",
       "      <td>Запустить акцию, дающую скидку на товар в день рождения</td>\n",
       "      <td>1</td>\n",
       "      <td>9</td>\n",
       "      <td>9</td>\n",
       "      <td>5</td>\n",
       "    </tr>\n",
       "  </tbody>\n",
       "</table>\n",
       "</div>"
      ],
      "text/plain": [
       "                                                                                             Hypothesis  \\\n",
       "4                      Изменить цвет фона главной страницы, чтобы увеличить вовлеченность пользователей   \n",
       "5              Добавить страницу отзывов клиентов о магазине, что позволит увеличить количество заказов   \n",
       "6  Показать на главной странице баннеры с актуальными акциями и распродажами, чтобы увеличить конверсию   \n",
       "7      Добавить форму подписки на все основные страницы, чтобы собрать базу клиентов для email-рассылок   \n",
       "8                                               Запустить акцию, дающую скидку на товар в день рождения   \n",
       "\n",
       "   Reach  Impact  Confidence  Efforts  \n",
       "4      3       1           1        1  \n",
       "5      3       2           2        3  \n",
       "6      5       3           8        3  \n",
       "7     10       7           8        5  \n",
       "8      1       9           9        5  "
      ]
     },
     "metadata": {},
     "output_type": "display_data"
    },
    {
     "data": {
      "text/html": [
       "<div>\n",
       "<style scoped>\n",
       "    .dataframe tbody tr th:only-of-type {\n",
       "        vertical-align: middle;\n",
       "    }\n",
       "\n",
       "    .dataframe tbody tr th {\n",
       "        vertical-align: top;\n",
       "    }\n",
       "\n",
       "    .dataframe thead th {\n",
       "        text-align: right;\n",
       "    }\n",
       "</style>\n",
       "<table border=\"1\" class=\"dataframe\">\n",
       "  <thead>\n",
       "    <tr style=\"text-align: right;\">\n",
       "      <th></th>\n",
       "      <th>Hypothesis</th>\n",
       "      <th>Reach</th>\n",
       "      <th>Impact</th>\n",
       "      <th>Confidence</th>\n",
       "      <th>Efforts</th>\n",
       "    </tr>\n",
       "  </thead>\n",
       "  <tbody>\n",
       "    <tr>\n",
       "      <th>1</th>\n",
       "      <td>Запустить собственную службу доставки, что сократит срок доставки заказов</td>\n",
       "      <td>2</td>\n",
       "      <td>5</td>\n",
       "      <td>4</td>\n",
       "      <td>10</td>\n",
       "    </tr>\n",
       "  </tbody>\n",
       "</table>\n",
       "</div>"
      ],
      "text/plain": [
       "                                                                  Hypothesis  \\\n",
       "1  Запустить собственную службу доставки, что сократит срок доставки заказов   \n",
       "\n",
       "   Reach  Impact  Confidence  Efforts  \n",
       "1      2       5           4       10  "
      ]
     },
     "metadata": {},
     "output_type": "display_data"
    },
    {
     "data": {
      "text/html": [
       "<div>\n",
       "<style scoped>\n",
       "    .dataframe tbody tr th:only-of-type {\n",
       "        vertical-align: middle;\n",
       "    }\n",
       "\n",
       "    .dataframe tbody tr th {\n",
       "        vertical-align: top;\n",
       "    }\n",
       "\n",
       "    .dataframe thead th {\n",
       "        text-align: right;\n",
       "    }\n",
       "</style>\n",
       "<table border=\"1\" class=\"dataframe\">\n",
       "  <thead>\n",
       "    <tr style=\"text-align: right;\">\n",
       "      <th></th>\n",
       "      <th>count</th>\n",
       "      <th>mean</th>\n",
       "      <th>std</th>\n",
       "      <th>min</th>\n",
       "      <th>5%</th>\n",
       "      <th>25%</th>\n",
       "      <th>50%</th>\n",
       "      <th>75%</th>\n",
       "      <th>95%</th>\n",
       "      <th>99%</th>\n",
       "      <th>max</th>\n",
       "    </tr>\n",
       "  </thead>\n",
       "  <tbody>\n",
       "    <tr>\n",
       "      <th>Reach</th>\n",
       "      <td>9.00</td>\n",
       "      <td>4.78</td>\n",
       "      <td>3.15</td>\n",
       "      <td>1.00</td>\n",
       "      <td>1.40</td>\n",
       "      <td>3.00</td>\n",
       "      <td>3.00</td>\n",
       "      <td>8.00</td>\n",
       "      <td>9.20</td>\n",
       "      <td>9.84</td>\n",
       "      <td>10.00</td>\n",
       "    </tr>\n",
       "    <tr>\n",
       "      <th>Impact</th>\n",
       "      <td>9.00</td>\n",
       "      <td>4.78</td>\n",
       "      <td>3.19</td>\n",
       "      <td>1.00</td>\n",
       "      <td>1.40</td>\n",
       "      <td>3.00</td>\n",
       "      <td>3.00</td>\n",
       "      <td>7.00</td>\n",
       "      <td>9.60</td>\n",
       "      <td>9.92</td>\n",
       "      <td>10.00</td>\n",
       "    </tr>\n",
       "    <tr>\n",
       "      <th>Confidence</th>\n",
       "      <td>9.00</td>\n",
       "      <td>5.56</td>\n",
       "      <td>3.05</td>\n",
       "      <td>1.00</td>\n",
       "      <td>1.40</td>\n",
       "      <td>3.00</td>\n",
       "      <td>7.00</td>\n",
       "      <td>8.00</td>\n",
       "      <td>8.60</td>\n",
       "      <td>8.92</td>\n",
       "      <td>9.00</td>\n",
       "    </tr>\n",
       "    <tr>\n",
       "      <th>Efforts</th>\n",
       "      <td>9.00</td>\n",
       "      <td>4.89</td>\n",
       "      <td>2.80</td>\n",
       "      <td>1.00</td>\n",
       "      <td>1.80</td>\n",
       "      <td>3.00</td>\n",
       "      <td>5.00</td>\n",
       "      <td>6.00</td>\n",
       "      <td>9.20</td>\n",
       "      <td>9.84</td>\n",
       "      <td>10.00</td>\n",
       "    </tr>\n",
       "  </tbody>\n",
       "</table>\n",
       "</div>"
      ],
      "text/plain": [
       "            count  mean  std  min   5%  25%  50%  75%  95%  99%   max\n",
       "Reach        9.00  4.78 3.15 1.00 1.40 3.00 3.00 8.00 9.20 9.84 10.00\n",
       "Impact       9.00  4.78 3.19 1.00 1.40 3.00 3.00 7.00 9.60 9.92 10.00\n",
       "Confidence   9.00  5.56 3.05 1.00 1.40 3.00 7.00 8.00 8.60 8.92  9.00\n",
       "Efforts      9.00  4.89 2.80 1.00 1.80 3.00 5.00 6.00 9.20 9.84 10.00"
      ]
     },
     "metadata": {},
     "output_type": "display_data"
    },
    {
     "name": "stdout",
     "output_type": "stream",
     "text": [
      "<class 'pandas.core.frame.DataFrame'>\n",
      "RangeIndex: 9 entries, 0 to 8\n",
      "Data columns (total 5 columns):\n",
      " #   Column      Non-Null Count  Dtype \n",
      "---  ------      --------------  ----- \n",
      " 0   Hypothesis  9 non-null      object\n",
      " 1   Reach       9 non-null      int64 \n",
      " 2   Impact      9 non-null      int64 \n",
      " 3   Confidence  9 non-null      int64 \n",
      " 4   Efforts     9 non-null      int64 \n",
      "dtypes: int64(4), object(1)\n",
      "memory usage: 488.0+ bytes\n"
     ]
    },
    {
     "data": {
      "text/plain": [
       "None"
      ]
     },
     "metadata": {},
     "output_type": "display_data"
    },
    {
     "data": {
      "text/plain": [
       "0"
      ]
     },
     "metadata": {},
     "output_type": "display_data"
    },
    {
     "name": "stdout",
     "output_type": "stream",
     "text": [
      "\n",
      "----------------------------------------------------------------------------------------------------\n"
     ]
    },
    {
     "data": {
      "text/html": [
       "<div>\n",
       "<style scoped>\n",
       "    .dataframe tbody tr th:only-of-type {\n",
       "        vertical-align: middle;\n",
       "    }\n",
       "\n",
       "    .dataframe tbody tr th {\n",
       "        vertical-align: top;\n",
       "    }\n",
       "\n",
       "    .dataframe thead th {\n",
       "        text-align: right;\n",
       "    }\n",
       "</style>\n",
       "<table border=\"1\" class=\"dataframe\">\n",
       "  <thead>\n",
       "    <tr style=\"text-align: right;\">\n",
       "      <th></th>\n",
       "      <th>transactionId</th>\n",
       "      <th>visitorId</th>\n",
       "      <th>date</th>\n",
       "      <th>revenue</th>\n",
       "      <th>group</th>\n",
       "    </tr>\n",
       "  </thead>\n",
       "  <tbody>\n",
       "    <tr>\n",
       "      <th>0</th>\n",
       "      <td>3667963787</td>\n",
       "      <td>3312258926</td>\n",
       "      <td>2019-08-15</td>\n",
       "      <td>1650</td>\n",
       "      <td>B</td>\n",
       "    </tr>\n",
       "    <tr>\n",
       "      <th>1</th>\n",
       "      <td>2804400009</td>\n",
       "      <td>3642806036</td>\n",
       "      <td>2019-08-15</td>\n",
       "      <td>730</td>\n",
       "      <td>B</td>\n",
       "    </tr>\n",
       "    <tr>\n",
       "      <th>2</th>\n",
       "      <td>2961555356</td>\n",
       "      <td>4069496402</td>\n",
       "      <td>2019-08-15</td>\n",
       "      <td>400</td>\n",
       "      <td>A</td>\n",
       "    </tr>\n",
       "    <tr>\n",
       "      <th>3</th>\n",
       "      <td>3797467345</td>\n",
       "      <td>1196621759</td>\n",
       "      <td>2019-08-15</td>\n",
       "      <td>9759</td>\n",
       "      <td>B</td>\n",
       "    </tr>\n",
       "    <tr>\n",
       "      <th>4</th>\n",
       "      <td>2282983706</td>\n",
       "      <td>2322279887</td>\n",
       "      <td>2019-08-15</td>\n",
       "      <td>2308</td>\n",
       "      <td>B</td>\n",
       "    </tr>\n",
       "  </tbody>\n",
       "</table>\n",
       "</div>"
      ],
      "text/plain": [
       "   transactionId   visitorId        date  revenue group\n",
       "0     3667963787  3312258926  2019-08-15     1650     B\n",
       "1     2804400009  3642806036  2019-08-15      730     B\n",
       "2     2961555356  4069496402  2019-08-15      400     A\n",
       "3     3797467345  1196621759  2019-08-15     9759     B\n",
       "4     2282983706  2322279887  2019-08-15     2308     B"
      ]
     },
     "metadata": {},
     "output_type": "display_data"
    },
    {
     "data": {
      "text/html": [
       "<div>\n",
       "<style scoped>\n",
       "    .dataframe tbody tr th:only-of-type {\n",
       "        vertical-align: middle;\n",
       "    }\n",
       "\n",
       "    .dataframe tbody tr th {\n",
       "        vertical-align: top;\n",
       "    }\n",
       "\n",
       "    .dataframe thead th {\n",
       "        text-align: right;\n",
       "    }\n",
       "</style>\n",
       "<table border=\"1\" class=\"dataframe\">\n",
       "  <thead>\n",
       "    <tr style=\"text-align: right;\">\n",
       "      <th></th>\n",
       "      <th>transactionId</th>\n",
       "      <th>visitorId</th>\n",
       "      <th>date</th>\n",
       "      <th>revenue</th>\n",
       "      <th>group</th>\n",
       "    </tr>\n",
       "  </thead>\n",
       "  <tbody>\n",
       "    <tr>\n",
       "      <th>1192</th>\n",
       "      <td>2662137336</td>\n",
       "      <td>3733762160</td>\n",
       "      <td>2019-08-14</td>\n",
       "      <td>6490</td>\n",
       "      <td>B</td>\n",
       "    </tr>\n",
       "    <tr>\n",
       "      <th>1193</th>\n",
       "      <td>2203539145</td>\n",
       "      <td>370388673</td>\n",
       "      <td>2019-08-14</td>\n",
       "      <td>3190</td>\n",
       "      <td>A</td>\n",
       "    </tr>\n",
       "    <tr>\n",
       "      <th>1194</th>\n",
       "      <td>1807773912</td>\n",
       "      <td>573423106</td>\n",
       "      <td>2019-08-14</td>\n",
       "      <td>10550</td>\n",
       "      <td>A</td>\n",
       "    </tr>\n",
       "    <tr>\n",
       "      <th>1195</th>\n",
       "      <td>1947021204</td>\n",
       "      <td>1614305549</td>\n",
       "      <td>2019-08-14</td>\n",
       "      <td>100</td>\n",
       "      <td>A</td>\n",
       "    </tr>\n",
       "    <tr>\n",
       "      <th>1196</th>\n",
       "      <td>3936777065</td>\n",
       "      <td>2108080724</td>\n",
       "      <td>2019-08-15</td>\n",
       "      <td>202740</td>\n",
       "      <td>B</td>\n",
       "    </tr>\n",
       "  </tbody>\n",
       "</table>\n",
       "</div>"
      ],
      "text/plain": [
       "      transactionId   visitorId        date  revenue group\n",
       "1192     2662137336  3733762160  2019-08-14     6490     B\n",
       "1193     2203539145   370388673  2019-08-14     3190     A\n",
       "1194     1807773912   573423106  2019-08-14    10550     A\n",
       "1195     1947021204  1614305549  2019-08-14      100     A\n",
       "1196     3936777065  2108080724  2019-08-15   202740     B"
      ]
     },
     "metadata": {},
     "output_type": "display_data"
    },
    {
     "data": {
      "text/html": [
       "<div>\n",
       "<style scoped>\n",
       "    .dataframe tbody tr th:only-of-type {\n",
       "        vertical-align: middle;\n",
       "    }\n",
       "\n",
       "    .dataframe tbody tr th {\n",
       "        vertical-align: top;\n",
       "    }\n",
       "\n",
       "    .dataframe thead th {\n",
       "        text-align: right;\n",
       "    }\n",
       "</style>\n",
       "<table border=\"1\" class=\"dataframe\">\n",
       "  <thead>\n",
       "    <tr style=\"text-align: right;\">\n",
       "      <th></th>\n",
       "      <th>transactionId</th>\n",
       "      <th>visitorId</th>\n",
       "      <th>date</th>\n",
       "      <th>revenue</th>\n",
       "      <th>group</th>\n",
       "    </tr>\n",
       "  </thead>\n",
       "  <tbody>\n",
       "    <tr>\n",
       "      <th>1072</th>\n",
       "      <td>3559692217</td>\n",
       "      <td>2306096143</td>\n",
       "      <td>2019-08-12</td>\n",
       "      <td>1780</td>\n",
       "      <td>A</td>\n",
       "    </tr>\n",
       "  </tbody>\n",
       "</table>\n",
       "</div>"
      ],
      "text/plain": [
       "      transactionId   visitorId        date  revenue group\n",
       "1072     3559692217  2306096143  2019-08-12     1780     A"
      ]
     },
     "metadata": {},
     "output_type": "display_data"
    },
    {
     "data": {
      "text/html": [
       "<div>\n",
       "<style scoped>\n",
       "    .dataframe tbody tr th:only-of-type {\n",
       "        vertical-align: middle;\n",
       "    }\n",
       "\n",
       "    .dataframe tbody tr th {\n",
       "        vertical-align: top;\n",
       "    }\n",
       "\n",
       "    .dataframe thead th {\n",
       "        text-align: right;\n",
       "    }\n",
       "</style>\n",
       "<table border=\"1\" class=\"dataframe\">\n",
       "  <thead>\n",
       "    <tr style=\"text-align: right;\">\n",
       "      <th></th>\n",
       "      <th>count</th>\n",
       "      <th>mean</th>\n",
       "      <th>std</th>\n",
       "      <th>min</th>\n",
       "      <th>5%</th>\n",
       "      <th>25%</th>\n",
       "      <th>50%</th>\n",
       "      <th>75%</th>\n",
       "      <th>95%</th>\n",
       "      <th>99%</th>\n",
       "      <th>max</th>\n",
       "    </tr>\n",
       "  </thead>\n",
       "  <tbody>\n",
       "    <tr>\n",
       "      <th>transactionId</th>\n",
       "      <td>1197.00</td>\n",
       "      <td>2155621385.53</td>\n",
       "      <td>1229084904.76</td>\n",
       "      <td>1062393.00</td>\n",
       "      <td>233632506.40</td>\n",
       "      <td>1166775572.00</td>\n",
       "      <td>2145193898.00</td>\n",
       "      <td>3237740112.00</td>\n",
       "      <td>4067471456.20</td>\n",
       "      <td>4239148157.32</td>\n",
       "      <td>4293855558.00</td>\n",
       "    </tr>\n",
       "    <tr>\n",
       "      <th>visitorId</th>\n",
       "      <td>1197.00</td>\n",
       "      <td>2165960143.10</td>\n",
       "      <td>1236014192.15</td>\n",
       "      <td>5114589.00</td>\n",
       "      <td>236484761.40</td>\n",
       "      <td>1111826046.00</td>\n",
       "      <td>2217984702.00</td>\n",
       "      <td>3177606451.00</td>\n",
       "      <td>4080749199.80</td>\n",
       "      <td>4256040402.00</td>\n",
       "      <td>4283872382.00</td>\n",
       "    </tr>\n",
       "    <tr>\n",
       "      <th>revenue</th>\n",
       "      <td>1197.00</td>\n",
       "      <td>8348.01</td>\n",
       "      <td>39191.13</td>\n",
       "      <td>50.00</td>\n",
       "      <td>300.00</td>\n",
       "      <td>1220.00</td>\n",
       "      <td>2978.00</td>\n",
       "      <td>8290.00</td>\n",
       "      <td>28000.00</td>\n",
       "      <td>58233.20</td>\n",
       "      <td>1294500.00</td>\n",
       "    </tr>\n",
       "  </tbody>\n",
       "</table>\n",
       "</div>"
      ],
      "text/plain": [
       "                count          mean           std        min           5%  \\\n",
       "transactionId 1197.00 2155621385.53 1229084904.76 1062393.00 233632506.40   \n",
       "visitorId     1197.00 2165960143.10 1236014192.15 5114589.00 236484761.40   \n",
       "revenue       1197.00       8348.01      39191.13      50.00       300.00   \n",
       "\n",
       "                        25%           50%           75%           95%  \\\n",
       "transactionId 1166775572.00 2145193898.00 3237740112.00 4067471456.20   \n",
       "visitorId     1111826046.00 2217984702.00 3177606451.00 4080749199.80   \n",
       "revenue             1220.00       2978.00       8290.00      28000.00   \n",
       "\n",
       "                        99%           max  \n",
       "transactionId 4239148157.32 4293855558.00  \n",
       "visitorId     4256040402.00 4283872382.00  \n",
       "revenue            58233.20    1294500.00  "
      ]
     },
     "metadata": {},
     "output_type": "display_data"
    },
    {
     "name": "stdout",
     "output_type": "stream",
     "text": [
      "<class 'pandas.core.frame.DataFrame'>\n",
      "RangeIndex: 1197 entries, 0 to 1196\n",
      "Data columns (total 5 columns):\n",
      " #   Column         Non-Null Count  Dtype \n",
      "---  ------         --------------  ----- \n",
      " 0   transactionId  1197 non-null   int64 \n",
      " 1   visitorId      1197 non-null   int64 \n",
      " 2   date           1197 non-null   object\n",
      " 3   revenue        1197 non-null   int64 \n",
      " 4   group          1197 non-null   object\n",
      "dtypes: int64(3), object(2)\n",
      "memory usage: 46.9+ KB\n"
     ]
    },
    {
     "data": {
      "text/plain": [
       "None"
      ]
     },
     "metadata": {},
     "output_type": "display_data"
    },
    {
     "data": {
      "text/plain": [
       "0"
      ]
     },
     "metadata": {},
     "output_type": "display_data"
    },
    {
     "name": "stdout",
     "output_type": "stream",
     "text": [
      "\n",
      "----------------------------------------------------------------------------------------------------\n"
     ]
    },
    {
     "data": {
      "text/html": [
       "<div>\n",
       "<style scoped>\n",
       "    .dataframe tbody tr th:only-of-type {\n",
       "        vertical-align: middle;\n",
       "    }\n",
       "\n",
       "    .dataframe tbody tr th {\n",
       "        vertical-align: top;\n",
       "    }\n",
       "\n",
       "    .dataframe thead th {\n",
       "        text-align: right;\n",
       "    }\n",
       "</style>\n",
       "<table border=\"1\" class=\"dataframe\">\n",
       "  <thead>\n",
       "    <tr style=\"text-align: right;\">\n",
       "      <th></th>\n",
       "      <th>date</th>\n",
       "      <th>group</th>\n",
       "      <th>visitors</th>\n",
       "    </tr>\n",
       "  </thead>\n",
       "  <tbody>\n",
       "    <tr>\n",
       "      <th>0</th>\n",
       "      <td>2019-08-01</td>\n",
       "      <td>A</td>\n",
       "      <td>719</td>\n",
       "    </tr>\n",
       "    <tr>\n",
       "      <th>1</th>\n",
       "      <td>2019-08-02</td>\n",
       "      <td>A</td>\n",
       "      <td>619</td>\n",
       "    </tr>\n",
       "    <tr>\n",
       "      <th>2</th>\n",
       "      <td>2019-08-03</td>\n",
       "      <td>A</td>\n",
       "      <td>507</td>\n",
       "    </tr>\n",
       "    <tr>\n",
       "      <th>3</th>\n",
       "      <td>2019-08-04</td>\n",
       "      <td>A</td>\n",
       "      <td>717</td>\n",
       "    </tr>\n",
       "    <tr>\n",
       "      <th>4</th>\n",
       "      <td>2019-08-05</td>\n",
       "      <td>A</td>\n",
       "      <td>756</td>\n",
       "    </tr>\n",
       "  </tbody>\n",
       "</table>\n",
       "</div>"
      ],
      "text/plain": [
       "         date group  visitors\n",
       "0  2019-08-01     A       719\n",
       "1  2019-08-02     A       619\n",
       "2  2019-08-03     A       507\n",
       "3  2019-08-04     A       717\n",
       "4  2019-08-05     A       756"
      ]
     },
     "metadata": {},
     "output_type": "display_data"
    },
    {
     "data": {
      "text/html": [
       "<div>\n",
       "<style scoped>\n",
       "    .dataframe tbody tr th:only-of-type {\n",
       "        vertical-align: middle;\n",
       "    }\n",
       "\n",
       "    .dataframe tbody tr th {\n",
       "        vertical-align: top;\n",
       "    }\n",
       "\n",
       "    .dataframe thead th {\n",
       "        text-align: right;\n",
       "    }\n",
       "</style>\n",
       "<table border=\"1\" class=\"dataframe\">\n",
       "  <thead>\n",
       "    <tr style=\"text-align: right;\">\n",
       "      <th></th>\n",
       "      <th>date</th>\n",
       "      <th>group</th>\n",
       "      <th>visitors</th>\n",
       "    </tr>\n",
       "  </thead>\n",
       "  <tbody>\n",
       "    <tr>\n",
       "      <th>57</th>\n",
       "      <td>2019-08-27</td>\n",
       "      <td>B</td>\n",
       "      <td>720</td>\n",
       "    </tr>\n",
       "    <tr>\n",
       "      <th>58</th>\n",
       "      <td>2019-08-28</td>\n",
       "      <td>B</td>\n",
       "      <td>654</td>\n",
       "    </tr>\n",
       "    <tr>\n",
       "      <th>59</th>\n",
       "      <td>2019-08-29</td>\n",
       "      <td>B</td>\n",
       "      <td>531</td>\n",
       "    </tr>\n",
       "    <tr>\n",
       "      <th>60</th>\n",
       "      <td>2019-08-30</td>\n",
       "      <td>B</td>\n",
       "      <td>490</td>\n",
       "    </tr>\n",
       "    <tr>\n",
       "      <th>61</th>\n",
       "      <td>2019-08-31</td>\n",
       "      <td>B</td>\n",
       "      <td>718</td>\n",
       "    </tr>\n",
       "  </tbody>\n",
       "</table>\n",
       "</div>"
      ],
      "text/plain": [
       "          date group  visitors\n",
       "57  2019-08-27     B       720\n",
       "58  2019-08-28     B       654\n",
       "59  2019-08-29     B       531\n",
       "60  2019-08-30     B       490\n",
       "61  2019-08-31     B       718"
      ]
     },
     "metadata": {},
     "output_type": "display_data"
    },
    {
     "data": {
      "text/html": [
       "<div>\n",
       "<style scoped>\n",
       "    .dataframe tbody tr th:only-of-type {\n",
       "        vertical-align: middle;\n",
       "    }\n",
       "\n",
       "    .dataframe tbody tr th {\n",
       "        vertical-align: top;\n",
       "    }\n",
       "\n",
       "    .dataframe thead th {\n",
       "        text-align: right;\n",
       "    }\n",
       "</style>\n",
       "<table border=\"1\" class=\"dataframe\">\n",
       "  <thead>\n",
       "    <tr style=\"text-align: right;\">\n",
       "      <th></th>\n",
       "      <th>date</th>\n",
       "      <th>group</th>\n",
       "      <th>visitors</th>\n",
       "    </tr>\n",
       "  </thead>\n",
       "  <tbody>\n",
       "    <tr>\n",
       "      <th>44</th>\n",
       "      <td>2019-08-14</td>\n",
       "      <td>B</td>\n",
       "      <td>746</td>\n",
       "    </tr>\n",
       "  </tbody>\n",
       "</table>\n",
       "</div>"
      ],
      "text/plain": [
       "          date group  visitors\n",
       "44  2019-08-14     B       746"
      ]
     },
     "metadata": {},
     "output_type": "display_data"
    },
    {
     "data": {
      "text/html": [
       "<div>\n",
       "<style scoped>\n",
       "    .dataframe tbody tr th:only-of-type {\n",
       "        vertical-align: middle;\n",
       "    }\n",
       "\n",
       "    .dataframe tbody tr th {\n",
       "        vertical-align: top;\n",
       "    }\n",
       "\n",
       "    .dataframe thead th {\n",
       "        text-align: right;\n",
       "    }\n",
       "</style>\n",
       "<table border=\"1\" class=\"dataframe\">\n",
       "  <thead>\n",
       "    <tr style=\"text-align: right;\">\n",
       "      <th></th>\n",
       "      <th>count</th>\n",
       "      <th>mean</th>\n",
       "      <th>std</th>\n",
       "      <th>min</th>\n",
       "      <th>5%</th>\n",
       "      <th>25%</th>\n",
       "      <th>50%</th>\n",
       "      <th>75%</th>\n",
       "      <th>95%</th>\n",
       "      <th>99%</th>\n",
       "      <th>max</th>\n",
       "    </tr>\n",
       "  </thead>\n",
       "  <tbody>\n",
       "    <tr>\n",
       "      <th>visitors</th>\n",
       "      <td>62.00</td>\n",
       "      <td>607.29</td>\n",
       "      <td>114.40</td>\n",
       "      <td>361.00</td>\n",
       "      <td>395.55</td>\n",
       "      <td>534.00</td>\n",
       "      <td>624.50</td>\n",
       "      <td>710.50</td>\n",
       "      <td>747.90</td>\n",
       "      <td>769.39</td>\n",
       "      <td>770.00</td>\n",
       "    </tr>\n",
       "  </tbody>\n",
       "</table>\n",
       "</div>"
      ],
      "text/plain": [
       "          count   mean    std    min     5%    25%    50%    75%    95%  \\\n",
       "visitors  62.00 607.29 114.40 361.00 395.55 534.00 624.50 710.50 747.90   \n",
       "\n",
       "            99%    max  \n",
       "visitors 769.39 770.00  "
      ]
     },
     "metadata": {},
     "output_type": "display_data"
    },
    {
     "name": "stdout",
     "output_type": "stream",
     "text": [
      "<class 'pandas.core.frame.DataFrame'>\n",
      "RangeIndex: 62 entries, 0 to 61\n",
      "Data columns (total 3 columns):\n",
      " #   Column    Non-Null Count  Dtype \n",
      "---  ------    --------------  ----- \n",
      " 0   date      62 non-null     object\n",
      " 1   group     62 non-null     object\n",
      " 2   visitors  62 non-null     int64 \n",
      "dtypes: int64(1), object(2)\n",
      "memory usage: 1.6+ KB\n"
     ]
    },
    {
     "data": {
      "text/plain": [
       "None"
      ]
     },
     "metadata": {},
     "output_type": "display_data"
    },
    {
     "data": {
      "text/plain": [
       "0"
      ]
     },
     "metadata": {},
     "output_type": "display_data"
    },
    {
     "name": "stdout",
     "output_type": "stream",
     "text": [
      "\n"
     ]
    }
   ],
   "source": [
    "for data in [hypothesis, orders, visitors]:\n",
    "    print('-' * 100)\n",
    "    display (data.head())\n",
    "    display (data.tail())\n",
    "    display (data.sample())\n",
    "    display (data.describe(percentiles=[0.05, 1/4, 1/2, 3/4, 0.95, 0.99]).T)\n",
    "    display (data.info())\n",
    "    display (data.duplicated().sum())\n",
    "    print()"
   ]
  },
  {
   "cell_type": "markdown",
   "metadata": {},
   "source": [
    "Согласно документации к данным:\n",
    "Таблица hypothesis.csv содержит данные о гипотезах:\n",
    "\n",
    "* Hypothesis — краткое описание гипотезы;\n",
    "* Reach — охват пользователей по 10-балльной шкале;\n",
    "* Impact — влияние на пользователей по 10-балльной шкале;\n",
    "* Confidence — уверенность в гипотезе по 10-балльной шкале;\n",
    "* Efforts — затраты ресурсов на проверку гипотезы по 10-балльной шкале. Чем больше значение Efforts, тем дороже проверка гипотезы.\n",
    "\n",
    "Таблица  orders.csv содержит данные о заказах в период проведения A/B теста:\n",
    "\n",
    "* transactionId — идентификатор заказа;\n",
    "* visitorId — идентификатор пользователя, совершившего заказ;\n",
    "* date — дата, когда был совершён заказ;\n",
    "* revenue — выручка заказа;\n",
    "* group — группа A/B-теста, в которую попал заказ.\n",
    "\n",
    "Таблица visitors.csv содержит данные о посетителях сайта в период A/B теста:\n",
    "\n",
    "* date — дата;\n",
    "* group — группа A/B-теста;\n",
    "* visitors — количество пользователей в указанную дату в указанной группе A/B-теста\n",
    "\n",
    "Пропусков и явных дубликатов в данных нет, но названия столбцов не соответствуют snake case. Так же данные о времени имею неверный формат. Исправим это."
   ]
  },
  {
   "cell_type": "code",
   "execution_count": 4,
   "metadata": {},
   "outputs": [],
   "source": [
    "#приведем к snake case\n",
    "hypothesis.columns = [x.lower() for x in hypothesis.columns.values]\n",
    "orders.columns = [x.replace('Id', '_id') for x in orders.columns.values]"
   ]
  },
  {
   "cell_type": "code",
   "execution_count": 5,
   "metadata": {},
   "outputs": [],
   "source": [
    "#преобразование данных о времени\n",
    "orders['date'] = pd.to_datetime(orders['date']).dt.date\n",
    "visitors['date'] = pd.to_datetime(visitors['date']).dt.date"
   ]
  },
  {
   "cell_type": "code",
   "execution_count": 6,
   "metadata": {},
   "outputs": [
    {
     "name": "stdout",
     "output_type": "stream",
     "text": [
      "<class 'pandas.core.frame.DataFrame'>\n",
      "RangeIndex: 9 entries, 0 to 8\n",
      "Data columns (total 5 columns):\n",
      " #   Column      Non-Null Count  Dtype \n",
      "---  ------      --------------  ----- \n",
      " 0   hypothesis  9 non-null      object\n",
      " 1   reach       9 non-null      int64 \n",
      " 2   impact      9 non-null      int64 \n",
      " 3   confidence  9 non-null      int64 \n",
      " 4   efforts     9 non-null      int64 \n",
      "dtypes: int64(4), object(1)\n",
      "memory usage: 488.0+ bytes\n"
     ]
    },
    {
     "data": {
      "text/plain": [
       "None"
      ]
     },
     "metadata": {},
     "output_type": "display_data"
    },
    {
     "name": "stdout",
     "output_type": "stream",
     "text": [
      "<class 'pandas.core.frame.DataFrame'>\n",
      "RangeIndex: 1197 entries, 0 to 1196\n",
      "Data columns (total 5 columns):\n",
      " #   Column          Non-Null Count  Dtype \n",
      "---  ------          --------------  ----- \n",
      " 0   transaction_id  1197 non-null   int64 \n",
      " 1   visitor_id      1197 non-null   int64 \n",
      " 2   date            1197 non-null   object\n",
      " 3   revenue         1197 non-null   int64 \n",
      " 4   group           1197 non-null   object\n",
      "dtypes: int64(3), object(2)\n",
      "memory usage: 46.9+ KB\n"
     ]
    },
    {
     "data": {
      "text/plain": [
       "None"
      ]
     },
     "metadata": {},
     "output_type": "display_data"
    },
    {
     "name": "stdout",
     "output_type": "stream",
     "text": [
      "<class 'pandas.core.frame.DataFrame'>\n",
      "RangeIndex: 62 entries, 0 to 61\n",
      "Data columns (total 3 columns):\n",
      " #   Column    Non-Null Count  Dtype \n",
      "---  ------    --------------  ----- \n",
      " 0   date      62 non-null     object\n",
      " 1   group     62 non-null     object\n",
      " 2   visitors  62 non-null     int64 \n",
      "dtypes: int64(1), object(2)\n",
      "memory usage: 1.6+ KB\n"
     ]
    },
    {
     "data": {
      "text/plain": [
       "None"
      ]
     },
     "metadata": {},
     "output_type": "display_data"
    }
   ],
   "source": [
    "#посмотрим результат\n",
    "display (hypothesis.info())\n",
    "display (orders.info())\n",
    "display (visitors.info())"
   ]
  },
  {
   "cell_type": "code",
   "execution_count": 7,
   "metadata": {},
   "outputs": [
    {
     "name": "stdout",
     "output_type": "stream",
     "text": [
      "Количество уникальных значений:\n"
     ]
    },
    {
     "data": {
      "text/plain": [
       "Запустить акцию, дающую скидку на товар в день рождения                                                         1\n",
       "Показать на главной странице баннеры с актуальными акциями и распродажами, чтобы увеличить конверсию            1\n",
       "Добавить страницу отзывов клиентов о магазине, что позволит увеличить количество заказов                        1\n",
       "Добавить блоки рекомендаций товаров на сайт интернет магазина, чтобы повысить конверсию и средний чек заказа    1\n",
       "Добавить форму подписки на все основные страницы, чтобы собрать базу клиентов для email-рассылок                1\n",
       "Добавить два новых канала привлечения трафика, что позволит привлекать на 30% больше пользователей              1\n",
       "Изменить структура категорий, что увеличит конверсию, т.к. пользователи быстрее найдут нужный товар             1\n",
       "Запустить собственную службу доставки, что сократит срок доставки заказов                                       1\n",
       "Изменить цвет фона главной страницы, чтобы увеличить вовлеченность пользователей                                1\n",
       "Name: hypothesis, dtype: int64"
      ]
     },
     "metadata": {},
     "output_type": "display_data"
    },
    {
     "name": "stdout",
     "output_type": "stream",
     "text": [
      "----------------------------------------------------------------------------------------------------\n",
      "\n",
      "Количество уникальных значений:\n"
     ]
    },
    {
     "data": {
      "text/plain": [
       "3     3\n",
       "8     2\n",
       "1     1\n",
       "2     1\n",
       "5     1\n",
       "10    1\n",
       "Name: reach, dtype: int64"
      ]
     },
     "metadata": {},
     "output_type": "display_data"
    },
    {
     "name": "stdout",
     "output_type": "stream",
     "text": [
      "----------------------------------------------------------------------------------------------------\n",
      "\n",
      "Количество уникальных значений:\n"
     ]
    },
    {
     "data": {
      "text/plain": [
       "3     3\n",
       "1     1\n",
       "2     1\n",
       "5     1\n",
       "7     1\n",
       "9     1\n",
       "10    1\n",
       "Name: impact, dtype: int64"
      ]
     },
     "metadata": {},
     "output_type": "display_data"
    },
    {
     "name": "stdout",
     "output_type": "stream",
     "text": [
      "----------------------------------------------------------------------------------------------------\n",
      "\n",
      "Количество уникальных значений:\n"
     ]
    },
    {
     "data": {
      "text/plain": [
       "8    3\n",
       "1    1\n",
       "2    1\n",
       "3    1\n",
       "4    1\n",
       "7    1\n",
       "9    1\n",
       "Name: confidence, dtype: int64"
      ]
     },
     "metadata": {},
     "output_type": "display_data"
    },
    {
     "name": "stdout",
     "output_type": "stream",
     "text": [
      "----------------------------------------------------------------------------------------------------\n",
      "\n",
      "Количество уникальных значений:\n"
     ]
    },
    {
     "data": {
      "text/plain": [
       "3     3\n",
       "5     2\n",
       "1     1\n",
       "6     1\n",
       "8     1\n",
       "10    1\n",
       "Name: efforts, dtype: int64"
      ]
     },
     "metadata": {},
     "output_type": "display_data"
    },
    {
     "name": "stdout",
     "output_type": "stream",
     "text": [
      "----------------------------------------------------------------------------------------------------\n",
      "\n",
      "Количество уникальных значений:\n"
     ]
    },
    {
     "data": {
      "text/plain": [
       "2019-08-03    2\n",
       "2019-08-26    2\n",
       "2019-08-01    2\n",
       "2019-08-14    2\n",
       "2019-08-13    2\n",
       "2019-08-10    2\n",
       "2019-08-22    2\n",
       "2019-08-15    2\n",
       "2019-08-20    2\n",
       "2019-08-24    2\n",
       "2019-08-05    2\n",
       "2019-08-18    2\n",
       "2019-08-31    2\n",
       "2019-08-27    2\n",
       "2019-08-04    2\n",
       "2019-08-12    2\n",
       "2019-08-02    2\n",
       "2019-08-09    2\n",
       "2019-08-25    2\n",
       "2019-08-19    2\n",
       "2019-08-07    2\n",
       "2019-08-23    2\n",
       "2019-08-08    2\n",
       "2019-08-16    2\n",
       "2019-08-30    2\n",
       "2019-08-17    2\n",
       "2019-08-11    2\n",
       "2019-08-21    2\n",
       "2019-08-29    2\n",
       "2019-08-06    2\n",
       "2019-08-28    2\n",
       "Name: date, dtype: int64"
      ]
     },
     "metadata": {},
     "output_type": "display_data"
    },
    {
     "name": "stdout",
     "output_type": "stream",
     "text": [
      "----------------------------------------------------------------------------------------------------\n",
      "\n",
      "Количество уникальных значений:\n"
     ]
    },
    {
     "data": {
      "text/plain": [
       "B    31\n",
       "A    31\n",
       "Name: group, dtype: int64"
      ]
     },
     "metadata": {},
     "output_type": "display_data"
    },
    {
     "name": "stdout",
     "output_type": "stream",
     "text": [
      "----------------------------------------------------------------------------------------------------\n",
      "\n",
      "Количество уникальных значений:\n"
     ]
    },
    {
     "data": {
      "text/plain": [
       "610    2\n",
       "718    2\n",
       "654    2\n",
       "490    2\n",
       "609    1\n",
       "717    1\n",
       "719    1\n",
       "720    1\n",
       "721    1\n",
       "594    1\n",
       "722    1\n",
       "468    1\n",
       "595    1\n",
       "756    1\n",
       "735    1\n",
       "769    1\n",
       "711    1\n",
       "668    1\n",
       "487    1\n",
       "361    1\n",
       "746    1\n",
       "619    1\n",
       "748    1\n",
       "621    1\n",
       "369    1\n",
       "628    1\n",
       "709    1\n",
       "378    1\n",
       "507    1\n",
       "713    1\n",
       "581    1\n",
       "770    1\n",
       "413    1\n",
       "644    1\n",
       "646    1\n",
       "650    1\n",
       "395    1\n",
       "655    1\n",
       "737    1\n",
       "531    1\n",
       "502    1\n",
       "406    1\n",
       "667    1\n",
       "412    1\n",
       "543    1\n",
       "707    1\n",
       "544    1\n",
       "546    1\n",
       "676    1\n",
       "421    1\n",
       "617    1\n",
       "679    1\n",
       "560    1\n",
       "656    1\n",
       "699    1\n",
       "575    1\n",
       "577    1\n",
       "509    1\n",
       "Name: visitors, dtype: int64"
      ]
     },
     "metadata": {},
     "output_type": "display_data"
    },
    {
     "name": "stdout",
     "output_type": "stream",
     "text": [
      "----------------------------------------------------------------------------------------------------\n",
      "\n",
      "Количество уникальных значений:\n"
     ]
    },
    {
     "data": {
      "text/plain": [
       "1658608862    1\n",
       "2211880073    1\n",
       "3913205113    1\n",
       "437656952     1\n",
       "3592105335    1\n",
       "             ..\n",
       "2872509092    1\n",
       "2013919907    1\n",
       "3154167297    1\n",
       "2960804513    1\n",
       "4281129020    1\n",
       "Name: transaction_id, Length: 1197, dtype: int64"
      ]
     },
     "metadata": {},
     "output_type": "display_data"
    },
    {
     "name": "stdout",
     "output_type": "stream",
     "text": [
      "----------------------------------------------------------------------------------------------------\n",
      "\n",
      "Количество уникальных значений:\n"
     ]
    },
    {
     "data": {
      "text/plain": [
       "4256040402    11\n",
       "2458001652    11\n",
       "2378935119     9\n",
       "2038680547     8\n",
       "199603092      5\n",
       "              ..\n",
       "2406916810     1\n",
       "1255412427     1\n",
       "3866069709     1\n",
       "54447517       1\n",
       "3013339133     1\n",
       "Name: visitor_id, Length: 1031, dtype: int64"
      ]
     },
     "metadata": {},
     "output_type": "display_data"
    },
    {
     "name": "stdout",
     "output_type": "stream",
     "text": [
      "----------------------------------------------------------------------------------------------------\n",
      "\n",
      "Количество уникальных значений:\n"
     ]
    },
    {
     "data": {
      "text/plain": [
       "2019-08-05    48\n",
       "2019-08-12    47\n",
       "2019-08-14    47\n",
       "2019-08-06    46\n",
       "2019-08-15    46\n",
       "2019-08-01    45\n",
       "2019-08-28    45\n",
       "2019-08-27    44\n",
       "2019-08-02    44\n",
       "2019-08-08    43\n",
       "2019-08-19    43\n",
       "2019-08-07    42\n",
       "2019-08-29    42\n",
       "2019-08-09    41\n",
       "2019-08-26    41\n",
       "2019-08-22    41\n",
       "2019-08-03    40\n",
       "2019-08-23    40\n",
       "2019-08-10    39\n",
       "2019-08-16    38\n",
       "2019-08-21    37\n",
       "2019-08-30    35\n",
       "2019-08-13    35\n",
       "2019-08-04    33\n",
       "2019-08-31    32\n",
       "2019-08-20    32\n",
       "2019-08-24    31\n",
       "2019-08-18    26\n",
       "2019-08-11    26\n",
       "2019-08-25    24\n",
       "2019-08-17    24\n",
       "Name: date, dtype: int64"
      ]
     },
     "metadata": {},
     "output_type": "display_data"
    },
    {
     "name": "stdout",
     "output_type": "stream",
     "text": [
      "----------------------------------------------------------------------------------------------------\n",
      "\n",
      "Количество уникальных значений:\n"
     ]
    },
    {
     "data": {
      "text/plain": [
       "990       17\n",
       "890       13\n",
       "390       13\n",
       "1190      10\n",
       "400       10\n",
       "          ..\n",
       "6440       1\n",
       "45780      1\n",
       "725        1\n",
       "9800       1\n",
       "202740     1\n",
       "Name: revenue, Length: 713, dtype: int64"
      ]
     },
     "metadata": {},
     "output_type": "display_data"
    },
    {
     "name": "stdout",
     "output_type": "stream",
     "text": [
      "----------------------------------------------------------------------------------------------------\n",
      "\n",
      "Количество уникальных значений:\n"
     ]
    },
    {
     "data": {
      "text/plain": [
       "B    640\n",
       "A    557\n",
       "Name: group, dtype: int64"
      ]
     },
     "metadata": {},
     "output_type": "display_data"
    },
    {
     "name": "stdout",
     "output_type": "stream",
     "text": [
      "----------------------------------------------------------------------------------------------------\n",
      "\n"
     ]
    }
   ],
   "source": [
    "#проведем более подробный поиск дубликатов\n",
    "for data in [hypothesis, visitors, orders]:\n",
    "    for column in data:\n",
    "        print('Количество уникальных значений:')\n",
    "        display(data[column].value_counts())\n",
    "        print('-' * 100)\n",
    "        print()"
   ]
  },
  {
   "cell_type": "markdown",
   "metadata": {},
   "source": [
    "Ничего подозрительного в данных я не нашел. Можно переходить в гипотезам. "
   ]
  },
  {
   "cell_type": "markdown",
   "metadata": {},
   "source": [
    "## Приоритизация гипотез\n",
    "Датасет hypothesis содержит 9 гипотез по увеличению выручки интернет-магазина с указанными параметрами Reach, Impact, Confidence, Effort.\n",
    "\n",
    "Задачи:\n",
    "1. Применить фреймворк ICE для приоритизации гипотез. Отсортировать их по убыванию приоритета.\n",
    "2. Применить фреймворк RICE для приоритизации гипотез. Отсортировать их по убыванию приоритета.\n",
    "3. Указать, как изменилась приоритизация гипотез при применении RICE вместо ICE. Объяснить, почему так произошло."
   ]
  },
  {
   "cell_type": "markdown",
   "metadata": {},
   "source": [
    "### Приоритизация по ICE"
   ]
  },
  {
   "cell_type": "code",
   "execution_count": 8,
   "metadata": {},
   "outputs": [
    {
     "data": {
      "text/html": [
       "<div>\n",
       "<style scoped>\n",
       "    .dataframe tbody tr th:only-of-type {\n",
       "        vertical-align: middle;\n",
       "    }\n",
       "\n",
       "    .dataframe tbody tr th {\n",
       "        vertical-align: top;\n",
       "    }\n",
       "\n",
       "    .dataframe thead th {\n",
       "        text-align: right;\n",
       "    }\n",
       "</style>\n",
       "<table border=\"1\" class=\"dataframe\">\n",
       "  <thead>\n",
       "    <tr style=\"text-align: right;\">\n",
       "      <th></th>\n",
       "      <th>hypothesis</th>\n",
       "      <th>reach</th>\n",
       "      <th>impact</th>\n",
       "      <th>confidence</th>\n",
       "      <th>efforts</th>\n",
       "      <th>ICE</th>\n",
       "    </tr>\n",
       "  </thead>\n",
       "  <tbody>\n",
       "    <tr>\n",
       "      <th>8</th>\n",
       "      <td>Запустить акцию, дающую скидку на товар в день рождения</td>\n",
       "      <td>1</td>\n",
       "      <td>9</td>\n",
       "      <td>9</td>\n",
       "      <td>5</td>\n",
       "      <td>16.20</td>\n",
       "    </tr>\n",
       "    <tr>\n",
       "      <th>0</th>\n",
       "      <td>Добавить два новых канала привлечения трафика, что позволит привлекать на 30% больше пользователей</td>\n",
       "      <td>3</td>\n",
       "      <td>10</td>\n",
       "      <td>8</td>\n",
       "      <td>6</td>\n",
       "      <td>13.33</td>\n",
       "    </tr>\n",
       "    <tr>\n",
       "      <th>7</th>\n",
       "      <td>Добавить форму подписки на все основные страницы, чтобы собрать базу клиентов для email-рассылок</td>\n",
       "      <td>10</td>\n",
       "      <td>7</td>\n",
       "      <td>8</td>\n",
       "      <td>5</td>\n",
       "      <td>11.20</td>\n",
       "    </tr>\n",
       "    <tr>\n",
       "      <th>6</th>\n",
       "      <td>Показать на главной странице баннеры с актуальными акциями и распродажами, чтобы увеличить конверсию</td>\n",
       "      <td>5</td>\n",
       "      <td>3</td>\n",
       "      <td>8</td>\n",
       "      <td>3</td>\n",
       "      <td>8.00</td>\n",
       "    </tr>\n",
       "    <tr>\n",
       "      <th>2</th>\n",
       "      <td>Добавить блоки рекомендаций товаров на сайт интернет магазина, чтобы повысить конверсию и средний чек заказа</td>\n",
       "      <td>8</td>\n",
       "      <td>3</td>\n",
       "      <td>7</td>\n",
       "      <td>3</td>\n",
       "      <td>7.00</td>\n",
       "    </tr>\n",
       "    <tr>\n",
       "      <th>1</th>\n",
       "      <td>Запустить собственную службу доставки, что сократит срок доставки заказов</td>\n",
       "      <td>2</td>\n",
       "      <td>5</td>\n",
       "      <td>4</td>\n",
       "      <td>10</td>\n",
       "      <td>2.00</td>\n",
       "    </tr>\n",
       "    <tr>\n",
       "      <th>5</th>\n",
       "      <td>Добавить страницу отзывов клиентов о магазине, что позволит увеличить количество заказов</td>\n",
       "      <td>3</td>\n",
       "      <td>2</td>\n",
       "      <td>2</td>\n",
       "      <td>3</td>\n",
       "      <td>1.33</td>\n",
       "    </tr>\n",
       "    <tr>\n",
       "      <th>3</th>\n",
       "      <td>Изменить структура категорий, что увеличит конверсию, т.к. пользователи быстрее найдут нужный товар</td>\n",
       "      <td>8</td>\n",
       "      <td>3</td>\n",
       "      <td>3</td>\n",
       "      <td>8</td>\n",
       "      <td>1.12</td>\n",
       "    </tr>\n",
       "    <tr>\n",
       "      <th>4</th>\n",
       "      <td>Изменить цвет фона главной страницы, чтобы увеличить вовлеченность пользователей</td>\n",
       "      <td>3</td>\n",
       "      <td>1</td>\n",
       "      <td>1</td>\n",
       "      <td>1</td>\n",
       "      <td>1.00</td>\n",
       "    </tr>\n",
       "  </tbody>\n",
       "</table>\n",
       "</div>"
      ],
      "text/plain": [
       "                                                                                                     hypothesis  \\\n",
       "8                                                       Запустить акцию, дающую скидку на товар в день рождения   \n",
       "0            Добавить два новых канала привлечения трафика, что позволит привлекать на 30% больше пользователей   \n",
       "7              Добавить форму подписки на все основные страницы, чтобы собрать базу клиентов для email-рассылок   \n",
       "6          Показать на главной странице баннеры с актуальными акциями и распродажами, чтобы увеличить конверсию   \n",
       "2  Добавить блоки рекомендаций товаров на сайт интернет магазина, чтобы повысить конверсию и средний чек заказа   \n",
       "1                                     Запустить собственную службу доставки, что сократит срок доставки заказов   \n",
       "5                      Добавить страницу отзывов клиентов о магазине, что позволит увеличить количество заказов   \n",
       "3           Изменить структура категорий, что увеличит конверсию, т.к. пользователи быстрее найдут нужный товар   \n",
       "4                              Изменить цвет фона главной страницы, чтобы увеличить вовлеченность пользователей   \n",
       "\n",
       "   reach  impact  confidence  efforts   ICE  \n",
       "8      1       9           9        5 16.20  \n",
       "0      3      10           8        6 13.33  \n",
       "7     10       7           8        5 11.20  \n",
       "6      5       3           8        3  8.00  \n",
       "2      8       3           7        3  7.00  \n",
       "1      2       5           4       10  2.00  \n",
       "5      3       2           2        3  1.33  \n",
       "3      8       3           3        8  1.12  \n",
       "4      3       1           1        1  1.00  "
      ]
     },
     "metadata": {},
     "output_type": "display_data"
    }
   ],
   "source": [
    "#расчитаем ICE и добавим оценку в таблицу\n",
    "hypothesis['ICE'] = (hypothesis['impact'] * hypothesis['confidence']) / hypothesis['efforts']\n",
    "\n",
    "#выведем на экран\n",
    "display(hypothesis.sort_values(by='ICE', ascending=False))"
   ]
  },
  {
   "cell_type": "markdown",
   "metadata": {},
   "source": [
    "### Приоритизация по RICE"
   ]
  },
  {
   "cell_type": "code",
   "execution_count": 9,
   "metadata": {},
   "outputs": [
    {
     "data": {
      "text/html": [
       "<div>\n",
       "<style scoped>\n",
       "    .dataframe tbody tr th:only-of-type {\n",
       "        vertical-align: middle;\n",
       "    }\n",
       "\n",
       "    .dataframe tbody tr th {\n",
       "        vertical-align: top;\n",
       "    }\n",
       "\n",
       "    .dataframe thead th {\n",
       "        text-align: right;\n",
       "    }\n",
       "</style>\n",
       "<table border=\"1\" class=\"dataframe\">\n",
       "  <thead>\n",
       "    <tr style=\"text-align: right;\">\n",
       "      <th></th>\n",
       "      <th>hypothesis</th>\n",
       "      <th>reach</th>\n",
       "      <th>impact</th>\n",
       "      <th>confidence</th>\n",
       "      <th>efforts</th>\n",
       "      <th>ICE</th>\n",
       "      <th>RICE</th>\n",
       "    </tr>\n",
       "  </thead>\n",
       "  <tbody>\n",
       "    <tr>\n",
       "      <th>7</th>\n",
       "      <td>Добавить форму подписки на все основные страницы, чтобы собрать базу клиентов для email-рассылок</td>\n",
       "      <td>10</td>\n",
       "      <td>7</td>\n",
       "      <td>8</td>\n",
       "      <td>5</td>\n",
       "      <td>11.20</td>\n",
       "      <td>112.00</td>\n",
       "    </tr>\n",
       "    <tr>\n",
       "      <th>2</th>\n",
       "      <td>Добавить блоки рекомендаций товаров на сайт интернет магазина, чтобы повысить конверсию и средний чек заказа</td>\n",
       "      <td>8</td>\n",
       "      <td>3</td>\n",
       "      <td>7</td>\n",
       "      <td>3</td>\n",
       "      <td>7.00</td>\n",
       "      <td>56.00</td>\n",
       "    </tr>\n",
       "    <tr>\n",
       "      <th>0</th>\n",
       "      <td>Добавить два новых канала привлечения трафика, что позволит привлекать на 30% больше пользователей</td>\n",
       "      <td>3</td>\n",
       "      <td>10</td>\n",
       "      <td>8</td>\n",
       "      <td>6</td>\n",
       "      <td>13.33</td>\n",
       "      <td>40.00</td>\n",
       "    </tr>\n",
       "    <tr>\n",
       "      <th>6</th>\n",
       "      <td>Показать на главной странице баннеры с актуальными акциями и распродажами, чтобы увеличить конверсию</td>\n",
       "      <td>5</td>\n",
       "      <td>3</td>\n",
       "      <td>8</td>\n",
       "      <td>3</td>\n",
       "      <td>8.00</td>\n",
       "      <td>40.00</td>\n",
       "    </tr>\n",
       "    <tr>\n",
       "      <th>8</th>\n",
       "      <td>Запустить акцию, дающую скидку на товар в день рождения</td>\n",
       "      <td>1</td>\n",
       "      <td>9</td>\n",
       "      <td>9</td>\n",
       "      <td>5</td>\n",
       "      <td>16.20</td>\n",
       "      <td>16.20</td>\n",
       "    </tr>\n",
       "    <tr>\n",
       "      <th>3</th>\n",
       "      <td>Изменить структура категорий, что увеличит конверсию, т.к. пользователи быстрее найдут нужный товар</td>\n",
       "      <td>8</td>\n",
       "      <td>3</td>\n",
       "      <td>3</td>\n",
       "      <td>8</td>\n",
       "      <td>1.12</td>\n",
       "      <td>9.00</td>\n",
       "    </tr>\n",
       "    <tr>\n",
       "      <th>1</th>\n",
       "      <td>Запустить собственную службу доставки, что сократит срок доставки заказов</td>\n",
       "      <td>2</td>\n",
       "      <td>5</td>\n",
       "      <td>4</td>\n",
       "      <td>10</td>\n",
       "      <td>2.00</td>\n",
       "      <td>4.00</td>\n",
       "    </tr>\n",
       "    <tr>\n",
       "      <th>5</th>\n",
       "      <td>Добавить страницу отзывов клиентов о магазине, что позволит увеличить количество заказов</td>\n",
       "      <td>3</td>\n",
       "      <td>2</td>\n",
       "      <td>2</td>\n",
       "      <td>3</td>\n",
       "      <td>1.33</td>\n",
       "      <td>4.00</td>\n",
       "    </tr>\n",
       "    <tr>\n",
       "      <th>4</th>\n",
       "      <td>Изменить цвет фона главной страницы, чтобы увеличить вовлеченность пользователей</td>\n",
       "      <td>3</td>\n",
       "      <td>1</td>\n",
       "      <td>1</td>\n",
       "      <td>1</td>\n",
       "      <td>1.00</td>\n",
       "      <td>3.00</td>\n",
       "    </tr>\n",
       "  </tbody>\n",
       "</table>\n",
       "</div>"
      ],
      "text/plain": [
       "                                                                                                     hypothesis  \\\n",
       "7              Добавить форму подписки на все основные страницы, чтобы собрать базу клиентов для email-рассылок   \n",
       "2  Добавить блоки рекомендаций товаров на сайт интернет магазина, чтобы повысить конверсию и средний чек заказа   \n",
       "0            Добавить два новых канала привлечения трафика, что позволит привлекать на 30% больше пользователей   \n",
       "6          Показать на главной странице баннеры с актуальными акциями и распродажами, чтобы увеличить конверсию   \n",
       "8                                                       Запустить акцию, дающую скидку на товар в день рождения   \n",
       "3           Изменить структура категорий, что увеличит конверсию, т.к. пользователи быстрее найдут нужный товар   \n",
       "1                                     Запустить собственную службу доставки, что сократит срок доставки заказов   \n",
       "5                      Добавить страницу отзывов клиентов о магазине, что позволит увеличить количество заказов   \n",
       "4                              Изменить цвет фона главной страницы, чтобы увеличить вовлеченность пользователей   \n",
       "\n",
       "   reach  impact  confidence  efforts   ICE   RICE  \n",
       "7     10       7           8        5 11.20 112.00  \n",
       "2      8       3           7        3  7.00  56.00  \n",
       "0      3      10           8        6 13.33  40.00  \n",
       "6      5       3           8        3  8.00  40.00  \n",
       "8      1       9           9        5 16.20  16.20  \n",
       "3      8       3           3        8  1.12   9.00  \n",
       "1      2       5           4       10  2.00   4.00  \n",
       "5      3       2           2        3  1.33   4.00  \n",
       "4      3       1           1        1  1.00   3.00  "
      ]
     },
     "metadata": {},
     "output_type": "display_data"
    }
   ],
   "source": [
    "#расчитаем RICE и добавим оценку в таблицу\n",
    "hypothesis['RICE'] = (hypothesis['reach'] * hypothesis['impact'] * hypothesis['confidence']) / hypothesis['efforts']\n",
    "\n",
    "#выведем на экран\n",
    "display(hypothesis.sort_values(by='RICE', ascending=False))"
   ]
  },
  {
   "cell_type": "markdown",
   "metadata": {},
   "source": [
    "Сразу видно, что изменение приоритизации гипотез происходит под влиянием параметра reach.\n",
    "По RICE первое место занимает гипотеза с наибольшим охватом. Естественно, без учета этого параметра она опускается во фреймворке ICE на третье место.\n",
    "Первое место по ICE занимает гипотеза с высокими показателями метрик кроме охвата из за редкого применения. Она применяется только в дни рождения. Поэтому данная гипотеза не попадает в топ фреймворка RICE, даже при учете остальных отличных показателей.\n",
    "\n",
    "Охват имеет превалирующее значение при приоритизации гипотез со средними параметрами. Однако, даже высокий охват не способен значительно изменить приоритизацию гипотез с высокими параметрами."
   ]
  },
  {
   "cell_type": "code",
   "execution_count": 10,
   "metadata": {},
   "outputs": [
    {
     "data": {
      "image/png": "[encoded data removed]",
      "text/plain": [
       "<Figure size 1500x800 with 1 Axes>"
      ]
     },
     "metadata": {},
     "output_type": "display_data"
    }
   ],
   "source": [
    "# построим визуализацию ICE/RICE\n",
    "x = hypothesis['ICE']\n",
    "y = hypothesis['RICE']\n",
    "z = [i for i, h in enumerate(hypothesis['hypothesis'])]\n",
    "\n",
    "fig, ax = plt.subplots(figsize=(15,8))\n",
    "ax.scatter(\n",
    "    x, y, \n",
    ")\n",
    "for i in z:\n",
    "    ax.annotate(i, (x[i]-0.25, y[i]+0.2), fontsize=14)\n",
    "\n",
    "plt.title('Сводный график гипотез по ICE/RICE', fontsize=20)\n",
    "plt.xlabel('Метрика ICE', fontsize=15)\n",
    "plt.ylabel('Метрика RICE', fontsize=15);\n",
    "plt.show()"
   ]
  },
  {
   "cell_type": "markdown",
   "metadata": {},
   "source": [
    "<div style=\"border-radius: 15px; box-shadow: 4px 4px 4px; border: solid green 2px; padding: 20px\"> <b>Отличная работа</b><br>\n",
    "Супер, приоритезация гипотез выполнена отлично, молодец, что дополнительно визуализировал результаты👌</div> <br>\n",
    "<div style=\"border-radius: 15px; box-shadow: 4px 4px 4px; border: solid orange 2px; padding: 20px\"> <b>Что можно улучшить</b><br>\n",
    "<ul>\n",
    "   <li>в качестве визуализации изменения приоритетов также можно использовать <a href=\"https://datayoga.ru/tpost/zh3s62fori-sloupgraf\">slope graph</a>\n",
    "    <li> В отчёте есть формулы для расчёта приоритезации, почему бы их не оформить, для этого есть микропакет для вёрстки `LaTex` - <a href=\"https://www.youtube.com/watch?v=vSc25kdgecg\">Использование LaTex в Jupyter Notebook</a>\n",
    "<br><a href=\"https://www.overleaf.com/static/latex/learn/free-online-introduction-to-latex-part-1.pdf\">LaTex for beginners</a>. Вот так будут выглядеть формулы:👇\n",
    "</ul></div> <br>\n",
    "\n",
    "$$ICE = \\frac{Impact * Confidence}{Efforts}$$\n",
    "\n",
    "$$RICE = \\frac{Rearch * Impact * Confidence}{Efforts}$$\n",
    "<hr style=\"border: 2px solid orange;\" />"
   ]
  },
  {
   "cell_type": "markdown",
   "metadata": {},
   "source": [
    "## Анализ А/В теста\n",
    "Проанализировать A/B-тест. Подготовить выводы и предположение по следующим пунктам:\n",
    "\n",
    "1. Построить график кумулятивной выручки по группам.\n",
    "2. Построить график кумулятивного среднего чека по группам.\n",
    "3. Построить график относительного изменения кумулятивного среднего чека группы B к группе A.\n",
    "4. Построить график кумулятивного среднего количества заказов на посетителя по группам.\n",
    "5. Построить график относительного изменения кумулятивного среднего количества заказов на посетителя группы B к группе A.\n",
    "6. Построить точечный график количества заказов по пользователям.\n",
    "7. Посчитать 95-й и 99-й перцентили количества заказов на пользователя. Выбрать границу для определения аномальных пользователей.\n",
    "8. Построить точечный график стоимостей заказов.\n",
    "9. Посчитать 95-й и 99-й перцентили стоимости заказов. Выбрать границу для определения аномальных заказов.\n",
    "10. Посчитать статистическую значимость различий в среднем количестве заказов на посетителя между группами по «сырым» данным.\n",
    "11. Посчитать статистическую значимость различий в среднем чеке заказа между группами по «сырым» данным.\n",
    "12. Посчитать статистическую значимость различий в среднем количестве заказов на посетителя между группами по «очищенным» данным.\n",
    "13. Посчитать статистическую значимость различий в среднем чеке заказа между группами по «очищенным» данным.\n",
    "14. Принять решение по результатам теста и объясните его. \n",
    "    Варианты решений: \n",
    "    1. Остановить тест, зафиксировать победу одной из групп. \n",
    "    2. Остановить тест, зафиксировать отсутствие различий между группами. \n",
    "    3. Продолжить тест."
   ]
  },
  {
   "cell_type": "markdown",
   "metadata": {},
   "source": [
    "<div style=\"border-radius: 15px; box-shadow: 4px 4px 4px; border: solid red 2px; padding: 20px\"> <b>Что необходимо доработать - ⛔️</b><br>\n",
    "Скажи, пожалуйста, как в плане могли появится пункты про конверсию? В текущем брифе я не нашел таких пунктов🤔<div><br>"
   ]
  },
  {
   "cell_type": "markdown",
   "metadata": {},
   "source": [
    "<div class=\"alert alert-info\" style=\"border:solid blue 2px; padding: 20px\"> <b>Комментарий студента:</b> Ну в данном случае я использовал слово в попытке сокращения, как отношение одного к другому и перепутав видимо перепутал с LTV (Lifetime Value) или другими метриками. Что не правильно с точки зрения постановки задания. Поправил использовав формулировки дословно без изменений.</div>"
   ]
  },
  {
   "cell_type": "markdown",
   "metadata": {},
   "source": [
    "<div style=\"border-radius: 15px; box-shadow: 4px 4px 4px; border: solid green 2px; padding: 20px\"> <b>Отличная работа 2</b><br>Супер👍</div> "
   ]
  },
  {
   "cell_type": "code",
   "execution_count": 11,
   "metadata": {},
   "outputs": [
    {
     "name": "stdout",
     "output_type": "stream",
     "text": [
      "Пользователей, попавших в обе группы: 58\n"
     ]
    }
   ],
   "source": [
    "#из прошлого исследования данных мы знаем что visitor_id имеет ряд повторяющихся значений \n",
    "#проверим что они не попали в обе групы сразу\n",
    "vis_AB = orders.groupby(['visitor_id']).agg({'group' : 'nunique'}).reset_index()\n",
    "bad_list = vis_AB[vis_AB.group != 1]['visitor_id']\n",
    "print(f'Пользователей, попавших в обе группы: {bad_list.count()}')"
   ]
  },
  {
   "cell_type": "code",
   "execution_count": 12,
   "metadata": {},
   "outputs": [],
   "source": [
    "#уберем этих пользователей\n",
    "bad_list = list(bad_list)\n",
    "orders = orders.query('visitor_id not in @bad_list')"
   ]
  },
  {
   "cell_type": "markdown",
   "metadata": {},
   "source": [
    "<div style=\"border-radius: 15px; box-shadow: 4px 4px 4px; border: solid green 2px; padding: 20px\"> <b>Отличная работа - ✅</b><br>\n",
    "Молодец, что выполнил проверку на пересечение пользователей👍</div> <br>"
   ]
  },
  {
   "cell_type": "markdown",
   "metadata": {},
   "source": [
    "### Кумулятивная выручка по группам"
   ]
  },
  {
   "cell_type": "code",
   "execution_count": 13,
   "metadata": {},
   "outputs": [
    {
     "data": {
      "image/png": "[encoded data removed]",
      "text/plain": [
       "<Figure size 1500x500 with 1 Axes>"
      ]
     },
     "metadata": {},
     "output_type": "display_data"
    }
   ],
   "source": [
    "#кумулятивная\n",
    "orders_a = orders[orders['group'] == 'A'].groupby('date').agg({'transaction_id' : 'nunique', \n",
    "                                       'visitor_id' : 'nunique', \n",
    "                                       'revenue' : 'sum'}).sort_values(by='date').cumsum().reset_index()\n",
    "\n",
    "\n",
    "orders_b = orders[orders['group'] == 'B'].groupby('date').agg({'transaction_id' : 'nunique', \n",
    "                                       'visitor_id' : 'nunique', \n",
    "                                       'revenue' : 'sum'}).sort_values(by='date').cumsum().reset_index()\n",
    "#построим графики\n",
    "fig, ax = plt.subplots(figsize=(15, 5))\n",
    "ax.plot(orders_a['date'], orders_a['revenue'], label = 'A')\n",
    "ax.plot(orders_b['date'], orders_b['revenue'], label = 'B')\n",
    "\n",
    "plt.title('Изменение кумулятивной выручки по группам', fontsize=16)\n",
    "plt.xlabel('Время теста', fontsize=13)\n",
    "plt.ylabel('Кумулятивная выручка', fontsize=13)\n",
    "plt.legend()\n",
    "plt.show()"
   ]
  },
  {
   "cell_type": "markdown",
   "metadata": {},
   "source": [
    "Во время теста выручка увеличивается у обеих групп. Группа В имеет немного больший рост начиная с 5 августа, а с 18 августа демонстрирует резкий скачок вверх. Это может быть связано либо с всплеском активности, либо с появлением в выборке крайне больших заказов."
   ]
  },
  {
   "cell_type": "markdown",
   "metadata": {},
   "source": [
    "### Кумулятивный стредний чек"
   ]
  },
  {
   "cell_type": "code",
   "execution_count": 14,
   "metadata": {},
   "outputs": [
    {
     "data": {
      "image/png": "[encoded data removed]",
      "text/plain": [
       "<Figure size 1500x500 with 1 Axes>"
      ]
     },
     "metadata": {},
     "output_type": "display_data"
    }
   ],
   "source": [
    "fig, ax = plt.subplots(figsize=(15, 5))\n",
    "ax.plot(orders_a['date'], orders_a['revenue'] / orders_a['transaction_id'], label = 'A')\n",
    "ax.plot(orders_b['date'], orders_b['revenue'] / orders_b['transaction_id'], label = 'B')\n",
    "\n",
    "plt.title('Кумулятивный средний чек', fontsize=16)\n",
    "plt.xlabel('Время теста', fontsize=13)\n",
    "plt.ylabel('Кумулятивный средний чек', fontsize=13)\n",
    "plt.legend()\n",
    "plt.show()"
   ]
  },
  {
   "cell_type": "markdown",
   "metadata": {},
   "source": [
    "Средний чек также испытывает сильное колебание в тех же датах."
   ]
  },
  {
   "cell_type": "markdown",
   "metadata": {},
   "source": [
    "### Изменения кумулятивного среднего чека группы B к группе A"
   ]
  },
  {
   "cell_type": "code",
   "execution_count": 15,
   "metadata": {},
   "outputs": [
    {
     "data": {
      "text/html": [
       "<div>\n",
       "<style scoped>\n",
       "    .dataframe tbody tr th:only-of-type {\n",
       "        vertical-align: middle;\n",
       "    }\n",
       "\n",
       "    .dataframe tbody tr th {\n",
       "        vertical-align: top;\n",
       "    }\n",
       "\n",
       "    .dataframe thead th {\n",
       "        text-align: right;\n",
       "    }\n",
       "</style>\n",
       "<table border=\"1\" class=\"dataframe\">\n",
       "  <thead>\n",
       "    <tr style=\"text-align: right;\">\n",
       "      <th></th>\n",
       "      <th>date</th>\n",
       "      <th>transaction_id_a</th>\n",
       "      <th>visitor_id_a</th>\n",
       "      <th>revenue_a</th>\n",
       "      <th>transaction_id_b</th>\n",
       "      <th>visitor_id_b</th>\n",
       "      <th>revenue_b</th>\n",
       "      <th>rel_revenue</th>\n",
       "    </tr>\n",
       "  </thead>\n",
       "  <tbody>\n",
       "    <tr>\n",
       "      <th>0</th>\n",
       "      <td>2019-08-01</td>\n",
       "      <td>23</td>\n",
       "      <td>19</td>\n",
       "      <td>142779</td>\n",
       "      <td>17</td>\n",
       "      <td>17</td>\n",
       "      <td>59758</td>\n",
       "      <td>-0.43</td>\n",
       "    </tr>\n",
       "    <tr>\n",
       "      <th>1</th>\n",
       "      <td>2019-08-02</td>\n",
       "      <td>42</td>\n",
       "      <td>37</td>\n",
       "      <td>234381</td>\n",
       "      <td>40</td>\n",
       "      <td>39</td>\n",
       "      <td>221801</td>\n",
       "      <td>-0.01</td>\n",
       "    </tr>\n",
       "    <tr>\n",
       "      <th>2</th>\n",
       "      <td>2019-08-03</td>\n",
       "      <td>66</td>\n",
       "      <td>61</td>\n",
       "      <td>346854</td>\n",
       "      <td>54</td>\n",
       "      <td>53</td>\n",
       "      <td>288850</td>\n",
       "      <td>0.02</td>\n",
       "    </tr>\n",
       "    <tr>\n",
       "      <th>3</th>\n",
       "      <td>2019-08-04</td>\n",
       "      <td>77</td>\n",
       "      <td>72</td>\n",
       "      <td>388030</td>\n",
       "      <td>68</td>\n",
       "      <td>66</td>\n",
       "      <td>385740</td>\n",
       "      <td>0.13</td>\n",
       "    </tr>\n",
       "    <tr>\n",
       "      <th>4</th>\n",
       "      <td>2019-08-05</td>\n",
       "      <td>99</td>\n",
       "      <td>94</td>\n",
       "      <td>474413</td>\n",
       "      <td>89</td>\n",
       "      <td>87</td>\n",
       "      <td>475648</td>\n",
       "      <td>0.12</td>\n",
       "    </tr>\n",
       "    <tr>\n",
       "      <th>5</th>\n",
       "      <td>2019-08-06</td>\n",
       "      <td>114</td>\n",
       "      <td>106</td>\n",
       "      <td>515332</td>\n",
       "      <td>112</td>\n",
       "      <td>109</td>\n",
       "      <td>690490</td>\n",
       "      <td>0.36</td>\n",
       "    </tr>\n",
       "    <tr>\n",
       "      <th>6</th>\n",
       "      <td>2019-08-07</td>\n",
       "      <td>130</td>\n",
       "      <td>122</td>\n",
       "      <td>638580</td>\n",
       "      <td>135</td>\n",
       "      <td>132</td>\n",
       "      <td>909654</td>\n",
       "      <td>0.37</td>\n",
       "    </tr>\n",
       "    <tr>\n",
       "      <th>7</th>\n",
       "      <td>2019-08-08</td>\n",
       "      <td>144</td>\n",
       "      <td>136</td>\n",
       "      <td>727219</td>\n",
       "      <td>157</td>\n",
       "      <td>154</td>\n",
       "      <td>1059795</td>\n",
       "      <td>0.34</td>\n",
       "    </tr>\n",
       "    <tr>\n",
       "      <th>8</th>\n",
       "      <td>2019-08-09</td>\n",
       "      <td>155</td>\n",
       "      <td>147</td>\n",
       "      <td>861456</td>\n",
       "      <td>176</td>\n",
       "      <td>173</td>\n",
       "      <td>1162961</td>\n",
       "      <td>0.19</td>\n",
       "    </tr>\n",
       "    <tr>\n",
       "      <th>9</th>\n",
       "      <td>2019-08-10</td>\n",
       "      <td>170</td>\n",
       "      <td>162</td>\n",
       "      <td>1013731</td>\n",
       "      <td>198</td>\n",
       "      <td>195</td>\n",
       "      <td>1268123</td>\n",
       "      <td>0.07</td>\n",
       "    </tr>\n",
       "  </tbody>\n",
       "</table>\n",
       "</div>"
      ],
      "text/plain": [
       "         date  transaction_id_a  visitor_id_a  revenue_a  transaction_id_b  \\\n",
       "0  2019-08-01                23            19     142779                17   \n",
       "1  2019-08-02                42            37     234381                40   \n",
       "2  2019-08-03                66            61     346854                54   \n",
       "3  2019-08-04                77            72     388030                68   \n",
       "4  2019-08-05                99            94     474413                89   \n",
       "5  2019-08-06               114           106     515332               112   \n",
       "6  2019-08-07               130           122     638580               135   \n",
       "7  2019-08-08               144           136     727219               157   \n",
       "8  2019-08-09               155           147     861456               176   \n",
       "9  2019-08-10               170           162    1013731               198   \n",
       "\n",
       "   visitor_id_b  revenue_b  rel_revenue  \n",
       "0            17      59758        -0.43  \n",
       "1            39     221801        -0.01  \n",
       "2            53     288850         0.02  \n",
       "3            66     385740         0.13  \n",
       "4            87     475648         0.12  \n",
       "5           109     690490         0.36  \n",
       "6           132     909654         0.37  \n",
       "7           154    1059795         0.34  \n",
       "8           173    1162961         0.19  \n",
       "9           195    1268123         0.07  "
      ]
     },
     "execution_count": 15,
     "metadata": {},
     "output_type": "execute_result"
    }
   ],
   "source": [
    "#собираем общую таблицу\n",
    "orders_ab = orders_a.merge(orders_b, on='date', how='left', suffixes=('_a', '_b'))\n",
    "orders_ab['rel_revenue'] = ((orders_ab['revenue_b']  / orders_ab['transaction_id_b'] ) \n",
    "    / (orders_ab['revenue_a']  / orders_ab['transaction_id_a'] ) - 1)\n",
    "orders_ab.head(10)"
   ]
  },
  {
   "cell_type": "code",
   "execution_count": 16,
   "metadata": {},
   "outputs": [
    {
     "data": {
      "image/png": "[encoded data removed]",
      "text/plain": [
       "<Figure size 1500x500 with 1 Axes>"
      ]
     },
     "metadata": {},
     "output_type": "display_data"
    }
   ],
   "source": [
    "#строим график\n",
    "orders_ab.plot('date', 'rel_revenue', figsize=(15, 5))\n",
    "\n",
    "plt.title('Относительный средний чек', fontsize=16)\n",
    "plt.xlabel('Время теста', fontsize=13)\n",
    "plt.ylabel('Кумулятивный средний чек', fontsize=13)\n",
    "plt.axhline(y=0, color='black', linestyle='--')\n",
    "plt.legend()\n",
    "plt.show()"
   ]
  },
  {
   "cell_type": "markdown",
   "metadata": {},
   "source": [
    "Несмотря на общую положительную динамику, в нескольких сегментах изменение сильно скачет."
   ]
  },
  {
   "cell_type": "markdown",
   "metadata": {},
   "source": [
    "### Кумулятивное среднее количество заказов на посетителя по группам"
   ]
  },
  {
   "cell_type": "code",
   "execution_count": 17,
   "metadata": {},
   "outputs": [],
   "source": [
    "#добавляем данные о посетителях и считаем кумулятивное среднее количество заказов на посетителя по группам\n",
    "orders_a['visitors_a'] = visitors[visitors['group'] == 'A']['visitors'].reset_index(drop=True).cumsum(axis=0)\n",
    "orders_a['conversion_a'] = orders_a['transaction_id'] / orders_a['visitors_a']\n",
    "\n",
    "orders_b['visitors_b'] = visitors[visitors['group'] == 'B']['visitors'].reset_index(drop=True).cumsum(axis=0)\n",
    "orders_b['conversion_b'] = orders_b['transaction_id'] / orders_b['visitors_b']"
   ]
  },
  {
   "cell_type": "code",
   "execution_count": 18,
   "metadata": {},
   "outputs": [
    {
     "data": {
      "image/png": "[encoded data removed]",
      "text/plain": [
       "<Figure size 1500x500 with 1 Axes>"
      ]
     },
     "metadata": {},
     "output_type": "display_data"
    }
   ],
   "source": [
    "#строим график\n",
    "fig, ax = plt.subplots(figsize=(15, 5))\n",
    "ax.plot(orders_a.date, orders_a['conversion_a'], label = 'A')\n",
    "ax.plot(orders_b.date, orders_b['conversion_b'], label = 'B')\n",
    "\n",
    "plt.title('Кумулятивное среднее количество', fontsize=16)\n",
    "plt.xlabel('Время теста', fontsize=13)\n",
    "plt.ylabel('Кумулятивная метрика', fontsize=13)\n",
    "plt.legend()\n",
    "plt.show()"
   ]
  },
  {
   "cell_type": "markdown",
   "metadata": {},
   "source": [
    "После резкого скачка (вниз для группы А и вверх для группы В), происходит относительная стабилизация на одном уровне (В выше А). Несмотря на колебания, среднее значение меняется не сильно. Возможно скачок связан с выбросами в датасете."
   ]
  },
  {
   "cell_type": "markdown",
   "metadata": {},
   "source": [
    "### Изменение кумулятивной среднего количества заказов на посетителя группы B к группе A"
   ]
  },
  {
   "cell_type": "code",
   "execution_count": 19,
   "metadata": {},
   "outputs": [
    {
     "data": {
      "image/png": "[encoded data removed]",
      "text/plain": [
       "<Figure size 1500x500 with 1 Axes>"
      ]
     },
     "metadata": {},
     "output_type": "display_data"
    }
   ],
   "source": [
    "orders_ab['rel_conversion'] = orders_b['conversion_b'] / orders_a['conversion_a'] - 1\n",
    "#строим график\n",
    "orders_ab.plot('date', 'rel_conversion', figsize=(15, 5))\n",
    "\n",
    "plt.title('Относительный прирост среднего количества заказов на посетителя группы B относительно группы A', fontsize=16)\n",
    "plt.xlabel('Время теста', fontsize=13)\n",
    "plt.ylabel('Изменение кумулятивной метрики', fontsize=13)\n",
    "plt.axhline(y=0, color='black', linestyle='--') \n",
    "plt.legend()\n",
    "plt.show()"
   ]
  },
  {
   "cell_type": "markdown",
   "metadata": {},
   "source": [
    "Кумулятивное среднее количество заказов на посетителя стабилизировалось после 13 числа. Причем группа A ниже группы B."
   ]
  },
  {
   "cell_type": "code",
   "execution_count": 20,
   "metadata": {},
   "outputs": [
    {
     "data": {
      "text/html": [
       "<div>\n",
       "<style scoped>\n",
       "    .dataframe tbody tr th:only-of-type {\n",
       "        vertical-align: middle;\n",
       "    }\n",
       "\n",
       "    .dataframe tbody tr th {\n",
       "        vertical-align: top;\n",
       "    }\n",
       "\n",
       "    .dataframe thead th {\n",
       "        text-align: right;\n",
       "    }\n",
       "</style>\n",
       "<table border=\"1\" class=\"dataframe\">\n",
       "  <thead>\n",
       "    <tr style=\"text-align: right;\">\n",
       "      <th></th>\n",
       "      <th>date</th>\n",
       "      <th>transaction_id_a</th>\n",
       "      <th>visitor_id_a</th>\n",
       "      <th>revenue_a</th>\n",
       "      <th>transaction_id_b</th>\n",
       "      <th>visitor_id_b</th>\n",
       "      <th>revenue_b</th>\n",
       "      <th>rel_revenue</th>\n",
       "      <th>rel_conversion</th>\n",
       "    </tr>\n",
       "  </thead>\n",
       "  <tbody>\n",
       "    <tr>\n",
       "      <th>0</th>\n",
       "      <td>2019-08-01</td>\n",
       "      <td>23</td>\n",
       "      <td>19</td>\n",
       "      <td>142779</td>\n",
       "      <td>17</td>\n",
       "      <td>17</td>\n",
       "      <td>59758</td>\n",
       "      <td>-0.43</td>\n",
       "      <td>-0.25</td>\n",
       "    </tr>\n",
       "    <tr>\n",
       "      <th>1</th>\n",
       "      <td>2019-08-02</td>\n",
       "      <td>42</td>\n",
       "      <td>37</td>\n",
       "      <td>234381</td>\n",
       "      <td>40</td>\n",
       "      <td>39</td>\n",
       "      <td>221801</td>\n",
       "      <td>-0.01</td>\n",
       "      <td>-0.02</td>\n",
       "    </tr>\n",
       "    <tr>\n",
       "      <th>2</th>\n",
       "      <td>2019-08-03</td>\n",
       "      <td>66</td>\n",
       "      <td>61</td>\n",
       "      <td>346854</td>\n",
       "      <td>54</td>\n",
       "      <td>53</td>\n",
       "      <td>288850</td>\n",
       "      <td>0.02</td>\n",
       "      <td>-0.16</td>\n",
       "    </tr>\n",
       "    <tr>\n",
       "      <th>3</th>\n",
       "      <td>2019-08-04</td>\n",
       "      <td>77</td>\n",
       "      <td>72</td>\n",
       "      <td>388030</td>\n",
       "      <td>68</td>\n",
       "      <td>66</td>\n",
       "      <td>385740</td>\n",
       "      <td>0.13</td>\n",
       "      <td>-0.12</td>\n",
       "    </tr>\n",
       "    <tr>\n",
       "      <th>4</th>\n",
       "      <td>2019-08-05</td>\n",
       "      <td>99</td>\n",
       "      <td>94</td>\n",
       "      <td>474413</td>\n",
       "      <td>89</td>\n",
       "      <td>87</td>\n",
       "      <td>475648</td>\n",
       "      <td>0.12</td>\n",
       "      <td>-0.09</td>\n",
       "    </tr>\n",
       "  </tbody>\n",
       "</table>\n",
       "</div>"
      ],
      "text/plain": [
       "         date  transaction_id_a  visitor_id_a  revenue_a  transaction_id_b  \\\n",
       "0  2019-08-01                23            19     142779                17   \n",
       "1  2019-08-02                42            37     234381                40   \n",
       "2  2019-08-03                66            61     346854                54   \n",
       "3  2019-08-04                77            72     388030                68   \n",
       "4  2019-08-05                99            94     474413                89   \n",
       "\n",
       "   visitor_id_b  revenue_b  rel_revenue  rel_conversion  \n",
       "0            17      59758        -0.43           -0.25  \n",
       "1            39     221801        -0.01           -0.02  \n",
       "2            53     288850         0.02           -0.16  \n",
       "3            66     385740         0.13           -0.12  \n",
       "4            87     475648         0.12           -0.09  "
      ]
     },
     "execution_count": 20,
     "metadata": {},
     "output_type": "execute_result"
    }
   ],
   "source": [
    "orders_ab.head()"
   ]
  },
  {
   "cell_type": "markdown",
   "metadata": {},
   "source": [
    "### Точечный график количества заказов по пользователям"
   ]
  },
  {
   "cell_type": "code",
   "execution_count": 21,
   "metadata": {},
   "outputs": [],
   "source": [
    "orders_by_users_a = (\n",
    "    orders.query('group == \"A\"')\n",
    "    .drop(['group', 'revenue', 'date'], axis=1)\n",
    "    .groupby('visitor_id', as_index=False)\n",
    "    .agg({'transaction_id': pd.Series.nunique}))\n",
    "orders_by_users_b = (\n",
    "    orders.query('group == \"B\"')\n",
    "    .drop(['group', 'revenue', 'date'], axis=1)\n",
    "    .groupby('visitor_id', as_index=False)\n",
    "    .agg({'transaction_id': pd.Series.nunique}))"
   ]
  },
  {
   "cell_type": "code",
   "execution_count": 22,
   "metadata": {},
   "outputs": [
    {
     "data": {
      "image/png": "[encoded data removed]",
      "text/plain": [
       "<Figure size 1500x800 with 1 Axes>"
      ]
     },
     "metadata": {},
     "output_type": "display_data"
    }
   ],
   "source": [
    "#строим график\n",
    "a_values = pd.Series(range(0,len(orders_by_users_a)))\n",
    "plt.scatter(a_values, orders_by_users_a['transaction_id'], color='r', label='А')\n",
    "b_values = pd.Series(range(0,len(orders_by_users_b)))\n",
    "plt.scatter(b_values, orders_by_users_b['transaction_id'], label='В')\n",
    "\n",
    "plt.title('Точечный график количества заказов по пользователям', fontsize=16)\n",
    "plt.xlabel('Пользователи')\n",
    "plt.ylabel('Количество заказов')\n",
    "plt.legend()\n",
    "plt.show()"
   ]
  },
  {
   "cell_type": "markdown",
   "metadata": {},
   "source": [
    "Подавляющее большинство пользователей совершает 1 заказ. На втором месте достаточно массивная группа, совершающая 2 заказа. 3 заказа было совершено всего 7 раз."
   ]
  },
  {
   "cell_type": "markdown",
   "metadata": {},
   "source": [
    "### Перцентили количества заказов на пользователя\n",
    "Посчитаем 95-й и 99-й перцентили количества заказов на пользователя. После чего, выберем границу для определения аномальных пользователей."
   ]
  },
  {
   "cell_type": "code",
   "execution_count": 23,
   "metadata": {},
   "outputs": [
    {
     "name": "stdout",
     "output_type": "stream",
     "text": [
      "[1. 2.]\n"
     ]
    }
   ],
   "source": [
    "#сформируем единый датасет, содержащий сведения по заказам\n",
    "orders_by_users = (\n",
    "    orders\n",
    "    .drop(['group', 'revenue', 'date'], axis=1)\n",
    "    .groupby('visitor_id', as_index=False)\n",
    "    .agg({'transaction_id': pd.Series.nunique})\n",
    ")\n",
    "#смотрим перцентали\n",
    "print(np.percentile(orders_by_users['transaction_id'], [95, 99]))"
   ]
  },
  {
   "cell_type": "markdown",
   "metadata": {},
   "source": [
    "Логичным выглядит для определенеия аномальных пользователей выбрать пользователей, имеющих 3 и более заказов."
   ]
  },
  {
   "cell_type": "markdown",
   "metadata": {},
   "source": [
    "### Точечный график стоимостей заказов"
   ]
  },
  {
   "cell_type": "code",
   "execution_count": 24,
   "metadata": {},
   "outputs": [
    {
     "data": {
      "image/png": "[encoded data removed]",
      "text/plain": [
       "<Figure size 1500x800 with 1 Axes>"
      ]
     },
     "metadata": {},
     "output_type": "display_data"
    }
   ],
   "source": [
    "#строим график\n",
    "a_values = pd.Series(range(0,len(orders.query('group == \"A\"')['revenue'])))\n",
    "plt.scatter(a_values, orders.query('group == \"A\"')['revenue'], color='r', label='Группа А')\n",
    "b_values = pd.Series(range(0,len(orders.query('group == \"B\"')['revenue'])))\n",
    "plt.scatter(b_values, orders.query('group == \"B\"')['revenue'], label='Группа В')\n",
    "\n",
    "plt.title('Точечный график стоимости заказа', fontsize=16)\n",
    "plt.xlabel('Заказ', fontsize=13)\n",
    "plt.ylabel('Стоимость заказа', fontsize=13)\n",
    "plt.legend()\n",
    "plt.show()"
   ]
  },
  {
   "cell_type": "markdown",
   "metadata": {},
   "source": [
    "Есть два значительноых выброса, а также большое количество средних заказов. Чтобы определить пограничные цифры нужно подсчитать перцентили."
   ]
  },
  {
   "cell_type": "markdown",
   "metadata": {},
   "source": [
    "### Перцентили стоимости заказов"
   ]
  },
  {
   "cell_type": "code",
   "execution_count": 25,
   "metadata": {},
   "outputs": [
    {
     "name": "stdout",
     "output_type": "stream",
     "text": [
      "[26785. 53904.]\n"
     ]
    }
   ],
   "source": [
    "print(np.percentile(orders['revenue'], [95, 99]))"
   ]
  },
  {
   "cell_type": "markdown",
   "metadata": {},
   "source": [
    "5% пользователей осуществляли заказыв на сумму менее 26785. Сумма 53904, характерная для 99% пользователей, значительно выше (в 2 раза), чем 95% заказов. Поэтому остановимся на сумме 27000, чтобы определить порог для отсеивания аномальных заказов."
   ]
  },
  {
   "cell_type": "markdown",
   "metadata": {},
   "source": [
    "<div style=\"border-radius: 15px; box-shadow: 4px 4px 4px; border: solid green 2px; padding: 20px\"> <b>Отличная работа - ✅</b><br>\n",
    "    <img width=\"320\" src=https://storage.yandexcloud.net/public-bucket-6/outliers_1.png><br>\n",
    "<ul>\n",
    "    <li> Аномалии исследованы верно - ✅\n",
    "    <li> Границы выбраны корректно - ✅</ul></div> <br>"
   ]
  },
  {
   "cell_type": "markdown",
   "metadata": {},
   "source": [
    "### Статистическую значимость различий\n",
    "Формирование гипотез для анализа А/В-теста\n",
    "Для проведения анализа установим уровень статистической значимости, равный 5% (alpha = 0.05).\n",
    "\n",
    "Также, определим гипотезы для проверки.\n",
    "\n",
    "1. Гипотезы для среднего количества заказов на посетителя\n",
    " * H0 Статистически значимых различий в среднем количестве заказов на посетителя между группой А и группой В нет.\n",
    "\n",
    " * H1 Статистически значимые различия в среднем количестве заказов на посетителя между группой А и группой В есть.\n",
    "\n",
    "2. Гипотезы для среднего чека\n",
    " * H0 Статистически значимых различий в среднем чеке между группой А и группой В нет.\n",
    "\n",
    " * H1 Статистически значимые различия в среднем чеке между группой А и группой В есть."
   ]
  },
  {
   "cell_type": "markdown",
   "metadata": {},
   "source": [
    "<div style=\"border-radius: 15px; box-shadow: 4px 4px 4px; border: solid green 2px; padding: 20px\"> <b>Отличная работа</b><br>\n",
    "Гипотезы сформулированы верно ✅</div> <br>\n",
    "<div style=\"border-radius: 15px; box-shadow: 4px 4px 4px; border: solid orange 2px; padding: 20px\"> <b>Что можно улучшить - ⚠️</b><br>\n",
    "Было бы здорово указать также и выбранный стат тест</div> <br>"
   ]
  },
  {
   "cell_type": "code",
   "execution_count": 26,
   "metadata": {},
   "outputs": [
    {
     "data": {
      "text/html": [
       "<div>\n",
       "<style scoped>\n",
       "    .dataframe tbody tr th:only-of-type {\n",
       "        vertical-align: middle;\n",
       "    }\n",
       "\n",
       "    .dataframe tbody tr th {\n",
       "        vertical-align: top;\n",
       "    }\n",
       "\n",
       "    .dataframe thead th {\n",
       "        text-align: right;\n",
       "    }\n",
       "</style>\n",
       "<table border=\"1\" class=\"dataframe\">\n",
       "  <thead>\n",
       "    <tr style=\"text-align: right;\">\n",
       "      <th></th>\n",
       "      <th>date</th>\n",
       "      <th>orders_per_date_a</th>\n",
       "      <th>revenue_per_date_a</th>\n",
       "      <th>orders_per_date_b</th>\n",
       "      <th>revenue_per_date_b</th>\n",
       "      <th>orders_cummulative_a</th>\n",
       "      <th>revenue_cummulative_a</th>\n",
       "      <th>orders_cummulative_b</th>\n",
       "      <th>revenue_cummulative_b</th>\n",
       "      <th>visitors_per_date_a</th>\n",
       "      <th>visitors_per_date_b</th>\n",
       "      <th>visitors_cummulative_a</th>\n",
       "      <th>visitors_cummulative_b</th>\n",
       "    </tr>\n",
       "  </thead>\n",
       "  <tbody>\n",
       "    <tr>\n",
       "      <th>0</th>\n",
       "      <td>2019-08-01</td>\n",
       "      <td>23</td>\n",
       "      <td>142779</td>\n",
       "      <td>17</td>\n",
       "      <td>59758</td>\n",
       "      <td>23</td>\n",
       "      <td>142779</td>\n",
       "      <td>17</td>\n",
       "      <td>59758</td>\n",
       "      <td>719</td>\n",
       "      <td>713</td>\n",
       "      <td>719</td>\n",
       "      <td>713</td>\n",
       "    </tr>\n",
       "    <tr>\n",
       "      <th>1</th>\n",
       "      <td>2019-08-02</td>\n",
       "      <td>19</td>\n",
       "      <td>91602</td>\n",
       "      <td>23</td>\n",
       "      <td>162043</td>\n",
       "      <td>42</td>\n",
       "      <td>234381</td>\n",
       "      <td>40</td>\n",
       "      <td>221801</td>\n",
       "      <td>619</td>\n",
       "      <td>581</td>\n",
       "      <td>1338</td>\n",
       "      <td>1294</td>\n",
       "    </tr>\n",
       "    <tr>\n",
       "      <th>2</th>\n",
       "      <td>2019-08-03</td>\n",
       "      <td>24</td>\n",
       "      <td>112473</td>\n",
       "      <td>14</td>\n",
       "      <td>67049</td>\n",
       "      <td>66</td>\n",
       "      <td>346854</td>\n",
       "      <td>54</td>\n",
       "      <td>288850</td>\n",
       "      <td>507</td>\n",
       "      <td>509</td>\n",
       "      <td>1845</td>\n",
       "      <td>1803</td>\n",
       "    </tr>\n",
       "    <tr>\n",
       "      <th>3</th>\n",
       "      <td>2019-08-04</td>\n",
       "      <td>11</td>\n",
       "      <td>41176</td>\n",
       "      <td>14</td>\n",
       "      <td>96890</td>\n",
       "      <td>77</td>\n",
       "      <td>388030</td>\n",
       "      <td>68</td>\n",
       "      <td>385740</td>\n",
       "      <td>717</td>\n",
       "      <td>770</td>\n",
       "      <td>2562</td>\n",
       "      <td>2573</td>\n",
       "    </tr>\n",
       "    <tr>\n",
       "      <th>4</th>\n",
       "      <td>2019-08-05</td>\n",
       "      <td>22</td>\n",
       "      <td>86383</td>\n",
       "      <td>21</td>\n",
       "      <td>89908</td>\n",
       "      <td>99</td>\n",
       "      <td>474413</td>\n",
       "      <td>89</td>\n",
       "      <td>475648</td>\n",
       "      <td>756</td>\n",
       "      <td>707</td>\n",
       "      <td>3318</td>\n",
       "      <td>3280</td>\n",
       "    </tr>\n",
       "  </tbody>\n",
       "</table>\n",
       "</div>"
      ],
      "text/plain": [
       "         date  orders_per_date_a  revenue_per_date_a  orders_per_date_b  \\\n",
       "0  2019-08-01                 23              142779                 17   \n",
       "1  2019-08-02                 19               91602                 23   \n",
       "2  2019-08-03                 24              112473                 14   \n",
       "3  2019-08-04                 11               41176                 14   \n",
       "4  2019-08-05                 22               86383                 21   \n",
       "\n",
       "   revenue_per_date_b  orders_cummulative_a  revenue_cummulative_a  \\\n",
       "0               59758                    23                 142779   \n",
       "1              162043                    42                 234381   \n",
       "2               67049                    66                 346854   \n",
       "3               96890                    77                 388030   \n",
       "4               89908                    99                 474413   \n",
       "\n",
       "   orders_cummulative_b  revenue_cummulative_b  visitors_per_date_a  \\\n",
       "0                    17                  59758                  719   \n",
       "1                    40                 221801                  619   \n",
       "2                    54                 288850                  507   \n",
       "3                    68                 385740                  717   \n",
       "4                    89                 475648                  756   \n",
       "\n",
       "   visitors_per_date_b  visitors_cummulative_a  visitors_cummulative_b  \n",
       "0                  713                     719                     713  \n",
       "1                  581                    1338                    1294  \n",
       "2                  509                    1845                    1803  \n",
       "3                  770                    2562                    2573  \n",
       "4                  707                    3318                    3280  "
      ]
     },
     "metadata": {},
     "output_type": "display_data"
    }
   ],
   "source": [
    "#для начала подготовим датафрейм для анализа А/В теста\n",
    "#создадим фреймы, содержащие посетителей, разбитых по групам\n",
    "visitorsADaily = visitors[visitors['group'] == 'A'][['date', 'visitors']]\n",
    "visitorsADaily.columns = ['date', 'visitors_per_date_a']\n",
    "\n",
    "visitorsBDaily = visitors[visitors['group'] == 'B'][['date', 'visitors']]\n",
    "visitorsBDaily.columns = ['date', 'visitors_per_date_b']\n",
    "\n",
    "# посчитаем кумулятивных посетителей\n",
    "visitorsACummulative = visitorsADaily.apply(\n",
    "    lambda x: visitorsADaily[visitorsADaily['date'] <= x['date']].agg(\n",
    "        {'date': 'max', 'visitors_per_date_a': 'sum'}), axis=1,)\n",
    "visitorsACummulative.columns = ['date', 'visitors_cummulative_a']\n",
    "\n",
    "visitorsBCummulative = visitorsBDaily.apply(\n",
    "    lambda x: visitorsBDaily[visitorsBDaily['date'] <= x['date']].agg(\n",
    "        {'date': 'max', 'visitors_per_date_b': 'sum'}), axis=1,)\n",
    "visitorsBCummulative.columns = ['date', 'visitors_cummulative_b']\n",
    "#создадим фреймы, содержащие заказы по групам\n",
    "ordersADaily = (\n",
    "    orders[orders['group'] == 'A'][['date', 'transaction_id', 'visitor_id', 'revenue']]\n",
    "    .groupby('date', as_index=False)\n",
    "    .agg({'transaction_id': pd.Series.nunique, 'revenue': 'sum'}))\n",
    "ordersADaily.columns = ['date', 'orders_per_date_a', 'revenue_per_date_a']\n",
    "\n",
    "ordersBDaily = (\n",
    "    orders[orders['group'] == 'B'][['date', 'transaction_id', 'visitor_id', 'revenue']]\n",
    "    .groupby('date', as_index=False)\n",
    "    .agg({'transaction_id': pd.Series.nunique, 'revenue': 'sum'}))\n",
    "ordersBDaily.columns = ['date', 'orders_per_date_b', 'revenue_per_date_b']\n",
    "\n",
    "# посчитаем суммы заказов\n",
    "ordersACummulative = ordersADaily.apply(\n",
    "    lambda x: ordersADaily[ordersADaily['date'] <= x['date']].agg(\n",
    "        {'date': 'max', 'orders_per_date_a': 'sum', 'revenue_per_date_a': 'sum'}), axis=1,\n",
    ").sort_values(by=['date'])\n",
    "ordersACummulative.columns = ['date', 'orders_cummulative_a', 'revenue_cummulative_a',]\n",
    "\n",
    "ordersBCummulative = ordersBDaily.apply(\n",
    "    lambda x: ordersBDaily[ordersBDaily['date'] <= x['date']].agg(\n",
    "        {'date': 'max', 'orders_per_date_b': 'sum', 'revenue_per_date_b': 'sum'}), axis=1,\n",
    ").sort_values(by=['date'])\n",
    "ordersBCummulative.columns = ['date', 'orders_cummulative_b', 'revenue_cummulative_b',]\n",
    "\n",
    "# подготовим итоговый датафрейм для расчетов эффективности А/В-теста\n",
    "data = (\n",
    "    ordersADaily.merge(\n",
    "        ordersBDaily, left_on='date', right_on='date', how='left')\n",
    "    .merge(ordersACummulative, left_on='date', right_on='date', how='left')\n",
    "    .merge(ordersBCummulative, left_on='date', right_on='date', how='left')\n",
    "    .merge(visitorsADaily, left_on='date', right_on='date', how='left')\n",
    "    .merge(visitorsBDaily, left_on='date', right_on='date', how='left')\n",
    "    .merge(visitorsACummulative, left_on='date', right_on='date', how='left')\n",
    "    .merge(visitorsBCummulative, left_on='date', right_on='date', how='left')\n",
    ")\n",
    "\n",
    "# проверим результат\n",
    "display(data.head()) "
   ]
  },
  {
   "cell_type": "code",
   "execution_count": 27,
   "metadata": {},
   "outputs": [],
   "source": [
    "#для пользователей, сделавших хотя бы один заказ, укажем число совершенных заказов\n",
    "orders_by_users_a = (\n",
    "    orders[orders['group'] == 'A']\n",
    "    .groupby('visitor_id', as_index=False)\n",
    "    .agg({'transaction_id': pd.Series.nunique}))\n",
    "orders_by_users_a.columns = ['user_id', 'orders']\n",
    "\n",
    "orders_by_users_b = (\n",
    "    orders[orders['group'] == 'B']\n",
    "    .groupby('visitor_id', as_index=False)\n",
    "    .agg({'transaction_id': pd.Series.nunique}))\n",
    "orders_by_users_b.columns = ['user_id', 'orders']"
   ]
  },
  {
   "cell_type": "code",
   "execution_count": 28,
   "metadata": {},
   "outputs": [],
   "source": [
    "#Объявим переменные sampleA и sampleB, в которых пользователям из разных групп будет соответствовать количество заказов.\n",
    "#Тем, кто ничего не заказал, будут соответствовать нули. Это нужно, чтобы подготовить выборки к проверке критерием Манна-Уитни.\n",
    "sample_a = pd.concat(\n",
    "    [\n",
    "        orders_by_users_a['orders'],\n",
    "        pd.Series(0, index=np.arange(data['visitors_per_date_a'].sum() - len(orders_by_users_a['orders'])),\n",
    "            name='orders')], axis=0,)\n",
    "\n",
    "sample_b = pd.concat(\n",
    "    [\n",
    "        orders_by_users_b['orders'],\n",
    "        pd.Series(0,index=np.arange(data['visitors_per_date_b'].sum() - len(orders_by_users_b['orders'])),\n",
    "            name='orders')], axis=0,)"
   ]
  },
  {
   "cell_type": "markdown",
   "metadata": {},
   "source": [
    "#### Среднем количестве заказов на посетителя между группами по «сырым» данным"
   ]
  },
  {
   "cell_type": "code",
   "execution_count": 29,
   "metadata": {},
   "outputs": [
    {
     "name": "stdout",
     "output_type": "stream",
     "text": [
      "p-значение:  0.011\n",
      "Отвергаем нулевую гипотезу\n",
      "0.1598\n"
     ]
    }
   ],
   "source": [
    "result = st.mannwhitneyu(sample_a, sample_b)[1]\n",
    "alpha = 0.05\n",
    "print('p-значение: ', result.round(4))\n",
    "if result < alpha:\n",
    "    print(\"Отвергаем нулевую гипотезу\")\n",
    "else:\n",
    "    print(\"Не получилось отвергнуть нулевую гипотезу\")\n",
    "print(\"{0:.4f}\".format((data['orders_per_date_b'].sum()/data['visitors_per_date_b'].sum())\n",
    "    /(data['orders_per_date_a'].sum()/data['visitors_per_date_a'].sum())-1))"
   ]
  },
  {
   "cell_type": "markdown",
   "metadata": {},
   "source": [
    "p-value = 0.011 меньше 0.05. Значит, нулевую гипотезу о том, что статистически значимых изменений в среднем количестве заказов на посетителя между группами нет, можно отвергнуть.\n",
    "\n",
    "Преимущество в группе В составляет 16%.\n",
    "\n",
    "Следовательно, по «сырым», можно прийти к выводу, что между группами А и В есть различия с приемуществом в группе B на 16%"
   ]
  },
  {
   "cell_type": "markdown",
   "metadata": {},
   "source": [
    "#### Среднем чеке заказа между группами по «сырым» данным"
   ]
  },
  {
   "cell_type": "code",
   "execution_count": 30,
   "metadata": {},
   "outputs": [
    {
     "name": "stdout",
     "output_type": "stream",
     "text": [
      "p-значение:  0.8295\n",
      "Не получилось отвергнуть нулевую гипотезу\n",
      "0.287\n"
     ]
    }
   ],
   "source": [
    "#пересчитаем статистику для среднего чека по сырым данным\n",
    "result = st.mannwhitneyu(orders[orders['group']=='A']['revenue'], orders[orders['group']=='B']['revenue'])[1]\n",
    "alpha = 0.05\n",
    "print('p-значение: ', result.round(4))\n",
    "if result < alpha:\n",
    "    print(\"Отвергаем нулевую гипотезу\")\n",
    "else:\n",
    "    print(\"Не получилось отвергнуть нулевую гипотезу\") \n",
    "print('{0:.3f}'.format(orders[orders['group']=='B']['revenue'].mean()\n",
    "                     /orders[orders['group']=='A']['revenue'].mean()-1))"
   ]
  },
  {
   "cell_type": "markdown",
   "metadata": {},
   "source": [
    "P-value значительно больше 0.05. Значит, причин отвергать нулевую гипотезу и считать, что в среднем чеке есть различия, нет. При этом преимущество в среднем чеке группы В составляет 29%."
   ]
  },
  {
   "cell_type": "markdown",
   "metadata": {},
   "source": [
    "#### Чистка данных\n",
    "95% пользователей соответствуют указанным ниже параметрам:\n",
    "\n",
    "* Допустимое количество заказов на пользователя - 2;\n",
    "* Допустимая сумма заказа - до 27000."
   ]
  },
  {
   "cell_type": "code",
   "execution_count": 31,
   "metadata": {},
   "outputs": [
    {
     "data": {
      "text/plain": [
       "568     113298937\n",
       "1099    148427295\n",
       "928     204675465\n",
       "33      249864742\n",
       "684     358944393\n",
       "dtype: int64"
      ]
     },
     "metadata": {},
     "output_type": "display_data"
    },
    {
     "data": {
      "text/plain": [
       "(58,)"
      ]
     },
     "metadata": {},
     "output_type": "display_data"
    }
   ],
   "source": [
    "#узнаем количество аномальных пользователей\n",
    "#выберем пользователей с количеством заказов 3 и более\n",
    "bad_users = pd.concat(\n",
    "    [\n",
    "        orders_by_users_a[orders_by_users_a['orders'] > 2]['user_id'],\n",
    "        orders_by_users_b[orders_by_users_b['orders'] > 2]['user_id'],\n",
    "    ], axis=0)\n",
    "#выберем пользователей с суммой заказа более 27000\n",
    "bad_users_orders = orders[orders['revenue'] > 27000]['visitor_id']\n",
    "\n",
    "#объединим данные в единый фрейм аномальных пользователей\n",
    "abnormal_users = (pd.concat([bad_users, bad_users_orders], axis=0).drop_duplicates().sort_values())\n",
    "display(abnormal_users.head(5))\n",
    "display(abnormal_users.shape)"
   ]
  },
  {
   "cell_type": "markdown",
   "metadata": {},
   "source": [
    "<div style=\"border-radius: 15px; box-shadow: 4px 4px 4px; border: solid orange 2px; padding: 20px\"> <b>Что можно улучшить - ⚠️</b><br>\n",
    "Ручное указание порогов крайне не желательно, при изменении данных придется руками исправлять - можно допустить ошибку или пропустить. Удобнее использовать вычисляемые переменные, например:\n",
    "    \n",
    "```python\n",
    "    REVENUE_THRESHOLD = df[revenue].quantile(0.99)\n",
    "```\n",
    "\n",
    "</div> <br>"
   ]
  },
  {
   "cell_type": "markdown",
   "metadata": {},
   "source": [
    "В данных есть 58 пользователей, признанных нами аномальными. Используя эти данные, очистим датасет от выбросов и пересчитаем статистическую достоверность исследования."
   ]
  },
  {
   "cell_type": "code",
   "execution_count": 32,
   "metadata": {},
   "outputs": [],
   "source": [
    "#подготовим выборки, очищенные от выбросов\n",
    "sample_a_fil = pd.concat(\n",
    "    [\n",
    "        orders_by_users_a[np.logical_not(orders_by_users_a['user_id'].isin(abnormal_users))]['orders'], \n",
    "        pd.Series(0, index=np.arange(data['visitors_per_date_a'].sum() - len(orders_by_users_a['orders'])\n",
    "            ), name='orders')], axis=0)\n",
    "sample_b_fil = pd.concat(\n",
    "    [\n",
    "        orders_by_users_b[np.logical_not(orders_by_users_b['user_id'].isin(abnormal_users))]['orders'], \n",
    "        pd.Series(0, index=np.arange(data['visitors_per_date_b'].sum() - len(orders_by_users_b['orders'])\n",
    "            ), name='orders')], axis=0)"
   ]
  },
  {
   "cell_type": "markdown",
   "metadata": {},
   "source": [
    "#### Среднем количестве заказов на посетителя между группами по «очищенным» данным"
   ]
  },
  {
   "cell_type": "code",
   "execution_count": 33,
   "metadata": {},
   "outputs": [
    {
     "name": "stdout",
     "output_type": "stream",
     "text": [
      "p-значение:  0.0124\n",
      "Отвергаем нулевую гипотезу\n",
      "0.1819\n"
     ]
    }
   ],
   "source": [
    "result = st.mannwhitneyu(sample_a_fil, sample_b_fil)[1]\n",
    "alpha = 0.05\n",
    "print('p-значение: ', result.round(4))\n",
    "if result < alpha:\n",
    "    print(\"Отвергаем нулевую гипотезу\")\n",
    "else:\n",
    "    print(\"Не получилось отвергнуть нулевую гипотезу\") \n",
    "print('{0:.4f}'.format(sample_b_fil.mean()/sample_a_fil.mean()-1))"
   ]
  },
  {
   "cell_type": "markdown",
   "metadata": {},
   "source": [
    "p-value = 0.0124 меньше 0.05. Значит, нулевую гипотезу о том, что статистически значимых изменений в среднем количестве заказов на посетителя между группами нет, можно отвергнуть.\n",
    "\n",
    "Преимущество в группе В по сравнению с сырыми данными выросло на 2% и составило 18%.\n",
    "\n",
    "Следовательно, по «очищенным» данным, можно прийти к выводу, что между группами А и В есть различия. А преимущество в 18% получено не случайным образом."
   ]
  },
  {
   "cell_type": "markdown",
   "metadata": {},
   "source": [
    "#### Среднем чеке заказа между группами по «очищенным» данным"
   ]
  },
  {
   "cell_type": "code",
   "execution_count": 34,
   "metadata": {},
   "outputs": [
    {
     "name": "stdout",
     "output_type": "stream",
     "text": [
      "p-значение:  0.6459\n",
      "Не получилось отвергнуть нулевую гипотезу\n",
      "-0.0485\n"
     ]
    }
   ],
   "source": [
    "result = st.mannwhitneyu(\n",
    "            orders[np.logical_and(orders['group'] == 'A',\n",
    "                    np.logical_not(orders['visitor_id'].isin(abnormal_users)),)]['revenue'],\n",
    "            orders[np.logical_and(orders['group'] == 'B',\n",
    "                    np.logical_not(orders['visitor_id'].isin(abnormal_users)),)]['revenue'])[1]\n",
    "\n",
    "alpha = 0.05\n",
    "print('p-значение: ', result.round(4))\n",
    "if result < alpha:\n",
    "    print(\"Отвергаем нулевую гипотезу\")\n",
    "else:\n",
    "    print(\"Не получилось отвергнуть нулевую гипотезу\") \n",
    "\n",
    "print(\n",
    "    \"{0:.4f}\".format(orders[np.logical_and(orders['group'] == 'B',\n",
    "                np.logical_not(orders['visitor_id'].isin(abnormal_users)),)]['revenue'].mean()\n",
    "        / orders[np.logical_and(orders['group'] == 'A',\n",
    "                np.logical_not(orders['visitor_id'].isin(abnormal_users)),)]['revenue'].mean()- 1))"
   ]
  },
  {
   "cell_type": "markdown",
   "metadata": {},
   "source": [
    "P-value значительно больше 0.05. Значит, причин отвергать нулевую гипотезу и считать, что в среднем чеке есть различия, нет. При этом преимущество в среднем чеке группы А  выше на 5%, чем в группе В. Это коререлирует с тем фактом, что по сырым данным не удалось отвергнуть гипотезу о различии среднего чека. А различие в 29% в пользу группы В было получено случайным образом. Как мы выяснили, за счет аномальных клиентов."
   ]
  },
  {
   "cell_type": "markdown",
   "metadata": {},
   "source": [
    "### Вывод по результатам теста\n",
    " Варианты решений: \n",
    " 1. Остановить тест, зафиксировать победу одной из групп. \n",
    " 2. Остановить тест, зафиксировать отсутствие различий между группами. \n",
    " 3. Продолжить тест."
   ]
  },
  {
   "cell_type": "markdown",
   "metadata": {},
   "source": [
    "По результатам исследования материалов А/В-теста, можно прийти к следующим выводам:\n",
    "\n",
    "1. В выборках пристутствовали выбросы, которые искажали результаты.\n",
    "2. 95% пользователей соответствуют этим совершают 1-2 заказа на сумму до 27000.\n",
    "3. По результатам очистки выборок от аномалий, можно однозначно считать, что группа В превосходит группу А в показателе  среднем количестве заказов на посетителя на 18%.\n",
    "4. И хотя на сырых данных разница между средним чеком составляла 29% в пользу группы В, после очистки данных, можно считать, что средний чек практчески не меняется между группами (разницей в 5% в пользу группы А можно пренебречь, как незначительной аномалией, учитывая статистическое подтверждение гипотезы об отсутствии разницы между средними чеками групп).\n",
    "5. Учитывая стабилизацию значений на графике, можно сделать предварительные выводы об исходе А/В-теста:\n",
    "* Если считать 1200 наблюдений за конкретный месяц достаточным и достоверным для вида деятельности магазина то А/В тест можно считать произведенным успешно. Гипотеза о превосходстве выручки группы В подтверждена (при отсутствии разницы в среднем чеке), а значения стабилизировались на графиках.\n",
    "* Если в виду деятельности магазина данные не могут быть признанными достоверными, то необходимо перенести и/или продлить процесс тестирования.\n",
    "6. Одни и те же пользователи попали в разные группы. Необходимо проверить процедуру формирования выборок.\n"
   ]
  },
  {
   "cell_type": "markdown",
   "metadata": {},
   "source": [
    "## Вывод\n",
    "Тестируемая гипотеза не влияет на средний чек, но влияет на среднее количество заказов на посетителя (увеличивая её на 18% для группы В). Тест можно считать успешно проведенным и переходить к тестированию другой гипотезы."
   ]
  },
  {
   "cell_type": "markdown",
   "metadata": {},
   "source": [
    "<hr style=\"border: 2px solid green;\" />\n",
    "\n",
    "## Общий комментарий\n",
    "Спасибо за проделанную работу🤝\n",
    "\n",
    "Михаил, работа выполнена отлично, серьезных замечаний нет, единственный вопрос: _использование конверсии_ . Этот пункт нужно обсудить с куратором🧐\n",
    "\n",
    "Исправляй и отправляй на проверку🛠"
   ]
  }
 ],
 "metadata": {
  "ExecuteTimeLog": [
   {
    "duration": 1331,
    "start_time": "2023-01-26T18:14:10.069Z"
   },
   {
    "duration": 100,
    "start_time": "2023-01-26T18:14:24.880Z"
   },
   {
    "duration": 20,
    "start_time": "2023-01-26T18:14:29.993Z"
   },
   {
    "duration": 1167,
    "start_time": "2023-01-26T18:14:39.482Z"
   },
   {
    "duration": 129,
    "start_time": "2023-01-26T18:14:40.651Z"
   },
   {
    "duration": 217,
    "start_time": "2023-01-26T18:15:28.268Z"
   },
   {
    "duration": 4,
    "start_time": "2023-01-26T18:16:04.868Z"
   },
   {
    "duration": 5,
    "start_time": "2023-01-26T18:16:36.469Z"
   },
   {
    "duration": 4,
    "start_time": "2023-01-26T18:16:39.247Z"
   },
   {
    "duration": 95,
    "start_time": "2023-01-26T18:16:41.004Z"
   },
   {
    "duration": 120,
    "start_time": "2023-01-26T18:16:51.684Z"
   },
   {
    "duration": 347,
    "start_time": "2023-01-26T18:17:53.252Z"
   },
   {
    "duration": 65,
    "start_time": "2023-01-26T18:18:13.120Z"
   },
   {
    "duration": 384,
    "start_time": "2023-01-26T18:18:19.862Z"
   },
   {
    "duration": 61,
    "start_time": "2023-01-26T18:18:35.117Z"
   },
   {
    "duration": 41,
    "start_time": "2023-01-26T18:19:27.484Z"
   },
   {
    "duration": 13,
    "start_time": "2023-01-26T18:24:50.891Z"
   },
   {
    "duration": 6,
    "start_time": "2023-01-26T18:25:06.055Z"
   },
   {
    "duration": 10,
    "start_time": "2023-01-26T18:26:16.506Z"
   },
   {
    "duration": 4,
    "start_time": "2023-01-26T18:26:46.989Z"
   },
   {
    "duration": 8,
    "start_time": "2023-01-26T18:26:47.979Z"
   },
   {
    "duration": 26,
    "start_time": "2023-01-26T18:27:30.494Z"
   },
   {
    "duration": 20,
    "start_time": "2023-01-26T18:30:58.489Z"
   },
   {
    "duration": 14,
    "start_time": "2023-01-26T18:31:01.965Z"
   },
   {
    "duration": 17,
    "start_time": "2023-01-26T18:37:38.443Z"
   },
   {
    "duration": 24,
    "start_time": "2023-01-26T18:37:39.895Z"
   },
   {
    "duration": 6,
    "start_time": "2023-01-26T18:43:08.413Z"
   },
   {
    "duration": 310,
    "start_time": "2023-01-26T18:43:19.552Z"
   },
   {
    "duration": 308,
    "start_time": "2023-01-26T18:43:34.025Z"
   },
   {
    "duration": 377,
    "start_time": "2023-01-26T18:44:21.188Z"
   },
   {
    "duration": 260,
    "start_time": "2023-01-26T18:44:39.105Z"
   },
   {
    "duration": 284,
    "start_time": "2023-01-26T18:44:51.680Z"
   },
   {
    "duration": 285,
    "start_time": "2023-01-26T18:45:25.400Z"
   },
   {
    "duration": 215,
    "start_time": "2023-01-26T18:45:33.254Z"
   },
   {
    "duration": 6,
    "start_time": "2023-01-26T19:05:32.835Z"
   },
   {
    "duration": 7,
    "start_time": "2023-01-26T19:12:38.737Z"
   },
   {
    "duration": 5,
    "start_time": "2023-01-26T19:20:31.014Z"
   },
   {
    "duration": 37,
    "start_time": "2023-01-26T19:22:58.813Z"
   },
   {
    "duration": 34,
    "start_time": "2023-01-26T19:25:24.745Z"
   },
   {
    "duration": 95,
    "start_time": "2023-01-26T19:26:50.473Z"
   },
   {
    "duration": 213,
    "start_time": "2023-01-26T19:27:06.265Z"
   },
   {
    "duration": 174,
    "start_time": "2023-01-26T19:27:57.889Z"
   },
   {
    "duration": 169,
    "start_time": "2023-01-26T19:28:19.522Z"
   },
   {
    "duration": 169,
    "start_time": "2023-01-26T19:28:40.237Z"
   },
   {
    "duration": 206,
    "start_time": "2023-01-26T19:29:14.777Z"
   },
   {
    "duration": 28,
    "start_time": "2023-01-26T19:29:32.521Z"
   },
   {
    "duration": 50,
    "start_time": "2023-01-26T19:29:42.142Z"
   },
   {
    "duration": 64,
    "start_time": "2023-01-26T19:30:33.486Z"
   },
   {
    "duration": 48,
    "start_time": "2023-01-26T19:33:35.829Z"
   },
   {
    "duration": 1309,
    "start_time": "2023-01-26T19:35:05.873Z"
   },
   {
    "duration": 76,
    "start_time": "2023-01-26T19:35:07.184Z"
   },
   {
    "duration": 201,
    "start_time": "2023-01-26T19:35:07.262Z"
   },
   {
    "duration": 5,
    "start_time": "2023-01-26T19:35:07.466Z"
   },
   {
    "duration": 14,
    "start_time": "2023-01-26T19:35:07.473Z"
   },
   {
    "duration": 62,
    "start_time": "2023-01-26T19:35:07.490Z"
   },
   {
    "duration": 96,
    "start_time": "2023-01-26T19:35:07.554Z"
   },
   {
    "duration": 11,
    "start_time": "2023-01-26T19:35:07.652Z"
   },
   {
    "duration": 12,
    "start_time": "2023-01-26T19:35:07.665Z"
   },
   {
    "duration": 250,
    "start_time": "2023-01-26T19:35:07.680Z"
   },
   {
    "duration": 6,
    "start_time": "2023-01-26T19:35:07.931Z"
   },
   {
    "duration": 1130,
    "start_time": "2023-01-26T19:35:34.646Z"
   },
   {
    "duration": 86,
    "start_time": "2023-01-26T19:35:35.778Z"
   },
   {
    "duration": 130,
    "start_time": "2023-01-26T19:35:35.866Z"
   },
   {
    "duration": 4,
    "start_time": "2023-01-26T19:35:35.997Z"
   },
   {
    "duration": 9,
    "start_time": "2023-01-26T19:35:36.002Z"
   },
   {
    "duration": 27,
    "start_time": "2023-01-26T19:35:36.048Z"
   },
   {
    "duration": 85,
    "start_time": "2023-01-26T19:35:36.077Z"
   },
   {
    "duration": 11,
    "start_time": "2023-01-26T19:35:36.164Z"
   },
   {
    "duration": 11,
    "start_time": "2023-01-26T19:35:36.176Z"
   },
   {
    "duration": 281,
    "start_time": "2023-01-26T19:35:36.189Z"
   },
   {
    "duration": 4,
    "start_time": "2023-01-26T19:35:36.472Z"
   },
   {
    "duration": 61,
    "start_time": "2023-01-26T19:37:48.411Z"
   },
   {
    "duration": 64,
    "start_time": "2023-01-26T19:38:04.985Z"
   },
   {
    "duration": 52,
    "start_time": "2023-01-26T19:38:17.794Z"
   },
   {
    "duration": 47,
    "start_time": "2023-01-28T09:22:46.829Z"
   },
   {
    "duration": 43,
    "start_time": "2023-01-28T09:23:05.929Z"
   },
   {
    "duration": 1277,
    "start_time": "2023-01-28T09:23:34.266Z"
   },
   {
    "duration": 248,
    "start_time": "2023-01-28T09:23:35.545Z"
   },
   {
    "duration": 169,
    "start_time": "2023-01-28T09:23:35.795Z"
   },
   {
    "duration": 4,
    "start_time": "2023-01-28T09:23:35.967Z"
   },
   {
    "duration": 37,
    "start_time": "2023-01-28T09:23:35.972Z"
   },
   {
    "duration": 36,
    "start_time": "2023-01-28T09:23:36.016Z"
   },
   {
    "duration": 63,
    "start_time": "2023-01-28T09:23:36.053Z"
   },
   {
    "duration": 13,
    "start_time": "2023-01-28T09:23:36.117Z"
   },
   {
    "duration": 12,
    "start_time": "2023-01-28T09:23:36.132Z"
   },
   {
    "duration": 236,
    "start_time": "2023-01-28T09:23:36.146Z"
   },
   {
    "duration": 12,
    "start_time": "2023-01-28T09:23:36.383Z"
   },
   {
    "duration": 66,
    "start_time": "2023-01-28T09:23:56.898Z"
   },
   {
    "duration": 9,
    "start_time": "2023-01-28T09:24:07.989Z"
   },
   {
    "duration": 8,
    "start_time": "2023-01-28T09:25:26.559Z"
   },
   {
    "duration": 6,
    "start_time": "2023-01-28T09:27:36.630Z"
   },
   {
    "duration": 101,
    "start_time": "2023-01-28T09:29:56.434Z"
   },
   {
    "duration": 11,
    "start_time": "2023-01-28T09:30:10.627Z"
   },
   {
    "duration": 283,
    "start_time": "2023-01-28T09:30:19.275Z"
   },
   {
    "duration": 205,
    "start_time": "2023-01-28T09:30:56.728Z"
   },
   {
    "duration": 199,
    "start_time": "2023-01-28T09:31:10.029Z"
   },
   {
    "duration": 217,
    "start_time": "2023-01-28T09:32:52.823Z"
   },
   {
    "duration": 19,
    "start_time": "2023-01-28T09:38:27.207Z"
   },
   {
    "duration": 8,
    "start_time": "2023-01-28T09:39:37.531Z"
   },
   {
    "duration": 44,
    "start_time": "2023-01-28T09:39:40.201Z"
   },
   {
    "duration": 54,
    "start_time": "2023-01-28T09:40:00.896Z"
   },
   {
    "duration": 1177,
    "start_time": "2023-01-28T09:40:08.236Z"
   },
   {
    "duration": 69,
    "start_time": "2023-01-28T09:40:09.418Z"
   },
   {
    "duration": 153,
    "start_time": "2023-01-28T09:40:09.489Z"
   },
   {
    "duration": 3,
    "start_time": "2023-01-28T09:40:09.645Z"
   },
   {
    "duration": 10,
    "start_time": "2023-01-28T09:40:09.650Z"
   },
   {
    "duration": 56,
    "start_time": "2023-01-28T09:40:09.662Z"
   },
   {
    "duration": 84,
    "start_time": "2023-01-28T09:40:09.720Z"
   },
   {
    "duration": 20,
    "start_time": "2023-01-28T09:40:09.807Z"
   },
   {
    "duration": 14,
    "start_time": "2023-01-28T09:40:09.830Z"
   },
   {
    "duration": 216,
    "start_time": "2023-01-28T09:40:09.846Z"
   },
   {
    "duration": 10,
    "start_time": "2023-01-28T09:40:10.063Z"
   },
   {
    "duration": 141,
    "start_time": "2023-01-28T09:40:10.074Z"
   },
   {
    "duration": 0,
    "start_time": "2023-01-28T09:40:10.217Z"
   },
   {
    "duration": 0,
    "start_time": "2023-01-28T09:40:10.217Z"
   },
   {
    "duration": 6,
    "start_time": "2023-01-28T09:40:51.391Z"
   },
   {
    "duration": 132,
    "start_time": "2023-01-28T09:40:54.829Z"
   },
   {
    "duration": 315,
    "start_time": "2023-01-28T09:41:13.452Z"
   },
   {
    "duration": 217,
    "start_time": "2023-01-28T09:41:36.440Z"
   },
   {
    "duration": 227,
    "start_time": "2023-01-28T09:41:54.141Z"
   },
   {
    "duration": 239,
    "start_time": "2023-01-28T09:43:03.336Z"
   },
   {
    "duration": 233,
    "start_time": "2023-01-28T09:43:08.633Z"
   },
   {
    "duration": 292,
    "start_time": "2023-01-28T09:43:22.605Z"
   },
   {
    "duration": 1148,
    "start_time": "2023-01-28T10:21:57.021Z"
   },
   {
    "duration": 76,
    "start_time": "2023-01-28T10:21:58.171Z"
   },
   {
    "duration": 167,
    "start_time": "2023-01-28T10:21:58.249Z"
   },
   {
    "duration": 4,
    "start_time": "2023-01-28T10:21:58.417Z"
   },
   {
    "duration": 45,
    "start_time": "2023-01-28T10:21:58.424Z"
   },
   {
    "duration": 91,
    "start_time": "2023-01-28T10:21:58.471Z"
   },
   {
    "duration": 53,
    "start_time": "2023-01-28T10:21:58.564Z"
   },
   {
    "duration": 10,
    "start_time": "2023-01-28T10:21:58.621Z"
   },
   {
    "duration": 33,
    "start_time": "2023-01-28T10:21:58.633Z"
   },
   {
    "duration": 268,
    "start_time": "2023-01-28T10:21:58.668Z"
   },
   {
    "duration": 10,
    "start_time": "2023-01-28T10:21:58.939Z"
   },
   {
    "duration": 43,
    "start_time": "2023-01-28T10:21:58.951Z"
   },
   {
    "duration": 391,
    "start_time": "2023-01-28T10:21:58.996Z"
   },
   {
    "duration": 241,
    "start_time": "2023-01-28T10:21:59.390Z"
   },
   {
    "duration": 19,
    "start_time": "2023-01-28T10:25:36.443Z"
   },
   {
    "duration": 10,
    "start_time": "2023-01-28T10:27:01.986Z"
   },
   {
    "duration": 22,
    "start_time": "2023-01-28T10:27:06.426Z"
   },
   {
    "duration": 22,
    "start_time": "2023-01-28T10:27:16.490Z"
   },
   {
    "duration": 213,
    "start_time": "2023-01-28T10:28:10.234Z"
   },
   {
    "duration": 312,
    "start_time": "2023-01-28T10:28:19.354Z"
   },
   {
    "duration": 307,
    "start_time": "2023-01-28T10:28:49.514Z"
   },
   {
    "duration": 343,
    "start_time": "2023-01-28T10:29:00.098Z"
   },
   {
    "duration": 15,
    "start_time": "2023-01-28T10:34:41.878Z"
   },
   {
    "duration": 424,
    "start_time": "2023-01-28T10:34:44.722Z"
   },
   {
    "duration": 144,
    "start_time": "2023-01-28T10:34:50.582Z"
   },
   {
    "duration": 10,
    "start_time": "2023-01-28T10:35:48.857Z"
   },
   {
    "duration": 126,
    "start_time": "2023-01-28T10:36:23.149Z"
   },
   {
    "duration": 232,
    "start_time": "2023-01-28T10:36:32.850Z"
   },
   {
    "duration": 250,
    "start_time": "2023-01-28T10:36:45.681Z"
   },
   {
    "duration": 1735,
    "start_time": "2023-01-28T10:37:27.346Z"
   },
   {
    "duration": 88,
    "start_time": "2023-01-28T10:37:29.083Z"
   },
   {
    "duration": 210,
    "start_time": "2023-01-28T10:37:29.174Z"
   },
   {
    "duration": 29,
    "start_time": "2023-01-28T10:37:29.386Z"
   },
   {
    "duration": 29,
    "start_time": "2023-01-28T10:37:29.420Z"
   },
   {
    "duration": 38,
    "start_time": "2023-01-28T10:37:29.451Z"
   },
   {
    "duration": 65,
    "start_time": "2023-01-28T10:37:29.491Z"
   },
   {
    "duration": 64,
    "start_time": "2023-01-28T10:37:29.557Z"
   },
   {
    "duration": 13,
    "start_time": "2023-01-28T10:37:29.625Z"
   },
   {
    "duration": 234,
    "start_time": "2023-01-28T10:37:29.640Z"
   },
   {
    "duration": 9,
    "start_time": "2023-01-28T10:37:29.876Z"
   },
   {
    "duration": 50,
    "start_time": "2023-01-28T10:37:29.898Z"
   },
   {
    "duration": 426,
    "start_time": "2023-01-28T10:37:29.955Z"
   },
   {
    "duration": 314,
    "start_time": "2023-01-28T10:37:30.384Z"
   },
   {
    "duration": 33,
    "start_time": "2023-01-28T10:37:30.704Z"
   },
   {
    "duration": 438,
    "start_time": "2023-01-28T10:37:30.739Z"
   },
   {
    "duration": 26,
    "start_time": "2023-01-28T10:37:31.179Z"
   },
   {
    "duration": 335,
    "start_time": "2023-01-28T10:37:31.215Z"
   },
   {
    "duration": 1052,
    "start_time": "2023-01-28T10:41:10.945Z"
   },
   {
    "duration": 382,
    "start_time": "2023-01-28T10:41:40.185Z"
   },
   {
    "duration": 311,
    "start_time": "2023-01-28T10:41:56.037Z"
   },
   {
    "duration": 483,
    "start_time": "2023-01-28T10:43:43.742Z"
   },
   {
    "duration": 35,
    "start_time": "2023-01-28T10:47:03.296Z"
   },
   {
    "duration": 101,
    "start_time": "2023-01-28T10:47:07.871Z"
   },
   {
    "duration": 13,
    "start_time": "2023-01-28T10:48:10.077Z"
   },
   {
    "duration": 69,
    "start_time": "2023-01-28T10:51:07.648Z"
   },
   {
    "duration": 1152,
    "start_time": "2023-01-28T10:51:55.334Z"
   },
   {
    "duration": 142,
    "start_time": "2023-01-28T10:54:21.280Z"
   },
   {
    "duration": 217,
    "start_time": "2023-01-28T10:54:27.349Z"
   },
   {
    "duration": 135,
    "start_time": "2023-01-28T10:54:48.887Z"
   },
   {
    "duration": 246,
    "start_time": "2023-01-28T10:55:47.638Z"
   },
   {
    "duration": 280,
    "start_time": "2023-01-28T10:57:23.061Z"
   },
   {
    "duration": 249,
    "start_time": "2023-01-28T10:57:33.789Z"
   },
   {
    "duration": 144,
    "start_time": "2023-01-28T10:59:16.033Z"
   },
   {
    "duration": 212,
    "start_time": "2023-01-28T10:59:17.394Z"
   },
   {
    "duration": 134,
    "start_time": "2023-01-28T11:03:18.672Z"
   },
   {
    "duration": 214,
    "start_time": "2023-01-28T11:03:20.184Z"
   },
   {
    "duration": 204,
    "start_time": "2023-01-28T11:03:47.536Z"
   },
   {
    "duration": 18,
    "start_time": "2023-01-28T11:06:26.441Z"
   },
   {
    "duration": 19,
    "start_time": "2023-01-28T11:06:28.825Z"
   },
   {
    "duration": 144,
    "start_time": "2023-01-28T11:06:33.161Z"
   },
   {
    "duration": 128,
    "start_time": "2023-01-28T11:06:53.430Z"
   },
   {
    "duration": 142,
    "start_time": "2023-01-28T11:06:58.649Z"
   },
   {
    "duration": 173,
    "start_time": "2023-01-28T11:07:28.351Z"
   },
   {
    "duration": 186,
    "start_time": "2023-01-28T11:07:31.793Z"
   },
   {
    "duration": 215,
    "start_time": "2023-01-28T11:08:08.985Z"
   },
   {
    "duration": 159,
    "start_time": "2023-01-28T11:08:15.481Z"
   },
   {
    "duration": 149,
    "start_time": "2023-01-28T11:08:21.236Z"
   },
   {
    "duration": 1031,
    "start_time": "2023-01-28T11:08:39.837Z"
   },
   {
    "duration": 155,
    "start_time": "2023-01-28T11:08:46.845Z"
   },
   {
    "duration": 55,
    "start_time": "2023-01-28T11:10:32.382Z"
   },
   {
    "duration": 141,
    "start_time": "2023-01-28T11:10:51.045Z"
   },
   {
    "duration": 29,
    "start_time": "2023-01-28T11:10:52.633Z"
   },
   {
    "duration": 136,
    "start_time": "2023-01-28T11:11:09.658Z"
   },
   {
    "duration": 212,
    "start_time": "2023-01-28T11:11:14.835Z"
   },
   {
    "duration": 1225,
    "start_time": "2023-01-28T11:11:24.897Z"
   },
   {
    "duration": 77,
    "start_time": "2023-01-28T11:11:26.124Z"
   },
   {
    "duration": 203,
    "start_time": "2023-01-28T11:11:26.203Z"
   },
   {
    "duration": 5,
    "start_time": "2023-01-28T11:11:26.409Z"
   },
   {
    "duration": 14,
    "start_time": "2023-01-28T11:11:26.424Z"
   },
   {
    "duration": 101,
    "start_time": "2023-01-28T11:11:26.440Z"
   },
   {
    "duration": 108,
    "start_time": "2023-01-28T11:11:26.544Z"
   },
   {
    "duration": 12,
    "start_time": "2023-01-28T11:11:26.653Z"
   },
   {
    "duration": 47,
    "start_time": "2023-01-28T11:11:26.667Z"
   },
   {
    "duration": 319,
    "start_time": "2023-01-28T11:11:26.717Z"
   },
   {
    "duration": 13,
    "start_time": "2023-01-28T11:11:27.041Z"
   },
   {
    "duration": 20,
    "start_time": "2023-01-28T11:11:27.056Z"
   },
   {
    "duration": 404,
    "start_time": "2023-01-28T11:11:27.079Z"
   },
   {
    "duration": 296,
    "start_time": "2023-01-28T11:11:27.484Z"
   },
   {
    "duration": 32,
    "start_time": "2023-01-28T11:11:27.782Z"
   },
   {
    "duration": 393,
    "start_time": "2023-01-28T11:11:27.816Z"
   },
   {
    "duration": 14,
    "start_time": "2023-01-28T11:11:28.211Z"
   },
   {
    "duration": 307,
    "start_time": "2023-01-28T11:11:28.226Z"
   },
   {
    "duration": 426,
    "start_time": "2023-01-28T11:11:28.537Z"
   },
   {
    "duration": 14,
    "start_time": "2023-01-28T11:11:28.965Z"
   },
   {
    "duration": 164,
    "start_time": "2023-01-28T11:11:29.000Z"
   },
   {
    "duration": 147,
    "start_time": "2023-01-28T11:11:29.166Z"
   },
   {
    "duration": 0,
    "start_time": "2023-01-28T11:11:29.315Z"
   },
   {
    "duration": 0,
    "start_time": "2023-01-28T11:11:29.316Z"
   },
   {
    "duration": 0,
    "start_time": "2023-01-28T11:11:29.319Z"
   },
   {
    "duration": 132,
    "start_time": "2023-01-28T11:11:42.078Z"
   },
   {
    "duration": 314,
    "start_time": "2023-01-28T11:11:43.963Z"
   },
   {
    "duration": 173,
    "start_time": "2023-01-28T11:12:05.038Z"
   },
   {
    "duration": 253,
    "start_time": "2023-01-28T11:12:54.262Z"
   },
   {
    "duration": 195,
    "start_time": "2023-01-28T11:13:08.352Z"
   },
   {
    "duration": 228,
    "start_time": "2023-01-28T11:13:12.063Z"
   },
   {
    "duration": 168,
    "start_time": "2023-01-28T11:13:30.676Z"
   },
   {
    "duration": 278,
    "start_time": "2023-01-28T11:14:20.969Z"
   },
   {
    "duration": 193,
    "start_time": "2023-01-28T11:14:32.438Z"
   },
   {
    "duration": 365,
    "start_time": "2023-01-28T11:14:37.939Z"
   },
   {
    "duration": 1642,
    "start_time": "2023-01-28T11:15:14.146Z"
   },
   {
    "duration": 94,
    "start_time": "2023-01-28T11:15:15.791Z"
   },
   {
    "duration": 254,
    "start_time": "2023-01-28T11:15:15.888Z"
   },
   {
    "duration": 7,
    "start_time": "2023-01-28T11:15:16.145Z"
   },
   {
    "duration": 31,
    "start_time": "2023-01-28T11:15:16.156Z"
   },
   {
    "duration": 40,
    "start_time": "2023-01-28T11:15:16.189Z"
   },
   {
    "duration": 124,
    "start_time": "2023-01-28T11:15:16.230Z"
   },
   {
    "duration": 30,
    "start_time": "2023-01-28T11:15:16.356Z"
   },
   {
    "duration": 92,
    "start_time": "2023-01-28T11:15:16.388Z"
   },
   {
    "duration": 425,
    "start_time": "2023-01-28T11:15:16.482Z"
   },
   {
    "duration": 25,
    "start_time": "2023-01-28T11:15:16.915Z"
   },
   {
    "duration": 53,
    "start_time": "2023-01-28T11:15:16.949Z"
   },
   {
    "duration": 537,
    "start_time": "2023-01-28T11:15:17.004Z"
   },
   {
    "duration": 355,
    "start_time": "2023-01-28T11:15:17.549Z"
   },
   {
    "duration": 31,
    "start_time": "2023-01-28T11:15:17.908Z"
   },
   {
    "duration": 514,
    "start_time": "2023-01-28T11:15:17.942Z"
   },
   {
    "duration": 18,
    "start_time": "2023-01-28T11:15:18.468Z"
   },
   {
    "duration": 941,
    "start_time": "2023-01-28T11:15:18.489Z"
   },
   {
    "duration": 396,
    "start_time": "2023-01-28T11:15:19.435Z"
   },
   {
    "duration": 23,
    "start_time": "2023-01-28T11:15:19.838Z"
   },
   {
    "duration": 364,
    "start_time": "2023-01-28T11:15:19.867Z"
   },
   {
    "duration": 415,
    "start_time": "2023-01-28T11:15:20.237Z"
   },
   {
    "duration": 287,
    "start_time": "2023-01-28T11:15:20.654Z"
   },
   {
    "duration": 369,
    "start_time": "2023-01-28T11:19:18.871Z"
   },
   {
    "duration": 11,
    "start_time": "2023-01-28T11:19:56.396Z"
   },
   {
    "duration": 1759,
    "start_time": "2023-01-28T11:20:01.937Z"
   },
   {
    "duration": 90,
    "start_time": "2023-01-28T11:20:03.699Z"
   },
   {
    "duration": 283,
    "start_time": "2023-01-28T11:20:03.791Z"
   },
   {
    "duration": 5,
    "start_time": "2023-01-28T11:20:04.077Z"
   },
   {
    "duration": 85,
    "start_time": "2023-01-28T11:20:04.086Z"
   },
   {
    "duration": 75,
    "start_time": "2023-01-28T11:20:04.174Z"
   },
   {
    "duration": 113,
    "start_time": "2023-01-28T11:20:04.251Z"
   },
   {
    "duration": 122,
    "start_time": "2023-01-28T11:20:04.367Z"
   },
   {
    "duration": 19,
    "start_time": "2023-01-28T11:20:04.491Z"
   },
   {
    "duration": 410,
    "start_time": "2023-01-28T11:20:04.512Z"
   },
   {
    "duration": 11,
    "start_time": "2023-01-28T11:20:04.924Z"
   },
   {
    "duration": 35,
    "start_time": "2023-01-28T11:20:04.937Z"
   },
   {
    "duration": 637,
    "start_time": "2023-01-28T11:20:04.974Z"
   },
   {
    "duration": 416,
    "start_time": "2023-01-28T11:20:05.615Z"
   },
   {
    "duration": 20,
    "start_time": "2023-01-28T11:20:06.037Z"
   },
   {
    "duration": 513,
    "start_time": "2023-01-28T11:20:06.059Z"
   },
   {
    "duration": 11,
    "start_time": "2023-01-28T11:20:06.574Z"
   },
   {
    "duration": 435,
    "start_time": "2023-01-28T11:20:06.587Z"
   },
   {
    "duration": 496,
    "start_time": "2023-01-28T11:20:07.024Z"
   },
   {
    "duration": 17,
    "start_time": "2023-01-28T11:20:07.523Z"
   },
   {
    "duration": 220,
    "start_time": "2023-01-28T11:20:07.542Z"
   },
   {
    "duration": 317,
    "start_time": "2023-01-28T11:20:07.765Z"
   },
   {
    "duration": 164,
    "start_time": "2023-01-28T11:20:08.085Z"
   },
   {
    "duration": 432,
    "start_time": "2023-01-28T11:20:08.252Z"
   },
   {
    "duration": 364,
    "start_time": "2023-01-28T11:22:56.597Z"
   },
   {
    "duration": 334,
    "start_time": "2023-01-28T11:23:16.381Z"
   },
   {
    "duration": 1469,
    "start_time": "2023-01-28T11:23:27.322Z"
   },
   {
    "duration": 92,
    "start_time": "2023-01-28T11:23:28.794Z"
   },
   {
    "duration": 222,
    "start_time": "2023-01-28T11:23:28.888Z"
   },
   {
    "duration": 6,
    "start_time": "2023-01-28T11:23:29.113Z"
   },
   {
    "duration": 41,
    "start_time": "2023-01-28T11:23:29.123Z"
   },
   {
    "duration": 47,
    "start_time": "2023-01-28T11:23:29.166Z"
   },
   {
    "duration": 105,
    "start_time": "2023-01-28T11:23:29.215Z"
   },
   {
    "duration": 31,
    "start_time": "2023-01-28T11:23:29.322Z"
   },
   {
    "duration": 31,
    "start_time": "2023-01-28T11:23:29.356Z"
   },
   {
    "duration": 419,
    "start_time": "2023-01-28T11:23:29.390Z"
   },
   {
    "duration": 11,
    "start_time": "2023-01-28T11:23:29.810Z"
   },
   {
    "duration": 42,
    "start_time": "2023-01-28T11:23:29.823Z"
   },
   {
    "duration": 484,
    "start_time": "2023-01-28T11:23:29.866Z"
   },
   {
    "duration": 380,
    "start_time": "2023-01-28T11:23:30.354Z"
   },
   {
    "duration": 23,
    "start_time": "2023-01-28T11:23:30.736Z"
   },
   {
    "duration": 733,
    "start_time": "2023-01-28T11:23:30.761Z"
   },
   {
    "duration": 19,
    "start_time": "2023-01-28T11:23:31.496Z"
   },
   {
    "duration": 590,
    "start_time": "2023-01-28T11:23:31.517Z"
   },
   {
    "duration": 559,
    "start_time": "2023-01-28T11:23:32.109Z"
   },
   {
    "duration": 21,
    "start_time": "2023-01-28T11:23:32.669Z"
   },
   {
    "duration": 338,
    "start_time": "2023-01-28T11:23:32.693Z"
   },
   {
    "duration": 385,
    "start_time": "2023-01-28T11:23:33.033Z"
   },
   {
    "duration": 164,
    "start_time": "2023-01-28T11:23:33.424Z"
   },
   {
    "duration": 457,
    "start_time": "2023-01-28T11:23:33.590Z"
   },
   {
    "duration": 392,
    "start_time": "2023-01-28T11:24:45.239Z"
   },
   {
    "duration": 444,
    "start_time": "2023-01-28T11:25:37.047Z"
   },
   {
    "duration": 1375,
    "start_time": "2023-01-28T11:26:51.586Z"
   },
   {
    "duration": 90,
    "start_time": "2023-01-28T11:26:52.964Z"
   },
   {
    "duration": 207,
    "start_time": "2023-01-28T11:26:53.056Z"
   },
   {
    "duration": 4,
    "start_time": "2023-01-28T11:26:53.265Z"
   },
   {
    "duration": 65,
    "start_time": "2023-01-28T11:26:53.273Z"
   },
   {
    "duration": 48,
    "start_time": "2023-01-28T11:26:53.342Z"
   },
   {
    "duration": 58,
    "start_time": "2023-01-28T11:26:53.393Z"
   },
   {
    "duration": 55,
    "start_time": "2023-01-28T11:26:53.453Z"
   },
   {
    "duration": 42,
    "start_time": "2023-01-28T11:26:53.511Z"
   },
   {
    "duration": 291,
    "start_time": "2023-01-28T11:26:53.556Z"
   },
   {
    "duration": 11,
    "start_time": "2023-01-28T11:26:53.849Z"
   },
   {
    "duration": 13,
    "start_time": "2023-01-28T11:26:53.863Z"
   },
   {
    "duration": 642,
    "start_time": "2023-01-28T11:26:53.878Z"
   },
   {
    "duration": 360,
    "start_time": "2023-01-28T11:26:54.524Z"
   },
   {
    "duration": 32,
    "start_time": "2023-01-28T11:26:54.886Z"
   },
   {
    "duration": 486,
    "start_time": "2023-01-28T11:26:54.921Z"
   },
   {
    "duration": 15,
    "start_time": "2023-01-28T11:26:55.409Z"
   },
   {
    "duration": 409,
    "start_time": "2023-01-28T11:26:55.426Z"
   },
   {
    "duration": 543,
    "start_time": "2023-01-28T11:26:55.837Z"
   },
   {
    "duration": 30,
    "start_time": "2023-01-28T11:26:56.382Z"
   },
   {
    "duration": 214,
    "start_time": "2023-01-28T11:26:56.425Z"
   },
   {
    "duration": 298,
    "start_time": "2023-01-28T11:26:56.641Z"
   },
   {
    "duration": 196,
    "start_time": "2023-01-28T11:26:56.941Z"
   },
   {
    "duration": 175,
    "start_time": "2023-01-28T11:26:57.139Z"
   },
   {
    "duration": 571,
    "start_time": "2023-01-28T11:27:01.134Z"
   },
   {
    "duration": 1359,
    "start_time": "2023-01-28T11:27:10.648Z"
   },
   {
    "duration": 79,
    "start_time": "2023-01-28T11:27:12.009Z"
   },
   {
    "duration": 214,
    "start_time": "2023-01-28T11:27:12.090Z"
   },
   {
    "duration": 5,
    "start_time": "2023-01-28T11:27:12.306Z"
   },
   {
    "duration": 41,
    "start_time": "2023-01-28T11:27:12.316Z"
   },
   {
    "duration": 54,
    "start_time": "2023-01-28T11:27:12.360Z"
   },
   {
    "duration": 91,
    "start_time": "2023-01-28T11:27:12.416Z"
   },
   {
    "duration": 15,
    "start_time": "2023-01-28T11:27:12.509Z"
   },
   {
    "duration": 80,
    "start_time": "2023-01-28T11:27:12.526Z"
   },
   {
    "duration": 364,
    "start_time": "2023-01-28T11:27:12.615Z"
   },
   {
    "duration": 25,
    "start_time": "2023-01-28T11:27:12.981Z"
   },
   {
    "duration": 46,
    "start_time": "2023-01-28T11:27:13.017Z"
   },
   {
    "duration": 595,
    "start_time": "2023-01-28T11:27:13.066Z"
   },
   {
    "duration": 408,
    "start_time": "2023-01-28T11:27:13.664Z"
   },
   {
    "duration": 28,
    "start_time": "2023-01-28T11:27:14.074Z"
   },
   {
    "duration": 571,
    "start_time": "2023-01-28T11:27:14.104Z"
   },
   {
    "duration": 26,
    "start_time": "2023-01-28T11:27:14.677Z"
   },
   {
    "duration": 359,
    "start_time": "2023-01-28T11:27:14.705Z"
   },
   {
    "duration": 496,
    "start_time": "2023-01-28T11:27:15.067Z"
   },
   {
    "duration": 13,
    "start_time": "2023-01-28T11:27:15.566Z"
   },
   {
    "duration": 211,
    "start_time": "2023-01-28T11:27:15.582Z"
   },
   {
    "duration": 386,
    "start_time": "2023-01-28T11:27:15.795Z"
   },
   {
    "duration": 189,
    "start_time": "2023-01-28T11:27:16.183Z"
   },
   {
    "duration": 144,
    "start_time": "2023-01-28T11:27:16.374Z"
   },
   {
    "duration": 481,
    "start_time": "2023-01-28T11:27:33.352Z"
   },
   {
    "duration": 5,
    "start_time": "2023-01-28T11:29:33.221Z"
   },
   {
    "duration": 5,
    "start_time": "2023-01-28T11:30:28.724Z"
   },
   {
    "duration": 4,
    "start_time": "2023-01-28T11:30:33.587Z"
   },
   {
    "duration": 6,
    "start_time": "2023-01-28T11:30:40.859Z"
   },
   {
    "duration": 219,
    "start_time": "2023-01-28T12:35:17.624Z"
   },
   {
    "duration": 273,
    "start_time": "2023-01-28T12:40:02.299Z"
   },
   {
    "duration": 14,
    "start_time": "2023-01-28T12:40:20.542Z"
   },
   {
    "duration": 708,
    "start_time": "2023-01-28T12:40:54.390Z"
   },
   {
    "duration": 153,
    "start_time": "2023-01-28T12:41:48.777Z"
   },
   {
    "duration": 693,
    "start_time": "2023-01-28T12:41:50.185Z"
   },
   {
    "duration": 266,
    "start_time": "2023-01-28T12:43:00.697Z"
   },
   {
    "duration": 220,
    "start_time": "2023-01-28T12:46:25.081Z"
   },
   {
    "duration": 217,
    "start_time": "2023-01-28T12:46:34.960Z"
   },
   {
    "duration": 211,
    "start_time": "2023-01-28T12:46:39.904Z"
   },
   {
    "duration": 91,
    "start_time": "2023-01-28T12:47:58.608Z"
   },
   {
    "duration": 207,
    "start_time": "2023-01-28T12:48:16.704Z"
   },
   {
    "duration": 278,
    "start_time": "2023-01-28T12:48:27.000Z"
   },
   {
    "duration": 237,
    "start_time": "2023-01-28T12:48:42.939Z"
   },
   {
    "duration": 250,
    "start_time": "2023-01-28T12:49:02.224Z"
   },
   {
    "duration": 1188,
    "start_time": "2023-01-28T12:49:16.819Z"
   },
   {
    "duration": 69,
    "start_time": "2023-01-28T12:49:18.009Z"
   },
   {
    "duration": 170,
    "start_time": "2023-01-28T12:49:18.079Z"
   },
   {
    "duration": 4,
    "start_time": "2023-01-28T12:49:18.252Z"
   },
   {
    "duration": 21,
    "start_time": "2023-01-28T12:49:18.258Z"
   },
   {
    "duration": 48,
    "start_time": "2023-01-28T12:49:18.281Z"
   },
   {
    "duration": 90,
    "start_time": "2023-01-28T12:49:18.331Z"
   },
   {
    "duration": 12,
    "start_time": "2023-01-28T12:49:18.424Z"
   },
   {
    "duration": 11,
    "start_time": "2023-01-28T12:49:18.438Z"
   },
   {
    "duration": 343,
    "start_time": "2023-01-28T12:49:18.452Z"
   },
   {
    "duration": 10,
    "start_time": "2023-01-28T12:49:18.796Z"
   },
   {
    "duration": 19,
    "start_time": "2023-01-28T12:49:18.808Z"
   },
   {
    "duration": 364,
    "start_time": "2023-01-28T12:49:18.829Z"
   },
   {
    "duration": 307,
    "start_time": "2023-01-28T12:49:19.194Z"
   },
   {
    "duration": 16,
    "start_time": "2023-01-28T12:49:19.503Z"
   },
   {
    "duration": 423,
    "start_time": "2023-01-28T12:49:19.521Z"
   },
   {
    "duration": 10,
    "start_time": "2023-01-28T12:49:19.946Z"
   },
   {
    "duration": 333,
    "start_time": "2023-01-28T12:49:19.958Z"
   },
   {
    "duration": 471,
    "start_time": "2023-01-28T12:49:20.293Z"
   },
   {
    "duration": 10,
    "start_time": "2023-01-28T12:49:20.767Z"
   },
   {
    "duration": 175,
    "start_time": "2023-01-28T12:49:20.779Z"
   },
   {
    "duration": 284,
    "start_time": "2023-01-28T12:49:20.955Z"
   },
   {
    "duration": 185,
    "start_time": "2023-01-28T12:49:21.241Z"
   },
   {
    "duration": 496,
    "start_time": "2023-01-28T12:49:21.427Z"
   },
   {
    "duration": 6,
    "start_time": "2023-01-28T12:49:21.925Z"
   },
   {
    "duration": 242,
    "start_time": "2023-01-28T12:49:21.933Z"
   },
   {
    "duration": 156,
    "start_time": "2023-01-28T12:49:22.177Z"
   },
   {
    "duration": 10,
    "start_time": "2023-01-28T12:49:22.337Z"
   },
   {
    "duration": 102,
    "start_time": "2023-01-28T12:50:07.931Z"
   },
   {
    "duration": 7,
    "start_time": "2023-01-28T12:50:39.970Z"
   },
   {
    "duration": 9,
    "start_time": "2023-01-28T12:50:41.415Z"
   },
   {
    "duration": 23,
    "start_time": "2023-01-28T12:51:25.806Z"
   },
   {
    "duration": 26,
    "start_time": "2023-01-28T12:52:32.223Z"
   },
   {
    "duration": 23,
    "start_time": "2023-01-28T12:52:47.243Z"
   },
   {
    "duration": 21,
    "start_time": "2023-01-28T12:52:57.010Z"
   },
   {
    "duration": 38,
    "start_time": "2023-01-28T12:53:02.938Z"
   },
   {
    "duration": 22,
    "start_time": "2023-01-28T12:53:14.306Z"
   },
   {
    "duration": 14,
    "start_time": "2023-01-28T12:56:28.490Z"
   },
   {
    "duration": 11,
    "start_time": "2023-01-28T12:56:33.346Z"
   },
   {
    "duration": 12,
    "start_time": "2023-01-28T13:01:08.686Z"
   },
   {
    "duration": 741,
    "start_time": "2023-01-28T13:02:42.645Z"
   },
   {
    "duration": 662,
    "start_time": "2023-01-28T13:03:02.245Z"
   },
   {
    "duration": 714,
    "start_time": "2023-01-28T13:03:11.158Z"
   },
   {
    "duration": 13,
    "start_time": "2023-01-28T13:03:28.190Z"
   },
   {
    "duration": 6,
    "start_time": "2023-01-28T13:09:18.677Z"
   },
   {
    "duration": 693,
    "start_time": "2023-01-28T13:09:26.109Z"
   },
   {
    "duration": 9,
    "start_time": "2023-01-28T13:09:37.897Z"
   },
   {
    "duration": 10,
    "start_time": "2023-01-28T13:10:16.104Z"
   },
   {
    "duration": 12,
    "start_time": "2023-01-28T13:10:40.026Z"
   },
   {
    "duration": 11,
    "start_time": "2023-01-28T13:10:44.057Z"
   },
   {
    "duration": 25,
    "start_time": "2023-01-28T13:11:01.497Z"
   },
   {
    "duration": 15,
    "start_time": "2023-01-28T13:14:31.374Z"
   },
   {
    "duration": 13,
    "start_time": "2023-01-28T13:18:56.634Z"
   },
   {
    "duration": 794,
    "start_time": "2023-01-28T13:19:01.165Z"
   },
   {
    "duration": 18,
    "start_time": "2023-01-28T13:20:37.521Z"
   },
   {
    "duration": 1184,
    "start_time": "2023-01-28T13:26:42.594Z"
   },
   {
    "duration": 66,
    "start_time": "2023-01-28T13:26:43.780Z"
   },
   {
    "duration": 175,
    "start_time": "2023-01-28T13:26:43.848Z"
   },
   {
    "duration": 6,
    "start_time": "2023-01-28T13:26:44.026Z"
   },
   {
    "duration": 15,
    "start_time": "2023-01-28T13:26:44.035Z"
   },
   {
    "duration": 61,
    "start_time": "2023-01-28T13:26:44.053Z"
   },
   {
    "duration": 95,
    "start_time": "2023-01-28T13:26:44.116Z"
   },
   {
    "duration": 15,
    "start_time": "2023-01-28T13:26:44.213Z"
   },
   {
    "duration": 15,
    "start_time": "2023-01-28T13:26:44.230Z"
   },
   {
    "duration": 312,
    "start_time": "2023-01-28T13:26:44.247Z"
   },
   {
    "duration": 10,
    "start_time": "2023-01-28T13:26:44.561Z"
   },
   {
    "duration": 13,
    "start_time": "2023-01-28T13:26:44.573Z"
   },
   {
    "duration": 375,
    "start_time": "2023-01-28T13:26:44.601Z"
   },
   {
    "duration": 289,
    "start_time": "2023-01-28T13:26:44.978Z"
   },
   {
    "duration": 17,
    "start_time": "2023-01-28T13:26:45.269Z"
   },
   {
    "duration": 419,
    "start_time": "2023-01-28T13:26:45.299Z"
   },
   {
    "duration": 29,
    "start_time": "2023-01-28T13:26:45.720Z"
   },
   {
    "duration": 296,
    "start_time": "2023-01-28T13:26:45.751Z"
   },
   {
    "duration": 439,
    "start_time": "2023-01-28T13:26:46.048Z"
   },
   {
    "duration": 13,
    "start_time": "2023-01-28T13:26:46.488Z"
   },
   {
    "duration": 163,
    "start_time": "2023-01-28T13:26:46.503Z"
   },
   {
    "duration": 285,
    "start_time": "2023-01-28T13:26:46.668Z"
   },
   {
    "duration": 167,
    "start_time": "2023-01-28T13:26:46.955Z"
   },
   {
    "duration": 367,
    "start_time": "2023-01-28T13:26:47.127Z"
   },
   {
    "duration": 5,
    "start_time": "2023-01-28T13:26:47.499Z"
   },
   {
    "duration": 232,
    "start_time": "2023-01-28T13:26:47.506Z"
   },
   {
    "duration": 138,
    "start_time": "2023-01-28T13:26:47.740Z"
   },
   {
    "duration": 6,
    "start_time": "2023-01-28T13:26:47.880Z"
   },
   {
    "duration": 22,
    "start_time": "2023-01-28T13:26:47.899Z"
   },
   {
    "duration": 15,
    "start_time": "2023-01-28T13:26:47.923Z"
   },
   {
    "duration": 15,
    "start_time": "2023-01-28T13:26:47.939Z"
   },
   {
    "duration": 10,
    "start_time": "2023-01-28T13:26:47.957Z"
   },
   {
    "duration": 35,
    "start_time": "2023-01-28T13:26:48.000Z"
   },
   {
    "duration": 16,
    "start_time": "2023-01-28T13:26:48.038Z"
   },
   {
    "duration": 1313,
    "start_time": "2023-01-29T08:09:41.282Z"
   },
   {
    "duration": 104,
    "start_time": "2023-01-29T08:09:42.597Z"
   },
   {
    "duration": 205,
    "start_time": "2023-01-29T08:09:42.703Z"
   },
   {
    "duration": 4,
    "start_time": "2023-01-29T08:09:42.911Z"
   },
   {
    "duration": 18,
    "start_time": "2023-01-29T08:09:42.917Z"
   },
   {
    "duration": 74,
    "start_time": "2023-01-29T08:09:42.940Z"
   },
   {
    "duration": 62,
    "start_time": "2023-01-29T08:09:43.016Z"
   },
   {
    "duration": 12,
    "start_time": "2023-01-29T08:09:43.080Z"
   },
   {
    "duration": 10,
    "start_time": "2023-01-29T08:09:43.094Z"
   },
   {
    "duration": 326,
    "start_time": "2023-01-29T08:09:43.107Z"
   },
   {
    "duration": 31,
    "start_time": "2023-01-29T08:09:43.437Z"
   },
   {
    "duration": 24,
    "start_time": "2023-01-29T08:09:43.481Z"
   },
   {
    "duration": 501,
    "start_time": "2023-01-29T08:09:43.507Z"
   },
   {
    "duration": 358,
    "start_time": "2023-01-29T08:09:44.010Z"
   },
   {
    "duration": 17,
    "start_time": "2023-01-29T08:09:44.370Z"
   },
   {
    "duration": 514,
    "start_time": "2023-01-29T08:09:44.388Z"
   },
   {
    "duration": 10,
    "start_time": "2023-01-29T08:09:44.904Z"
   },
   {
    "duration": 384,
    "start_time": "2023-01-29T08:09:44.916Z"
   },
   {
    "duration": 511,
    "start_time": "2023-01-29T08:09:45.301Z"
   },
   {
    "duration": 10,
    "start_time": "2023-01-29T08:09:45.814Z"
   },
   {
    "duration": 183,
    "start_time": "2023-01-29T08:09:45.826Z"
   },
   {
    "duration": 353,
    "start_time": "2023-01-29T08:09:46.010Z"
   },
   {
    "duration": 161,
    "start_time": "2023-01-29T08:09:46.370Z"
   },
   {
    "duration": 409,
    "start_time": "2023-01-29T08:09:46.533Z"
   },
   {
    "duration": 16,
    "start_time": "2023-01-29T08:09:46.944Z"
   },
   {
    "duration": 258,
    "start_time": "2023-01-29T08:09:46.962Z"
   },
   {
    "duration": 172,
    "start_time": "2023-01-29T08:09:47.223Z"
   },
   {
    "duration": 9,
    "start_time": "2023-01-29T08:09:47.399Z"
   },
   {
    "duration": 56,
    "start_time": "2023-01-29T08:09:47.409Z"
   },
   {
    "duration": 26,
    "start_time": "2023-01-29T08:09:47.467Z"
   },
   {
    "duration": 17,
    "start_time": "2023-01-29T08:09:47.495Z"
   },
   {
    "duration": 15,
    "start_time": "2023-01-29T08:09:47.514Z"
   },
   {
    "duration": 49,
    "start_time": "2023-01-29T08:09:47.530Z"
   },
   {
    "duration": 22,
    "start_time": "2023-01-29T08:09:47.581Z"
   },
   {
    "duration": 53,
    "start_time": "2023-01-29T13:24:09.476Z"
   },
   {
    "duration": 1368,
    "start_time": "2023-01-29T13:24:26.716Z"
   },
   {
    "duration": 225,
    "start_time": "2023-01-29T13:24:28.086Z"
   },
   {
    "duration": 159,
    "start_time": "2023-01-29T13:24:28.312Z"
   },
   {
    "duration": 5,
    "start_time": "2023-01-29T13:24:28.473Z"
   },
   {
    "duration": 9,
    "start_time": "2023-01-29T13:24:28.480Z"
   },
   {
    "duration": 30,
    "start_time": "2023-01-29T13:24:28.520Z"
   },
   {
    "duration": 87,
    "start_time": "2023-01-29T13:24:28.552Z"
   },
   {
    "duration": 12,
    "start_time": "2023-01-29T13:24:28.641Z"
   },
   {
    "duration": 12,
    "start_time": "2023-01-29T13:24:28.654Z"
   },
   {
    "duration": 303,
    "start_time": "2023-01-29T13:24:28.668Z"
   },
   {
    "duration": 9,
    "start_time": "2023-01-29T13:24:28.973Z"
   },
   {
    "duration": 6,
    "start_time": "2023-01-29T13:24:28.983Z"
   },
   {
    "duration": 415,
    "start_time": "2023-01-29T13:24:28.990Z"
   },
   {
    "duration": 309,
    "start_time": "2023-01-29T13:24:29.406Z"
   },
   {
    "duration": 19,
    "start_time": "2023-01-29T13:24:29.717Z"
   },
   {
    "duration": 472,
    "start_time": "2023-01-29T13:24:29.738Z"
   },
   {
    "duration": 15,
    "start_time": "2023-01-29T13:24:30.212Z"
   },
   {
    "duration": 325,
    "start_time": "2023-01-29T13:24:30.229Z"
   },
   {
    "duration": 405,
    "start_time": "2023-01-29T13:24:30.556Z"
   },
   {
    "duration": 10,
    "start_time": "2023-01-29T13:24:30.963Z"
   },
   {
    "duration": 161,
    "start_time": "2023-01-29T13:24:30.975Z"
   },
   {
    "duration": 291,
    "start_time": "2023-01-29T13:24:31.137Z"
   },
   {
    "duration": 170,
    "start_time": "2023-01-29T13:24:31.430Z"
   },
   {
    "duration": 343,
    "start_time": "2023-01-29T13:24:31.601Z"
   },
   {
    "duration": 5,
    "start_time": "2023-01-29T13:24:31.947Z"
   },
   {
    "duration": 237,
    "start_time": "2023-01-29T13:24:31.953Z"
   },
   {
    "duration": 137,
    "start_time": "2023-01-29T13:24:32.192Z"
   },
   {
    "duration": 7,
    "start_time": "2023-01-29T13:24:32.332Z"
   },
   {
    "duration": 29,
    "start_time": "2023-01-29T13:24:32.341Z"
   },
   {
    "duration": 12,
    "start_time": "2023-01-29T13:24:32.372Z"
   },
   {
    "duration": 11,
    "start_time": "2023-01-29T13:24:32.385Z"
   },
   {
    "duration": 8,
    "start_time": "2023-01-29T13:24:32.422Z"
   },
   {
    "duration": 29,
    "start_time": "2023-01-29T13:24:32.432Z"
   },
   {
    "duration": 15,
    "start_time": "2023-01-29T13:24:32.463Z"
   },
   {
    "duration": 416,
    "start_time": "2023-01-29T13:35:46.956Z"
   },
   {
    "duration": 470,
    "start_time": "2023-01-29T13:36:02.588Z"
   },
   {
    "duration": 322,
    "start_time": "2023-01-29T13:36:09.949Z"
   },
   {
    "duration": 1316,
    "start_time": "2023-01-29T13:43:14.117Z"
   },
   {
    "duration": 76,
    "start_time": "2023-01-29T13:43:15.435Z"
   },
   {
    "duration": 159,
    "start_time": "2023-01-29T13:43:15.513Z"
   },
   {
    "duration": 4,
    "start_time": "2023-01-29T13:43:15.674Z"
   },
   {
    "duration": 44,
    "start_time": "2023-01-29T13:43:15.680Z"
   },
   {
    "duration": 35,
    "start_time": "2023-01-29T13:43:15.727Z"
   },
   {
    "duration": 83,
    "start_time": "2023-01-29T13:43:15.764Z"
   },
   {
    "duration": 12,
    "start_time": "2023-01-29T13:43:15.849Z"
   },
   {
    "duration": 12,
    "start_time": "2023-01-29T13:43:15.863Z"
   },
   {
    "duration": 301,
    "start_time": "2023-01-29T13:43:15.922Z"
   },
   {
    "duration": 10,
    "start_time": "2023-01-29T13:43:16.225Z"
   },
   {
    "duration": 5,
    "start_time": "2023-01-29T13:43:16.238Z"
   },
   {
    "duration": 402,
    "start_time": "2023-01-29T13:43:16.245Z"
   },
   {
    "duration": 321,
    "start_time": "2023-01-29T13:43:16.652Z"
   },
   {
    "duration": 16,
    "start_time": "2023-01-29T13:43:16.975Z"
   },
   {
    "duration": 449,
    "start_time": "2023-01-29T13:43:16.992Z"
   },
   {
    "duration": 9,
    "start_time": "2023-01-29T13:43:17.443Z"
   },
   {
    "duration": 329,
    "start_time": "2023-01-29T13:43:17.454Z"
   },
   {
    "duration": 464,
    "start_time": "2023-01-29T13:43:17.785Z"
   },
   {
    "duration": 16,
    "start_time": "2023-01-29T13:43:18.250Z"
   },
   {
    "duration": 177,
    "start_time": "2023-01-29T13:43:18.269Z"
   },
   {
    "duration": 344,
    "start_time": "2023-01-29T13:43:18.448Z"
   },
   {
    "duration": 181,
    "start_time": "2023-01-29T13:43:18.794Z"
   },
   {
    "duration": 373,
    "start_time": "2023-01-29T13:43:18.977Z"
   },
   {
    "duration": 5,
    "start_time": "2023-01-29T13:43:19.352Z"
   },
   {
    "duration": 237,
    "start_time": "2023-01-29T13:43:19.359Z"
   },
   {
    "duration": 152,
    "start_time": "2023-01-29T13:43:19.598Z"
   },
   {
    "duration": 6,
    "start_time": "2023-01-29T13:43:19.752Z"
   },
   {
    "duration": 29,
    "start_time": "2023-01-29T13:43:19.760Z"
   },
   {
    "duration": 32,
    "start_time": "2023-01-29T13:43:19.791Z"
   },
   {
    "duration": 12,
    "start_time": "2023-01-29T13:43:19.825Z"
   },
   {
    "duration": 13,
    "start_time": "2023-01-29T13:43:19.839Z"
   },
   {
    "duration": 25,
    "start_time": "2023-01-29T13:43:19.855Z"
   },
   {
    "duration": 44,
    "start_time": "2023-01-29T13:43:19.881Z"
   },
   {
    "duration": 1335,
    "start_time": "2023-01-30T11:22:42.731Z"
   },
   {
    "duration": 190,
    "start_time": "2023-01-30T11:22:44.069Z"
   },
   {
    "duration": 113,
    "start_time": "2023-01-30T11:22:44.260Z"
   },
   {
    "duration": 3,
    "start_time": "2023-01-30T11:22:44.375Z"
   },
   {
    "duration": 32,
    "start_time": "2023-01-30T11:22:44.380Z"
   },
   {
    "duration": 28,
    "start_time": "2023-01-30T11:22:44.414Z"
   },
   {
    "duration": 74,
    "start_time": "2023-01-30T11:22:44.443Z"
   },
   {
    "duration": 11,
    "start_time": "2023-01-30T11:22:44.518Z"
   },
   {
    "duration": 10,
    "start_time": "2023-01-30T11:22:44.530Z"
   },
   {
    "duration": 266,
    "start_time": "2023-01-30T11:22:44.544Z"
   },
   {
    "duration": 8,
    "start_time": "2023-01-30T11:22:44.811Z"
   },
   {
    "duration": 24,
    "start_time": "2023-01-30T11:22:44.820Z"
   },
   {
    "duration": 364,
    "start_time": "2023-01-30T11:22:44.846Z"
   },
   {
    "duration": 288,
    "start_time": "2023-01-30T11:22:45.211Z"
   },
   {
    "duration": 20,
    "start_time": "2023-01-30T11:22:45.501Z"
   },
   {
    "duration": 410,
    "start_time": "2023-01-30T11:22:45.523Z"
   },
   {
    "duration": 8,
    "start_time": "2023-01-30T11:22:45.934Z"
   },
   {
    "duration": 277,
    "start_time": "2023-01-30T11:22:45.944Z"
   },
   {
    "duration": 392,
    "start_time": "2023-01-30T11:22:46.222Z"
   },
   {
    "duration": 12,
    "start_time": "2023-01-30T11:22:46.616Z"
   },
   {
    "duration": 166,
    "start_time": "2023-01-30T11:22:46.629Z"
   },
   {
    "duration": 254,
    "start_time": "2023-01-30T11:22:46.797Z"
   },
   {
    "duration": 134,
    "start_time": "2023-01-30T11:22:47.053Z"
   },
   {
    "duration": 303,
    "start_time": "2023-01-30T11:22:47.189Z"
   },
   {
    "duration": 4,
    "start_time": "2023-01-30T11:22:47.494Z"
   },
   {
    "duration": 221,
    "start_time": "2023-01-30T11:22:47.509Z"
   },
   {
    "duration": 142,
    "start_time": "2023-01-30T11:22:47.732Z"
   },
   {
    "duration": 6,
    "start_time": "2023-01-30T11:22:47.877Z"
   },
   {
    "duration": 29,
    "start_time": "2023-01-30T11:22:47.885Z"
   },
   {
    "duration": 9,
    "start_time": "2023-01-30T11:22:47.916Z"
   },
   {
    "duration": 22,
    "start_time": "2023-01-30T11:22:47.927Z"
   },
   {
    "duration": 14,
    "start_time": "2023-01-30T11:22:47.951Z"
   },
   {
    "duration": 33,
    "start_time": "2023-01-30T11:22:47.967Z"
   },
   {
    "duration": 14,
    "start_time": "2023-01-30T11:22:48.009Z"
   },
   {
    "duration": 2319,
    "start_time": "2023-03-22T17:44:49.612Z"
   },
   {
    "duration": 262,
    "start_time": "2023-03-22T17:44:51.932Z"
   },
   {
    "duration": 251,
    "start_time": "2023-03-22T17:44:52.196Z"
   },
   {
    "duration": 4,
    "start_time": "2023-03-22T17:44:52.509Z"
   },
   {
    "duration": 12,
    "start_time": "2023-03-22T17:44:52.515Z"
   },
   {
    "duration": 91,
    "start_time": "2023-03-22T17:44:52.529Z"
   },
   {
    "duration": 110,
    "start_time": "2023-03-22T17:44:52.621Z"
   },
   {
    "duration": 81,
    "start_time": "2023-03-22T17:44:52.733Z"
   },
   {
    "duration": 12,
    "start_time": "2023-03-22T17:44:52.817Z"
   },
   {
    "duration": 520,
    "start_time": "2023-03-22T17:44:52.831Z"
   },
   {
    "duration": 9,
    "start_time": "2023-03-22T17:44:53.410Z"
   },
   {
    "duration": 43,
    "start_time": "2023-03-22T17:44:53.421Z"
   },
   {
    "duration": 849,
    "start_time": "2023-03-22T17:44:53.466Z"
   },
   {
    "duration": 606,
    "start_time": "2023-03-22T17:44:54.317Z"
   },
   {
    "duration": 14,
    "start_time": "2023-03-22T17:44:54.925Z"
   },
   {
    "duration": 979,
    "start_time": "2023-03-22T17:44:54.941Z"
   },
   {
    "duration": 9,
    "start_time": "2023-03-22T17:44:55.922Z"
   },
   {
    "duration": 679,
    "start_time": "2023-03-22T17:44:55.933Z"
   },
   {
    "duration": 716,
    "start_time": "2023-03-22T17:44:56.614Z"
   },
   {
    "duration": 10,
    "start_time": "2023-03-22T17:44:57.332Z"
   },
   {
    "duration": 276,
    "start_time": "2023-03-22T17:44:57.343Z"
   },
   {
    "duration": 516,
    "start_time": "2023-03-22T17:44:57.621Z"
   },
   {
    "duration": 213,
    "start_time": "2023-03-22T17:44:58.138Z"
   },
   {
    "duration": 903,
    "start_time": "2023-03-22T17:44:58.352Z"
   },
   {
    "duration": 4,
    "start_time": "2023-03-22T17:44:59.311Z"
   },
   {
    "duration": 433,
    "start_time": "2023-03-22T17:44:59.317Z"
   },
   {
    "duration": 270,
    "start_time": "2023-03-22T17:44:59.754Z"
   },
   {
    "duration": 7,
    "start_time": "2023-03-22T17:45:00.025Z"
   },
   {
    "duration": 99,
    "start_time": "2023-03-22T17:45:00.034Z"
   },
   {
    "duration": 10,
    "start_time": "2023-03-22T17:45:00.135Z"
   },
   {
    "duration": 71,
    "start_time": "2023-03-22T17:45:00.147Z"
   },
   {
    "duration": 37,
    "start_time": "2023-03-22T17:45:00.219Z"
   },
   {
    "duration": 72,
    "start_time": "2023-03-22T17:45:00.258Z"
   },
   {
    "duration": 16,
    "start_time": "2023-03-22T17:45:00.332Z"
   },
   {
    "duration": 3154,
    "start_time": "2023-03-23T10:51:05.323Z"
   },
   {
    "duration": 462,
    "start_time": "2023-03-23T10:51:08.486Z"
   },
   {
    "duration": 609,
    "start_time": "2023-03-23T10:51:08.950Z"
   },
   {
    "duration": 12,
    "start_time": "2023-03-23T10:51:09.561Z"
   },
   {
    "duration": 15,
    "start_time": "2023-03-23T10:51:09.581Z"
   },
   {
    "duration": 110,
    "start_time": "2023-03-23T10:51:09.648Z"
   },
   {
    "duration": 278,
    "start_time": "2023-03-23T10:51:09.768Z"
   },
   {
    "duration": 101,
    "start_time": "2023-03-23T10:51:10.048Z"
   },
   {
    "duration": 26,
    "start_time": "2023-03-23T10:51:10.151Z"
   },
   {
    "duration": 1170,
    "start_time": "2023-03-23T10:51:10.181Z"
   },
   {
    "duration": 30,
    "start_time": "2023-03-23T10:51:11.358Z"
   },
   {
    "duration": 54,
    "start_time": "2023-03-23T10:51:11.394Z"
   },
   {
    "duration": 1648,
    "start_time": "2023-03-23T10:51:11.449Z"
   },
   {
    "duration": 1181,
    "start_time": "2023-03-23T10:51:13.101Z"
   },
   {
    "duration": 74,
    "start_time": "2023-03-23T10:51:14.291Z"
   },
   {
    "duration": 1417,
    "start_time": "2023-03-23T10:51:14.380Z"
   },
   {
    "duration": 54,
    "start_time": "2023-03-23T10:51:15.799Z"
   },
   {
    "duration": 1328,
    "start_time": "2023-03-23T10:51:15.856Z"
   },
   {
    "duration": 1338,
    "start_time": "2023-03-23T10:51:17.241Z"
   },
   {
    "duration": 68,
    "start_time": "2023-03-23T10:51:18.581Z"
   },
   {
    "duration": 804,
    "start_time": "2023-03-23T10:51:18.651Z"
   },
   {
    "duration": 1309,
    "start_time": "2023-03-23T10:51:19.457Z"
   },
   {
    "duration": 384,
    "start_time": "2023-03-23T10:51:20.770Z"
   },
   {
    "duration": 1690,
    "start_time": "2023-03-23T10:51:21.155Z"
   },
   {
    "duration": 8,
    "start_time": "2023-03-23T10:51:22.847Z"
   },
   {
    "duration": 1014,
    "start_time": "2023-03-23T10:51:22.857Z"
   },
   {
    "duration": 510,
    "start_time": "2023-03-23T10:51:23.877Z"
   },
   {
    "duration": 44,
    "start_time": "2023-03-23T10:51:24.441Z"
   },
   {
    "duration": 186,
    "start_time": "2023-03-23T10:51:24.492Z"
   },
   {
    "duration": 78,
    "start_time": "2023-03-23T10:51:24.690Z"
   },
   {
    "duration": 107,
    "start_time": "2023-03-23T10:51:24.769Z"
   },
   {
    "duration": 66,
    "start_time": "2023-03-23T10:51:24.878Z"
   },
   {
    "duration": 109,
    "start_time": "2023-03-23T10:51:24.945Z"
   },
   {
    "duration": 32,
    "start_time": "2023-03-23T10:51:25.056Z"
   }
  ],
  "kernelspec": {
   "display_name": "Python 3 (ipykernel)",
   "language": "python",
   "name": "python3"
  },
  "language_info": {
   "codemirror_mode": {
    "name": "ipython",
    "version": 3
   },
   "file_extension": ".py",
   "mimetype": "text/x-python",
   "name": "python",
   "nbconvert_exporter": "python",
   "pygments_lexer": "ipython3",
   "version": "3.9.16"
  },
  "toc": {
   "base_numbering": 1,
   "nav_menu": {},
   "number_sections": true,
   "sideBar": true,
   "skip_h1_title": true,
   "title_cell": "Table of Contents",
   "title_sidebar": "Contents",
   "toc_cell": false,
   "toc_position": {
    "height": "calc(100% - 180px)",
    "left": "10px",
    "top": "150px",
    "width": "581.594px"
   },
   "toc_section_display": true,
   "toc_window_display": true
  }
 },
 "nbformat": 4,
 "nbformat_minor": 2
}
