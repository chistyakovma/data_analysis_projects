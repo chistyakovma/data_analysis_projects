{
 "cells": [
  {
   "cell_type": "markdown",
   "metadata": {},
   "source": [
    "# Дашборд для анализа поведения пользователей приложения"
   ]
  },
  {
   "cell_type": "markdown",
   "metadata": {},
   "source": [
    "Задача:\n",
    "1. Набор №1\n",
    "    1. Постройте диаграмму распределения количества событий по типу события.\n",
    "    2. Добавьте индикатор количества пользователей.\n",
    "    3. Добавьте фильтр дашборда по дате совершения события.\n",
    "2. Набор №2\n",
    "    1. Постройте диаграмму, отображающую количество событий по дням.\n",
    "    2. Постройте гистограмму, отображающую количество пользователей, пришедших из разных источников.\n",
    "    3. Добавьте фильтр дашборда по типу события."
   ]
  },
  {
   "cell_type": "markdown",
   "metadata": {},
   "source": [
    "Датасет содержит данные о событиях, совершенных в мобильном приложении \"Ненужные вещи\". В нем пользователи продают свои ненужные вещи, размещая их на доске объявлений.\n",
    "\n",
    "В датасете содержатся данные пользователей, впервые совершивших действия в приложении после 7 октября 2019 года.\n",
    "\n",
    "Колонки в *mobile_sources.csv*: \n",
    "\n",
    "- `userId` — идентификатор пользователя,\n",
    "- `source` — источник, с которого пользователь установил приложение.\n",
    "\n",
    "Колонки в *mobile_dataset.csv*:\n",
    "\n",
    "- `event.time` — время совершения,\n",
    "- `user.id` — идентификатор пользователя,\n",
    "- `event.name` — действие пользователя.\n",
    "\n",
    "Виды действий:\n",
    "\n",
    "- `advert_open` — открыл карточки объявления,\n",
    "- `photos_show` — просмотрел фотографий в объявлении,\n",
    "- `tips_show` — увидел рекомендованные объявления,\n",
    "- `tips_click` — кликнул по рекомендованному объявлению,\n",
    "- `contacts_show` и `show_contacts` — посмотрел номер телефона,\n",
    "- `contacts_call` — позвонил по номеру из объявления,\n",
    "- `map` — открыл карту объявлений,\n",
    "- `search_1`—`search_7` — разные действия, связанные с поиском по сайту,\n",
    "- `favorites_add` — добавил объявление в избранное."
   ]
  },
  {
   "cell_type": "code",
   "execution_count": 1,
   "metadata": {
    "scrolled": true
   },
   "outputs": [
    {
     "data": {
      "text/html": [
       "<div>\n",
       "<style scoped>\n",
       "    .dataframe tbody tr th:only-of-type {\n",
       "        vertical-align: middle;\n",
       "    }\n",
       "\n",
       "    .dataframe tbody tr th {\n",
       "        vertical-align: top;\n",
       "    }\n",
       "\n",
       "    .dataframe thead th {\n",
       "        text-align: right;\n",
       "    }\n",
       "</style>\n",
       "<table border=\"1\" class=\"dataframe\">\n",
       "  <thead>\n",
       "    <tr style=\"text-align: right;\">\n",
       "      <th></th>\n",
       "      <th>userId</th>\n",
       "      <th>source</th>\n",
       "    </tr>\n",
       "  </thead>\n",
       "  <tbody>\n",
       "    <tr>\n",
       "      <th>0</th>\n",
       "      <td>020292ab-89bc-4156-9acf-68bc2783f894</td>\n",
       "      <td>other</td>\n",
       "    </tr>\n",
       "    <tr>\n",
       "      <th>1</th>\n",
       "      <td>cf7eda61-9349-469f-ac27-e5b6f5ec475c</td>\n",
       "      <td>yandex</td>\n",
       "    </tr>\n",
       "    <tr>\n",
       "      <th>2</th>\n",
       "      <td>8c356c42-3ba9-4cb6-80b8-3f868d0192c3</td>\n",
       "      <td>yandex</td>\n",
       "    </tr>\n",
       "    <tr>\n",
       "      <th>3</th>\n",
       "      <td>d9b06b47-0f36-419b-bbb0-3533e582a6cb</td>\n",
       "      <td>other</td>\n",
       "    </tr>\n",
       "    <tr>\n",
       "      <th>4</th>\n",
       "      <td>f32e1e2a-3027-4693-b793-b7b3ff274439</td>\n",
       "      <td>google</td>\n",
       "    </tr>\n",
       "  </tbody>\n",
       "</table>\n",
       "</div>"
      ],
      "text/plain": [
       "                                 userId  source\n",
       "0  020292ab-89bc-4156-9acf-68bc2783f894   other\n",
       "1  cf7eda61-9349-469f-ac27-e5b6f5ec475c  yandex\n",
       "2  8c356c42-3ba9-4cb6-80b8-3f868d0192c3  yandex\n",
       "3  d9b06b47-0f36-419b-bbb0-3533e582a6cb   other\n",
       "4  f32e1e2a-3027-4693-b793-b7b3ff274439  google"
      ]
     },
     "metadata": {},
     "output_type": "display_data"
    },
    {
     "data": {
      "text/html": [
       "<div>\n",
       "<style scoped>\n",
       "    .dataframe tbody tr th:only-of-type {\n",
       "        vertical-align: middle;\n",
       "    }\n",
       "\n",
       "    .dataframe tbody tr th {\n",
       "        vertical-align: top;\n",
       "    }\n",
       "\n",
       "    .dataframe thead th {\n",
       "        text-align: right;\n",
       "    }\n",
       "</style>\n",
       "<table border=\"1\" class=\"dataframe\">\n",
       "  <thead>\n",
       "    <tr style=\"text-align: right;\">\n",
       "      <th></th>\n",
       "      <th>event.time</th>\n",
       "      <th>event.name</th>\n",
       "      <th>user.id</th>\n",
       "    </tr>\n",
       "  </thead>\n",
       "  <tbody>\n",
       "    <tr>\n",
       "      <th>0</th>\n",
       "      <td>2019-10-07 00:00:00.431357</td>\n",
       "      <td>advert_open</td>\n",
       "      <td>020292ab-89bc-4156-9acf-68bc2783f894</td>\n",
       "    </tr>\n",
       "    <tr>\n",
       "      <th>1</th>\n",
       "      <td>2019-10-07 00:00:01.236320</td>\n",
       "      <td>tips_show</td>\n",
       "      <td>020292ab-89bc-4156-9acf-68bc2783f894</td>\n",
       "    </tr>\n",
       "    <tr>\n",
       "      <th>2</th>\n",
       "      <td>2019-10-07 00:00:02.245341</td>\n",
       "      <td>tips_show</td>\n",
       "      <td>cf7eda61-9349-469f-ac27-e5b6f5ec475c</td>\n",
       "    </tr>\n",
       "    <tr>\n",
       "      <th>3</th>\n",
       "      <td>2019-10-07 00:00:07.039334</td>\n",
       "      <td>tips_show</td>\n",
       "      <td>020292ab-89bc-4156-9acf-68bc2783f894</td>\n",
       "    </tr>\n",
       "    <tr>\n",
       "      <th>4</th>\n",
       "      <td>2019-10-07 00:00:56.319813</td>\n",
       "      <td>advert_open</td>\n",
       "      <td>cf7eda61-9349-469f-ac27-e5b6f5ec475c</td>\n",
       "    </tr>\n",
       "  </tbody>\n",
       "</table>\n",
       "</div>"
      ],
      "text/plain": [
       "                   event.time   event.name  \\\n",
       "0  2019-10-07 00:00:00.431357  advert_open   \n",
       "1  2019-10-07 00:00:01.236320    tips_show   \n",
       "2  2019-10-07 00:00:02.245341    tips_show   \n",
       "3  2019-10-07 00:00:07.039334    tips_show   \n",
       "4  2019-10-07 00:00:56.319813  advert_open   \n",
       "\n",
       "                                user.id  \n",
       "0  020292ab-89bc-4156-9acf-68bc2783f894  \n",
       "1  020292ab-89bc-4156-9acf-68bc2783f894  \n",
       "2  cf7eda61-9349-469f-ac27-e5b6f5ec475c  \n",
       "3  020292ab-89bc-4156-9acf-68bc2783f894  \n",
       "4  cf7eda61-9349-469f-ac27-e5b6f5ec475c  "
      ]
     },
     "metadata": {},
     "output_type": "display_data"
    },
    {
     "data": {
      "text/html": [
       "<div>\n",
       "<style scoped>\n",
       "    .dataframe tbody tr th:only-of-type {\n",
       "        vertical-align: middle;\n",
       "    }\n",
       "\n",
       "    .dataframe tbody tr th {\n",
       "        vertical-align: top;\n",
       "    }\n",
       "\n",
       "    .dataframe thead th {\n",
       "        text-align: right;\n",
       "    }\n",
       "</style>\n",
       "<table border=\"1\" class=\"dataframe\">\n",
       "  <thead>\n",
       "    <tr style=\"text-align: right;\">\n",
       "      <th></th>\n",
       "      <th>user_id</th>\n",
       "      <th>source</th>\n",
       "      <th>event_time</th>\n",
       "      <th>event_name</th>\n",
       "    </tr>\n",
       "  </thead>\n",
       "  <tbody>\n",
       "    <tr>\n",
       "      <th>0</th>\n",
       "      <td>020292ab-89bc-4156-9acf-68bc2783f894</td>\n",
       "      <td>other</td>\n",
       "      <td>2019-10-07 00:00:00.431357</td>\n",
       "      <td>advert_open</td>\n",
       "    </tr>\n",
       "    <tr>\n",
       "      <th>1</th>\n",
       "      <td>020292ab-89bc-4156-9acf-68bc2783f894</td>\n",
       "      <td>other</td>\n",
       "      <td>2019-10-07 00:00:01.236320</td>\n",
       "      <td>tips_show</td>\n",
       "    </tr>\n",
       "    <tr>\n",
       "      <th>2</th>\n",
       "      <td>020292ab-89bc-4156-9acf-68bc2783f894</td>\n",
       "      <td>other</td>\n",
       "      <td>2019-10-07 00:00:07.039334</td>\n",
       "      <td>tips_show</td>\n",
       "    </tr>\n",
       "    <tr>\n",
       "      <th>3</th>\n",
       "      <td>020292ab-89bc-4156-9acf-68bc2783f894</td>\n",
       "      <td>other</td>\n",
       "      <td>2019-10-07 00:01:27.770232</td>\n",
       "      <td>advert_open</td>\n",
       "    </tr>\n",
       "    <tr>\n",
       "      <th>4</th>\n",
       "      <td>020292ab-89bc-4156-9acf-68bc2783f894</td>\n",
       "      <td>other</td>\n",
       "      <td>2019-10-07 00:01:34.804591</td>\n",
       "      <td>tips_show</td>\n",
       "    </tr>\n",
       "  </tbody>\n",
       "</table>\n",
       "</div>"
      ],
      "text/plain": [
       "                                user_id source                 event_time  \\\n",
       "0  020292ab-89bc-4156-9acf-68bc2783f894  other 2019-10-07 00:00:00.431357   \n",
       "1  020292ab-89bc-4156-9acf-68bc2783f894  other 2019-10-07 00:00:01.236320   \n",
       "2  020292ab-89bc-4156-9acf-68bc2783f894  other 2019-10-07 00:00:07.039334   \n",
       "3  020292ab-89bc-4156-9acf-68bc2783f894  other 2019-10-07 00:01:27.770232   \n",
       "4  020292ab-89bc-4156-9acf-68bc2783f894  other 2019-10-07 00:01:34.804591   \n",
       "\n",
       "    event_name  \n",
       "0  advert_open  \n",
       "1    tips_show  \n",
       "2    tips_show  \n",
       "3  advert_open  \n",
       "4    tips_show  "
      ]
     },
     "metadata": {},
     "output_type": "display_data"
    },
    {
     "name": "stdout",
     "output_type": "stream",
     "text": [
      "<class 'pandas.core.frame.DataFrame'>\n",
      "Int64Index: 74197 entries, 0 to 74196\n",
      "Data columns (total 4 columns):\n",
      " #   Column      Non-Null Count  Dtype         \n",
      "---  ------      --------------  -----         \n",
      " 0   user_id     74197 non-null  object        \n",
      " 1   source      74197 non-null  object        \n",
      " 2   event_time  74197 non-null  datetime64[ns]\n",
      " 3   event_name  74197 non-null  object        \n",
      "dtypes: datetime64[ns](1), object(3)\n",
      "memory usage: 2.8+ MB\n"
     ]
    },
    {
     "data": {
      "text/plain": [
       "None"
      ]
     },
     "metadata": {},
     "output_type": "display_data"
    }
   ],
   "source": [
    "# импортируем библиотеки\n",
    "import pandas as pd\n",
    "mobile_sources = pd.read_csv('https://code.s3.yandex.net/datasets/mobile_sources.csv')\n",
    "mobile_dataset = pd.read_csv('https://code.s3.yandex.net/datasets/mobile_dataset.csv')\n",
    "display (mobile_sources.head())\n",
    "display (mobile_dataset.head())\n",
    "mobile_sources = mobile_sources.rename(\n",
    "    columns = {'userId': 'user_id', 'source': 'source'})\n",
    "mobile_dataset = mobile_dataset.rename(\n",
    "    columns = {'event.time': 'event_time', 'event.name': 'event_name', 'user.id': 'user_id'})\n",
    "#обьединим датасеты\n",
    "df = mobile_sources.merge(mobile_dataset, on='user_id')\n",
    "#приведение данных к необходимым типам\n",
    "df['event_time'] = pd.to_datetime(df['event_time'])\n",
    "display (df.head())\n",
    "display (df.info())\n",
    "\n",
    "#импортируем фрейм в файл mobile_dataset.csv\n",
    "df.to_csv(r'C:\\Users\\Mlkhall\\Documents\\DA\\mobile.csv')"
   ]
  },
  {
   "attachments": {},
   "cell_type": "markdown",
   "metadata": {},
   "source": [
    "Ссылка на дашборт в Tableau Public\n",
    "https://public.tableau.com/app/profile/mlkhall/viz/mobile_analysis/sheet3?publish=yes\n",
    "\n",
    "\n",
    "Ссылка на презентацию\n",
    "https://disk.yandex.ru/i/5gcjk4r5HumOcw"
   ]
  }
 ],
 "metadata": {
  "ExecuteTimeLog": [
   {
    "duration": 774,
    "start_time": "2023-03-25T08:08:45.566Z"
   },
   {
    "duration": 165,
    "start_time": "2023-03-25T08:09:18.863Z"
   },
   {
    "duration": 141,
    "start_time": "2023-03-25T08:09:31.235Z"
   },
   {
    "duration": 155,
    "start_time": "2023-03-25T08:10:07.507Z"
   },
   {
    "duration": 293,
    "start_time": "2023-03-25T08:10:38.236Z"
   },
   {
    "duration": 111,
    "start_time": "2023-03-25T08:11:24.910Z"
   },
   {
    "duration": 123,
    "start_time": "2023-03-25T08:14:56.429Z"
   },
   {
    "duration": 751,
    "start_time": "2023-03-25T08:16:25.743Z"
   },
   {
    "duration": 75,
    "start_time": "2023-03-25T08:16:26.496Z"
   },
   {
    "duration": 828,
    "start_time": "2023-03-25T08:16:45.459Z"
   },
   {
    "duration": 1006,
    "start_time": "2023-03-25T08:16:46.290Z"
   },
   {
    "duration": 807,
    "start_time": "2023-03-25T08:35:26.707Z"
   },
   {
    "duration": 115,
    "start_time": "2023-03-25T08:35:27.519Z"
   },
   {
    "duration": 686,
    "start_time": "2023-03-25T08:36:41.193Z"
   },
   {
    "duration": 531,
    "start_time": "2023-03-25T08:54:07.032Z"
   },
   {
    "duration": 583,
    "start_time": "2023-03-25T08:54:09.893Z"
   },
   {
    "duration": 113,
    "start_time": "2023-03-25T08:54:39.611Z"
   },
   {
    "duration": 723,
    "start_time": "2023-03-25T08:55:40.675Z"
   },
   {
    "duration": 924,
    "start_time": "2023-03-25T09:41:25.229Z"
   },
   {
    "duration": 544,
    "start_time": "2023-03-25T09:42:49.813Z"
   },
   {
    "duration": 1416,
    "start_time": "2023-03-25T09:48:26.901Z"
   },
   {
    "duration": 1412,
    "start_time": "2023-03-25T09:48:35.131Z"
   },
   {
    "duration": 1418,
    "start_time": "2023-03-25T09:49:39.851Z"
   },
   {
    "duration": 1712,
    "start_time": "2023-03-25T09:50:01.811Z"
   },
   {
    "duration": 342,
    "start_time": "2023-03-25T09:53:18.498Z"
   },
   {
    "duration": 1182,
    "start_time": "2023-03-25T09:59:25.359Z"
   },
   {
    "duration": 1256,
    "start_time": "2023-03-25T10:00:01.002Z"
   },
   {
    "duration": 469,
    "start_time": "2023-03-25T10:07:14.720Z"
   },
   {
    "duration": 700,
    "start_time": "2023-03-25T10:08:22.964Z"
   },
   {
    "duration": 1196,
    "start_time": "2023-03-25T10:28:02.392Z"
   },
   {
    "duration": 1472,
    "start_time": "2023-03-25T13:55:52.141Z"
   }
  ],
  "kernelspec": {
   "display_name": "Python 3 (ipykernel)",
   "language": "python",
   "name": "python3"
  },
  "language_info": {
   "codemirror_mode": {
    "name": "ipython",
    "version": 3
   },
   "file_extension": ".py",
   "mimetype": "text/x-python",
   "name": "python",
   "nbconvert_exporter": "python",
   "pygments_lexer": "ipython3",
   "version": "3.10.9"
  },
  "toc": {
   "base_numbering": 1,
   "nav_menu": {},
   "number_sections": true,
   "sideBar": true,
   "skip_h1_title": true,
   "title_cell": "Table of Contents",
   "title_sidebar": "Contents",
   "toc_cell": false,
   "toc_position": {},
   "toc_section_display": true,
   "toc_window_display": false
  }
 },
 "nbformat": 4,
 "nbformat_minor": 2
}
